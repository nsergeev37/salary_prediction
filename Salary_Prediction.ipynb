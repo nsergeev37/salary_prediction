{
  "cells": [
    {
      "cell_type": "markdown",
      "metadata": {
        "id": "13pL--6rycN3"
      },
      "source": [
        "# Using CNN for salary prediction based on job description\n",
        "_Reference: Pre-processing part of this project is partially based on my homework which was based on YSDA NLP github [materials](https://github.com/yandexdataschool/nlp_course/blob/master/week02_classification/seminar.ipynb)_\n",
        "\n"
      ]
    },
    {
      "cell_type": "code",
      "source": [
        "!pip uninstall -y numpy\n",
        "!pip install numpy==1.23.5 scipy==1.10.1 gensim==4.3.2 transformers==4.37.0\n",
        "!pip install --force-reinstall scipy gensim transformers"
      ],
      "metadata": {
        "colab": {
          "base_uri": "https://localhost:8080/",
          "height": 1000
        },
        "id": "h7AgtBKGeWLa",
        "outputId": "de3b5b14-876e-47d6-a198-d94597e828fe"
      },
      "execution_count": null,
      "outputs": [
        {
          "output_type": "stream",
          "name": "stdout",
          "text": [
            "Found existing installation: numpy 1.23.5\n",
            "Uninstalling numpy-1.23.5:\n",
            "  Successfully uninstalled numpy-1.23.5\n",
            "Collecting numpy==1.23.5\n",
            "  Using cached numpy-1.23.5-cp311-cp311-manylinux_2_17_x86_64.manylinux2014_x86_64.whl.metadata (2.3 kB)\n",
            "Requirement already satisfied: scipy==1.10.1 in /usr/local/lib/python3.11/dist-packages (1.10.1)\n",
            "Requirement already satisfied: gensim==4.3.2 in /usr/local/lib/python3.11/dist-packages (4.3.2)\n",
            "Requirement already satisfied: transformers==4.37.0 in /usr/local/lib/python3.11/dist-packages (4.37.0)\n",
            "Requirement already satisfied: smart-open>=1.8.1 in /usr/local/lib/python3.11/dist-packages (from gensim==4.3.2) (7.1.0)\n",
            "Requirement already satisfied: filelock in /usr/local/lib/python3.11/dist-packages (from transformers==4.37.0) (3.18.0)\n",
            "Requirement already satisfied: huggingface-hub<1.0,>=0.19.3 in /usr/local/lib/python3.11/dist-packages (from transformers==4.37.0) (0.30.2)\n",
            "Requirement already satisfied: packaging>=20.0 in /usr/local/lib/python3.11/dist-packages (from transformers==4.37.0) (24.2)\n",
            "Requirement already satisfied: pyyaml>=5.1 in /usr/local/lib/python3.11/dist-packages (from transformers==4.37.0) (6.0.2)\n",
            "Requirement already satisfied: regex!=2019.12.17 in /usr/local/lib/python3.11/dist-packages (from transformers==4.37.0) (2024.11.6)\n",
            "Requirement already satisfied: requests in /usr/local/lib/python3.11/dist-packages (from transformers==4.37.0) (2.32.3)\n",
            "Requirement already satisfied: tokenizers<0.19,>=0.14 in /usr/local/lib/python3.11/dist-packages (from transformers==4.37.0) (0.15.2)\n",
            "Requirement already satisfied: safetensors>=0.3.1 in /usr/local/lib/python3.11/dist-packages (from transformers==4.37.0) (0.5.3)\n",
            "Requirement already satisfied: tqdm>=4.27 in /usr/local/lib/python3.11/dist-packages (from transformers==4.37.0) (4.67.1)\n",
            "Requirement already satisfied: fsspec>=2023.5.0 in /usr/local/lib/python3.11/dist-packages (from huggingface-hub<1.0,>=0.19.3->transformers==4.37.0) (2025.3.2)\n",
            "Requirement already satisfied: typing-extensions>=3.7.4.3 in /usr/local/lib/python3.11/dist-packages (from huggingface-hub<1.0,>=0.19.3->transformers==4.37.0) (4.13.2)\n",
            "Requirement already satisfied: wrapt in /usr/local/lib/python3.11/dist-packages (from smart-open>=1.8.1->gensim==4.3.2) (1.17.2)\n",
            "Requirement already satisfied: charset-normalizer<4,>=2 in /usr/local/lib/python3.11/dist-packages (from requests->transformers==4.37.0) (3.4.1)\n",
            "Requirement already satisfied: idna<4,>=2.5 in /usr/local/lib/python3.11/dist-packages (from requests->transformers==4.37.0) (3.10)\n",
            "Requirement already satisfied: urllib3<3,>=1.21.1 in /usr/local/lib/python3.11/dist-packages (from requests->transformers==4.37.0) (2.4.0)\n",
            "Requirement already satisfied: certifi>=2017.4.17 in /usr/local/lib/python3.11/dist-packages (from requests->transformers==4.37.0) (2025.4.26)\n",
            "Using cached numpy-1.23.5-cp311-cp311-manylinux_2_17_x86_64.manylinux2014_x86_64.whl (17.1 MB)\n",
            "Installing collected packages: numpy\n",
            "\u001b[31mERROR: pip's dependency resolver does not currently take into account all the packages that are installed. This behaviour is the source of the following dependency conflicts.\n",
            "jaxlib 0.5.1 requires numpy>=1.25, but you have numpy 1.23.5 which is incompatible.\n",
            "jaxlib 0.5.1 requires scipy>=1.11.1, but you have scipy 1.10.1 which is incompatible.\n",
            "sentence-transformers 3.4.1 requires transformers<5.0.0,>=4.41.0, but you have transformers 4.37.0 which is incompatible.\n",
            "treescope 0.1.9 requires numpy>=1.25.2, but you have numpy 1.23.5 which is incompatible.\n",
            "bigframes 2.1.0 requires numpy>=1.24.0, but you have numpy 1.23.5 which is incompatible.\n",
            "imbalanced-learn 0.13.0 requires numpy<3,>=1.24.3, but you have numpy 1.23.5 which is incompatible.\n",
            "jax 0.5.2 requires numpy>=1.25, but you have numpy 1.23.5 which is incompatible.\n",
            "jax 0.5.2 requires scipy>=1.11.1, but you have scipy 1.10.1 which is incompatible.\n",
            "albumentations 2.0.6 requires numpy>=1.24.4, but you have numpy 1.23.5 which is incompatible.\n",
            "pymc 5.22.0 requires numpy>=1.25.0, but you have numpy 1.23.5 which is incompatible.\n",
            "cvxpy 1.6.5 requires scipy>=1.11.0, but you have scipy 1.10.1 which is incompatible.\n",
            "tensorflow 2.18.0 requires numpy<2.1.0,>=1.26.0, but you have numpy 1.23.5 which is incompatible.\n",
            "thinc 8.3.6 requires numpy<3.0.0,>=2.0.0, but you have numpy 1.23.5 which is incompatible.\n",
            "scikit-image 0.25.2 requires numpy>=1.24, but you have numpy 1.23.5 which is incompatible.\n",
            "scikit-image 0.25.2 requires scipy>=1.11.4, but you have scipy 1.10.1 which is incompatible.\n",
            "xarray 2025.3.1 requires numpy>=1.24, but you have numpy 1.23.5 which is incompatible.\n",
            "albucore 0.0.24 requires numpy>=1.24.4, but you have numpy 1.23.5 which is incompatible.\n",
            "blosc2 3.3.2 requires numpy>=1.26, but you have numpy 1.23.5 which is incompatible.\n",
            "chex 0.1.89 requires numpy>=1.24.1, but you have numpy 1.23.5 which is incompatible.\u001b[0m\u001b[31m\n",
            "\u001b[0mSuccessfully installed numpy-1.23.5\n"
          ]
        },
        {
          "output_type": "display_data",
          "data": {
            "application/vnd.colab-display-data+json": {
              "pip_warning": {
                "packages": [
                  "numpy"
                ]
              },
              "id": "b3e69eb40a1d47d0a09a40b749ba75ae"
            }
          },
          "metadata": {}
        },
        {
          "output_type": "stream",
          "name": "stdout",
          "text": [
            "Collecting scipy\n",
            "  Using cached scipy-1.15.3-cp311-cp311-manylinux_2_17_x86_64.manylinux2014_x86_64.whl.metadata (61 kB)\n",
            "Collecting gensim\n",
            "  Using cached gensim-4.3.3-cp311-cp311-manylinux_2_17_x86_64.manylinux2014_x86_64.whl.metadata (8.1 kB)\n",
            "Collecting transformers\n",
            "  Using cached transformers-4.51.3-py3-none-any.whl.metadata (38 kB)\n",
            "Collecting numpy<2.5,>=1.23.5 (from scipy)\n",
            "  Using cached numpy-2.2.5-cp311-cp311-manylinux_2_17_x86_64.manylinux2014_x86_64.whl.metadata (62 kB)\n",
            "  Using cached numpy-1.26.4-cp311-cp311-manylinux_2_17_x86_64.manylinux2014_x86_64.whl.metadata (61 kB)\n",
            "Collecting scipy\n",
            "  Using cached scipy-1.13.1-cp311-cp311-manylinux_2_17_x86_64.manylinux2014_x86_64.whl.metadata (60 kB)\n",
            "Collecting smart-open>=1.8.1 (from gensim)\n",
            "  Using cached smart_open-7.1.0-py3-none-any.whl.metadata (24 kB)\n",
            "Collecting filelock (from transformers)\n",
            "  Using cached filelock-3.18.0-py3-none-any.whl.metadata (2.9 kB)\n",
            "Collecting huggingface-hub<1.0,>=0.30.0 (from transformers)\n",
            "  Using cached huggingface_hub-0.31.1-py3-none-any.whl.metadata (13 kB)\n",
            "Collecting packaging>=20.0 (from transformers)\n",
            "  Using cached packaging-25.0-py3-none-any.whl.metadata (3.3 kB)\n",
            "Collecting pyyaml>=5.1 (from transformers)\n",
            "  Using cached PyYAML-6.0.2-cp311-cp311-manylinux_2_17_x86_64.manylinux2014_x86_64.whl.metadata (2.1 kB)\n",
            "Collecting regex!=2019.12.17 (from transformers)\n",
            "  Downloading regex-2024.11.6-cp311-cp311-manylinux_2_17_x86_64.manylinux2014_x86_64.whl.metadata (40 kB)\n",
            "\u001b[2K     \u001b[90m━━━━━━━━━━━━━━━━━━━━━━━━━━━━━━━━━━━━━━━━\u001b[0m \u001b[32m40.5/40.5 kB\u001b[0m \u001b[31m4.1 MB/s\u001b[0m eta \u001b[36m0:00:00\u001b[0m\n",
            "\u001b[?25hCollecting requests (from transformers)\n",
            "  Downloading requests-2.32.3-py3-none-any.whl.metadata (4.6 kB)\n",
            "Collecting tokenizers<0.22,>=0.21 (from transformers)\n",
            "  Downloading tokenizers-0.21.1-cp39-abi3-manylinux_2_17_x86_64.manylinux2014_x86_64.whl.metadata (6.8 kB)\n",
            "Collecting safetensors>=0.4.3 (from transformers)\n",
            "  Downloading safetensors-0.5.3-cp38-abi3-manylinux_2_17_x86_64.manylinux2014_x86_64.whl.metadata (3.8 kB)\n",
            "Collecting tqdm>=4.27 (from transformers)\n",
            "  Downloading tqdm-4.67.1-py3-none-any.whl.metadata (57 kB)\n",
            "\u001b[2K     \u001b[90m━━━━━━━━━━━━━━━━━━━━━━━━━━━━━━━━━━━━━━━━\u001b[0m \u001b[32m57.7/57.7 kB\u001b[0m \u001b[31m6.4 MB/s\u001b[0m eta \u001b[36m0:00:00\u001b[0m\n",
            "\u001b[?25hCollecting fsspec>=2023.5.0 (from huggingface-hub<1.0,>=0.30.0->transformers)\n",
            "  Downloading fsspec-2025.3.2-py3-none-any.whl.metadata (11 kB)\n",
            "Collecting typing-extensions>=3.7.4.3 (from huggingface-hub<1.0,>=0.30.0->transformers)\n",
            "  Downloading typing_extensions-4.13.2-py3-none-any.whl.metadata (3.0 kB)\n",
            "Collecting hf-xet<2.0.0,>=1.1.0 (from huggingface-hub<1.0,>=0.30.0->transformers)\n",
            "  Downloading hf_xet-1.1.0-cp37-abi3-manylinux_2_17_x86_64.manylinux2014_x86_64.whl.metadata (494 bytes)\n",
            "Collecting wrapt (from smart-open>=1.8.1->gensim)\n",
            "  Downloading wrapt-1.17.2-cp311-cp311-manylinux_2_5_x86_64.manylinux1_x86_64.manylinux_2_17_x86_64.manylinux2014_x86_64.whl.metadata (6.4 kB)\n",
            "Collecting charset-normalizer<4,>=2 (from requests->transformers)\n",
            "  Downloading charset_normalizer-3.4.2-cp311-cp311-manylinux_2_17_x86_64.manylinux2014_x86_64.whl.metadata (35 kB)\n",
            "Collecting idna<4,>=2.5 (from requests->transformers)\n",
            "  Downloading idna-3.10-py3-none-any.whl.metadata (10 kB)\n",
            "Collecting urllib3<3,>=1.21.1 (from requests->transformers)\n",
            "  Downloading urllib3-2.4.0-py3-none-any.whl.metadata (6.5 kB)\n",
            "Collecting certifi>=2017.4.17 (from requests->transformers)\n",
            "  Downloading certifi-2025.4.26-py3-none-any.whl.metadata (2.5 kB)\n",
            "Downloading gensim-4.3.3-cp311-cp311-manylinux_2_17_x86_64.manylinux2014_x86_64.whl (26.7 MB)\n",
            "\u001b[2K   \u001b[90m━━━━━━━━━━━━━━━━━━━━━━━━━━━━━━━━━━━━━━━━\u001b[0m \u001b[32m26.7/26.7 MB\u001b[0m \u001b[31m88.7 MB/s\u001b[0m eta \u001b[36m0:00:00\u001b[0m\n",
            "\u001b[?25hDownloading scipy-1.13.1-cp311-cp311-manylinux_2_17_x86_64.manylinux2014_x86_64.whl (38.6 MB)\n",
            "\u001b[2K   \u001b[90m━━━━━━━━━━━━━━━━━━━━━━━━━━━━━━━━━━━━━━━━\u001b[0m \u001b[32m38.6/38.6 MB\u001b[0m \u001b[31m15.3 MB/s\u001b[0m eta \u001b[36m0:00:00\u001b[0m\n",
            "\u001b[?25hDownloading transformers-4.51.3-py3-none-any.whl (10.4 MB)\n",
            "\u001b[2K   \u001b[90m━━━━━━━━━━━━━━━━━━━━━━━━━━━━━━━━━━━━━━━━\u001b[0m \u001b[32m10.4/10.4 MB\u001b[0m \u001b[31m135.8 MB/s\u001b[0m eta \u001b[36m0:00:00\u001b[0m\n",
            "\u001b[?25hDownloading huggingface_hub-0.31.1-py3-none-any.whl (484 kB)\n",
            "\u001b[2K   \u001b[90m━━━━━━━━━━━━━━━━━━━━━━━━━━━━━━━━━━━━━━━━\u001b[0m \u001b[32m484.3/484.3 kB\u001b[0m \u001b[31m47.2 MB/s\u001b[0m eta \u001b[36m0:00:00\u001b[0m\n",
            "\u001b[?25hDownloading numpy-1.26.4-cp311-cp311-manylinux_2_17_x86_64.manylinux2014_x86_64.whl (18.3 MB)\n",
            "\u001b[2K   \u001b[90m━━━━━━━━━━━━━━━━━━━━━━━━━━━━━━━━━━━━━━━━\u001b[0m \u001b[32m18.3/18.3 MB\u001b[0m \u001b[31m114.3 MB/s\u001b[0m eta \u001b[36m0:00:00\u001b[0m\n",
            "\u001b[?25hDownloading packaging-25.0-py3-none-any.whl (66 kB)\n",
            "\u001b[2K   \u001b[90m━━━━━━━━━━━━━━━━━━━━━━━━━━━━━━━━━━━━━━━━\u001b[0m \u001b[32m66.5/66.5 kB\u001b[0m \u001b[31m7.8 MB/s\u001b[0m eta \u001b[36m0:00:00\u001b[0m\n",
            "\u001b[?25hDownloading PyYAML-6.0.2-cp311-cp311-manylinux_2_17_x86_64.manylinux2014_x86_64.whl (762 kB)\n",
            "\u001b[2K   \u001b[90m━━━━━━━━━━━━━━━━━━━━━━━━━━━━━━━━━━━━━━━━\u001b[0m \u001b[32m763.0/763.0 kB\u001b[0m \u001b[31m59.5 MB/s\u001b[0m eta \u001b[36m0:00:00\u001b[0m\n",
            "\u001b[?25hDownloading regex-2024.11.6-cp311-cp311-manylinux_2_17_x86_64.manylinux2014_x86_64.whl (792 kB)\n",
            "\u001b[2K   \u001b[90m━━━━━━━━━━━━━━━━━━━━━━━━━━━━━━━━━━━━━━━━\u001b[0m \u001b[32m792.7/792.7 kB\u001b[0m \u001b[31m61.2 MB/s\u001b[0m eta \u001b[36m0:00:00\u001b[0m\n",
            "\u001b[?25hDownloading safetensors-0.5.3-cp38-abi3-manylinux_2_17_x86_64.manylinux2014_x86_64.whl (471 kB)\n",
            "\u001b[2K   \u001b[90m━━━━━━━━━━━━━━━━━━━━━━━━━━━━━━━━━━━━━━━━\u001b[0m \u001b[32m471.6/471.6 kB\u001b[0m \u001b[31m42.1 MB/s\u001b[0m eta \u001b[36m0:00:00\u001b[0m\n",
            "\u001b[?25hDownloading smart_open-7.1.0-py3-none-any.whl (61 kB)\n",
            "\u001b[2K   \u001b[90m━━━━━━━━━━━━━━━━━━━━━━━━━━━━━━━━━━━━━━━━\u001b[0m \u001b[32m61.7/61.7 kB\u001b[0m \u001b[31m6.9 MB/s\u001b[0m eta \u001b[36m0:00:00\u001b[0m\n",
            "\u001b[?25hDownloading tokenizers-0.21.1-cp39-abi3-manylinux_2_17_x86_64.manylinux2014_x86_64.whl (3.0 MB)\n",
            "\u001b[2K   \u001b[90m━━━━━━━━━━━━━━━━━━━━━━━━━━━━━━━━━━━━━━━━\u001b[0m \u001b[32m3.0/3.0 MB\u001b[0m \u001b[31m110.2 MB/s\u001b[0m eta \u001b[36m0:00:00\u001b[0m\n",
            "\u001b[?25hDownloading tqdm-4.67.1-py3-none-any.whl (78 kB)\n",
            "\u001b[2K   \u001b[90m━━━━━━━━━━━━━━━━━━━━━━━━━━━━━━━━━━━━━━━━\u001b[0m \u001b[32m78.5/78.5 kB\u001b[0m \u001b[31m8.7 MB/s\u001b[0m eta \u001b[36m0:00:00\u001b[0m\n",
            "\u001b[?25hDownloading filelock-3.18.0-py3-none-any.whl (16 kB)\n",
            "Downloading requests-2.32.3-py3-none-any.whl (64 kB)\n",
            "\u001b[2K   \u001b[90m━━━━━━━━━━━━━━━━━━━━━━━━━━━━━━━━━━━━━━━━\u001b[0m \u001b[32m64.9/64.9 kB\u001b[0m \u001b[31m7.4 MB/s\u001b[0m eta \u001b[36m0:00:00\u001b[0m\n",
            "\u001b[?25hDownloading certifi-2025.4.26-py3-none-any.whl (159 kB)\n",
            "\u001b[2K   \u001b[90m━━━━━━━━━━━━━━━━━━━━━━━━━━━━━━━━━━━━━━━━\u001b[0m \u001b[32m159.6/159.6 kB\u001b[0m \u001b[31m18.3 MB/s\u001b[0m eta \u001b[36m0:00:00\u001b[0m\n",
            "\u001b[?25hDownloading charset_normalizer-3.4.2-cp311-cp311-manylinux_2_17_x86_64.manylinux2014_x86_64.whl (147 kB)\n",
            "\u001b[2K   \u001b[90m━━━━━━━━━━━━━━━━━━━━━━━━━━━━━━━━━━━━━━━━\u001b[0m \u001b[32m147.3/147.3 kB\u001b[0m \u001b[31m17.8 MB/s\u001b[0m eta \u001b[36m0:00:00\u001b[0m\n",
            "\u001b[?25hDownloading fsspec-2025.3.2-py3-none-any.whl (194 kB)\n",
            "\u001b[2K   \u001b[90m━━━━━━━━━━━━━━━━━━━━━━━━━━━━━━━━━━━━━━━━\u001b[0m \u001b[32m194.4/194.4 kB\u001b[0m \u001b[31m23.5 MB/s\u001b[0m eta \u001b[36m0:00:00\u001b[0m\n",
            "\u001b[?25hDownloading hf_xet-1.1.0-cp37-abi3-manylinux_2_17_x86_64.manylinux2014_x86_64.whl (53.6 MB)\n",
            "\u001b[2K   \u001b[90m━━━━━━━━━━━━━━━━━━━━━━━━━━━━━━━━━━━━━━━━\u001b[0m \u001b[32m53.6/53.6 MB\u001b[0m \u001b[31m19.7 MB/s\u001b[0m eta \u001b[36m0:00:00\u001b[0m\n",
            "\u001b[?25hDownloading idna-3.10-py3-none-any.whl (70 kB)\n",
            "\u001b[2K   \u001b[90m━━━━━━━━━━━━━━━━━━━━━━━━━━━━━━━━━━━━━━━━\u001b[0m \u001b[32m70.4/70.4 kB\u001b[0m \u001b[31m7.9 MB/s\u001b[0m eta \u001b[36m0:00:00\u001b[0m\n",
            "\u001b[?25hDownloading typing_extensions-4.13.2-py3-none-any.whl (45 kB)\n",
            "\u001b[2K   \u001b[90m━━━━━━━━━━━━━━━━━━━━━━━━━━━━━━━━━━━━━━━━\u001b[0m \u001b[32m45.8/45.8 kB\u001b[0m \u001b[31m4.8 MB/s\u001b[0m eta \u001b[36m0:00:00\u001b[0m\n",
            "\u001b[?25hDownloading urllib3-2.4.0-py3-none-any.whl (128 kB)\n",
            "\u001b[2K   \u001b[90m━━━━━━━━━━━━━━━━━━━━━━━━━━━━━━━━━━━━━━━━\u001b[0m \u001b[32m128.7/128.7 kB\u001b[0m \u001b[31m14.4 MB/s\u001b[0m eta \u001b[36m0:00:00\u001b[0m\n",
            "\u001b[?25hDownloading wrapt-1.17.2-cp311-cp311-manylinux_2_5_x86_64.manylinux1_x86_64.manylinux_2_17_x86_64.manylinux2014_x86_64.whl (83 kB)\n",
            "\u001b[2K   \u001b[90m━━━━━━━━━━━━━━━━━━━━━━━━━━━━━━━━━━━━━━━━\u001b[0m \u001b[32m83.2/83.2 kB\u001b[0m \u001b[31m9.6 MB/s\u001b[0m eta \u001b[36m0:00:00\u001b[0m\n",
            "\u001b[?25hInstalling collected packages: wrapt, urllib3, typing-extensions, tqdm, safetensors, regex, pyyaml, packaging, numpy, idna, hf-xet, fsspec, filelock, charset-normalizer, certifi, smart-open, scipy, requests, huggingface-hub, gensim, tokenizers, transformers\n",
            "  Attempting uninstall: wrapt\n",
            "    Found existing installation: wrapt 1.17.2\n",
            "    Uninstalling wrapt-1.17.2:\n",
            "      Successfully uninstalled wrapt-1.17.2\n",
            "  Attempting uninstall: urllib3\n",
            "    Found existing installation: urllib3 2.4.0\n",
            "    Uninstalling urllib3-2.4.0:\n",
            "      Successfully uninstalled urllib3-2.4.0\n",
            "  Attempting uninstall: typing-extensions\n",
            "    Found existing installation: typing_extensions 4.13.2\n",
            "    Uninstalling typing_extensions-4.13.2:\n",
            "      Successfully uninstalled typing_extensions-4.13.2\n",
            "  Attempting uninstall: tqdm\n",
            "    Found existing installation: tqdm 4.67.1\n",
            "    Uninstalling tqdm-4.67.1:\n",
            "      Successfully uninstalled tqdm-4.67.1\n",
            "  Attempting uninstall: safetensors\n",
            "    Found existing installation: safetensors 0.5.3\n",
            "    Uninstalling safetensors-0.5.3:\n",
            "      Successfully uninstalled safetensors-0.5.3\n",
            "  Attempting uninstall: regex\n",
            "    Found existing installation: regex 2024.11.6\n",
            "    Uninstalling regex-2024.11.6:\n",
            "      Successfully uninstalled regex-2024.11.6\n",
            "  Attempting uninstall: pyyaml\n",
            "    Found existing installation: PyYAML 6.0.2\n",
            "    Uninstalling PyYAML-6.0.2:\n",
            "      Successfully uninstalled PyYAML-6.0.2\n",
            "  Attempting uninstall: packaging\n",
            "    Found existing installation: packaging 24.2\n",
            "    Uninstalling packaging-24.2:\n",
            "      Successfully uninstalled packaging-24.2\n",
            "  Attempting uninstall: numpy\n",
            "    Found existing installation: numpy 1.23.5\n",
            "    Uninstalling numpy-1.23.5:\n",
            "      Successfully uninstalled numpy-1.23.5\n",
            "  Attempting uninstall: idna\n",
            "    Found existing installation: idna 3.10\n",
            "    Uninstalling idna-3.10:\n",
            "      Successfully uninstalled idna-3.10\n",
            "  Attempting uninstall: fsspec\n",
            "    Found existing installation: fsspec 2025.3.2\n",
            "    Uninstalling fsspec-2025.3.2:\n",
            "      Successfully uninstalled fsspec-2025.3.2\n",
            "  Attempting uninstall: filelock\n",
            "    Found existing installation: filelock 3.18.0\n",
            "    Uninstalling filelock-3.18.0:\n",
            "      Successfully uninstalled filelock-3.18.0\n",
            "  Attempting uninstall: charset-normalizer\n",
            "    Found existing installation: charset-normalizer 3.4.1\n",
            "    Uninstalling charset-normalizer-3.4.1:\n",
            "      Successfully uninstalled charset-normalizer-3.4.1\n",
            "  Attempting uninstall: certifi\n",
            "    Found existing installation: certifi 2025.4.26\n",
            "    Uninstalling certifi-2025.4.26:\n",
            "      Successfully uninstalled certifi-2025.4.26\n",
            "  Attempting uninstall: smart-open\n",
            "    Found existing installation: smart-open 7.1.0\n",
            "    Uninstalling smart-open-7.1.0:\n",
            "      Successfully uninstalled smart-open-7.1.0\n",
            "  Attempting uninstall: scipy\n",
            "    Found existing installation: scipy 1.10.1\n",
            "    Uninstalling scipy-1.10.1:\n",
            "      Successfully uninstalled scipy-1.10.1\n",
            "  Attempting uninstall: requests\n",
            "    Found existing installation: requests 2.32.3\n",
            "    Uninstalling requests-2.32.3:\n",
            "      Successfully uninstalled requests-2.32.3\n",
            "  Attempting uninstall: huggingface-hub\n",
            "    Found existing installation: huggingface-hub 0.30.2\n",
            "    Uninstalling huggingface-hub-0.30.2:\n",
            "      Successfully uninstalled huggingface-hub-0.30.2\n",
            "  Attempting uninstall: gensim\n",
            "    Found existing installation: gensim 4.3.2\n",
            "    Uninstalling gensim-4.3.2:\n",
            "      Successfully uninstalled gensim-4.3.2\n",
            "  Attempting uninstall: tokenizers\n",
            "    Found existing installation: tokenizers 0.15.2\n",
            "    Uninstalling tokenizers-0.15.2:\n",
            "      Successfully uninstalled tokenizers-0.15.2\n",
            "  Attempting uninstall: transformers\n",
            "    Found existing installation: transformers 4.37.0\n",
            "    Uninstalling transformers-4.37.0:\n",
            "      Successfully uninstalled transformers-4.37.0\n",
            "\u001b[31mERROR: pip's dependency resolver does not currently take into account all the packages that are installed. This behaviour is the source of the following dependency conflicts.\n",
            "torch 2.6.0+cu124 requires nvidia-cublas-cu12==12.4.5.8; platform_system == \"Linux\" and platform_machine == \"x86_64\", but you have nvidia-cublas-cu12 12.5.3.2 which is incompatible.\n",
            "torch 2.6.0+cu124 requires nvidia-cuda-cupti-cu12==12.4.127; platform_system == \"Linux\" and platform_machine == \"x86_64\", but you have nvidia-cuda-cupti-cu12 12.5.82 which is incompatible.\n",
            "torch 2.6.0+cu124 requires nvidia-cuda-nvrtc-cu12==12.4.127; platform_system == \"Linux\" and platform_machine == \"x86_64\", but you have nvidia-cuda-nvrtc-cu12 12.5.82 which is incompatible.\n",
            "torch 2.6.0+cu124 requires nvidia-cuda-runtime-cu12==12.4.127; platform_system == \"Linux\" and platform_machine == \"x86_64\", but you have nvidia-cuda-runtime-cu12 12.5.82 which is incompatible.\n",
            "torch 2.6.0+cu124 requires nvidia-cudnn-cu12==9.1.0.70; platform_system == \"Linux\" and platform_machine == \"x86_64\", but you have nvidia-cudnn-cu12 9.3.0.75 which is incompatible.\n",
            "torch 2.6.0+cu124 requires nvidia-cufft-cu12==11.2.1.3; platform_system == \"Linux\" and platform_machine == \"x86_64\", but you have nvidia-cufft-cu12 11.2.3.61 which is incompatible.\n",
            "torch 2.6.0+cu124 requires nvidia-curand-cu12==10.3.5.147; platform_system == \"Linux\" and platform_machine == \"x86_64\", but you have nvidia-curand-cu12 10.3.6.82 which is incompatible.\n",
            "torch 2.6.0+cu124 requires nvidia-cusolver-cu12==11.6.1.9; platform_system == \"Linux\" and platform_machine == \"x86_64\", but you have nvidia-cusolver-cu12 11.6.3.83 which is incompatible.\n",
            "torch 2.6.0+cu124 requires nvidia-cusparse-cu12==12.3.1.170; platform_system == \"Linux\" and platform_machine == \"x86_64\", but you have nvidia-cusparse-cu12 12.5.1.3 which is incompatible.\n",
            "torch 2.6.0+cu124 requires nvidia-nvjitlink-cu12==12.4.127; platform_system == \"Linux\" and platform_machine == \"x86_64\", but you have nvidia-nvjitlink-cu12 12.5.82 which is incompatible.\n",
            "langchain-core 0.3.56 requires packaging<25,>=23.2, but you have packaging 25.0 which is incompatible.\n",
            "thinc 8.3.6 requires numpy<3.0.0,>=2.0.0, but you have numpy 1.26.4 which is incompatible.\u001b[0m\u001b[31m\n",
            "\u001b[0mSuccessfully installed certifi-2025.4.26 charset-normalizer-3.4.2 filelock-3.18.0 fsspec-2025.3.2 gensim-4.3.3 hf-xet-1.1.0 huggingface-hub-0.31.1 idna-3.10 numpy-1.26.4 packaging-25.0 pyyaml-6.0.2 regex-2024.11.6 requests-2.32.3 safetensors-0.5.3 scipy-1.13.1 smart-open-7.1.0 tokenizers-0.21.1 tqdm-4.67.1 transformers-4.51.3 typing-extensions-4.13.2 urllib3-2.4.0 wrapt-1.17.2\n"
          ]
        },
        {
          "output_type": "display_data",
          "data": {
            "application/vnd.colab-display-data+json": {
              "pip_warning": {
                "packages": [
                  "certifi"
                ]
              },
              "id": "8040417c989541e18a3786c4aee51a2e"
            }
          },
          "metadata": {}
        }
      ]
    },
    {
      "cell_type": "code",
      "source": [
        "from tqdm import tqdm\n",
        "import torch\n",
        "import torch.nn as nn\n",
        "from sentence_transformers import SentenceTransformer\n",
        "from sklearn.feature_extraction import DictVectorizer\n",
        "import numpy as np\n",
        "from tqdm import tqdm\n",
        "import matplotlib.pyplot as plt\n",
        "import numpy as np"
      ],
      "metadata": {
        "id": "yfQvsERFKUTI"
      },
      "execution_count": 1,
      "outputs": []
    },
    {
      "cell_type": "markdown",
      "metadata": {
        "id": "34x92vWQycN_"
      },
      "source": [
        "## Goal\n",
        "We'll work with dataset from Kaggle Job Salsry prediction competition trying to use different Types of Neural Networks for Salary prediction. Including CNN, RNN, multi-headed models and pretrained models"
      ]
    },
    {
      "cell_type": "code",
      "execution_count": 2,
      "metadata": {
        "colab": {
          "base_uri": "https://localhost:8080/"
        },
        "id": "vwN72gd4ycOA",
        "outputId": "68813968-1ba8-4efb-98de-ec7a364b3e68"
      },
      "outputs": [
        {
          "output_type": "stream",
          "name": "stdout",
          "text": [
            "  % Total    % Received % Xferd  Average Speed   Time    Time     Time  Current\n",
            "                                 Dload  Upload   Total   Spent    Left  Speed\n",
            "100   138  100   138    0     0    188      0 --:--:-- --:--:-- --:--:--   188\n",
            "100    17  100    17    0     0     13      0  0:00:01  0:00:01 --:--:--     0\n",
            "100   475    0   475    0     0    235      0 --:--:--  0:00:02 --:--:--   235\n",
            "100  119M  100  119M    0     0  29.2M      0  0:00:04  0:00:04 --:--:-- 85.0M\n"
          ]
        }
      ],
      "source": [
        "!curl -L \"https://www.dropbox.com/s/5msc5ix7ndyba10/Train_rev1.csv.tar.gz?dl=1\" -o Train_rev1.csv.tar.gz\n",
        "!tar xzf Train_rev1.csv.tar.gz"
      ]
    },
    {
      "cell_type": "code",
      "source": [
        "!ls"
      ],
      "metadata": {
        "colab": {
          "base_uri": "https://localhost:8080/"
        },
        "id": "iad8R8a1d_mc",
        "outputId": "d7f2af7e-c2d7-4a0f-df01-bf617323a4fe"
      },
      "execution_count": 3,
      "outputs": [
        {
          "output_type": "stream",
          "name": "stdout",
          "text": [
            "sample_data  Train_rev1.csv  Train_rev1.csv.tar.gz\n"
          ]
        }
      ]
    },
    {
      "cell_type": "code",
      "execution_count": 4,
      "metadata": {
        "id": "xIjzhbXEpHfT"
      },
      "outputs": [],
      "source": [
        "import pandas as pd\n",
        "\n",
        "data = pd.read_csv(\"Train_rev1.csv\", index_col=None)\n"
      ]
    },
    {
      "cell_type": "markdown",
      "source": [
        "##Feature Engeneering"
      ],
      "metadata": {
        "id": "9TIJO6lPq5uQ"
      }
    },
    {
      "cell_type": "markdown",
      "metadata": {
        "id": "z7kznuJfycOH"
      },
      "source": [
        "First, let's summarize our target variable in order to somehow cope with the fact that there are a lot of outliers among salaries - extremely high values."
      ]
    },
    {
      "cell_type": "code",
      "execution_count": 5,
      "metadata": {
        "colab": {
          "base_uri": "https://localhost:8080/",
          "height": 368
        },
        "id": "UuuKIKfrycOH",
        "outputId": "02c93bf9-b8f0-4f59-eb21-de751981da2b"
      },
      "outputs": [
        {
          "output_type": "display_data",
          "data": {
            "text/plain": [
              "<Figure size 800x400 with 2 Axes>"
            ],
            "image/png": "[encoded data removed]"
          },
          "metadata": {}
        }
      ],
      "source": [
        "data[\"Log1pSalary\"] = np.log1p(data[\"SalaryNormalized\"]).astype(\"float32\")\n",
        "\n",
        "plt.figure(figsize=[8, 4])\n",
        "plt.subplot(1, 2, 1)\n",
        "plt.hist(data[\"SalaryNormalized\"], bins=20)\n",
        "\n",
        "plt.subplot(1, 2, 2)\n",
        "plt.hist(data[\"Log1pSalary\"], bins=20)\n",
        "\n",
        "plt.show()"
      ]
    },
    {
      "cell_type": "markdown",
      "metadata": {
        "id": "Fcu-qmHRycOK"
      },
      "source": [
        "to predict __Log1pSalary__ we have following set of features:\n",
        "* Free text: __`Title`__ and  __`FullDescription`__\n",
        "* Categorical: __`Category`__, __`Company`__, __`LocationNormalized`__, __`ContractType`__, and __`ContractTime`__."
      ]
    },
    {
      "cell_type": "code",
      "execution_count": 6,
      "metadata": {
        "id": "p9vyA_erycOK"
      },
      "outputs": [],
      "source": [
        "text_columns = [\"Title\", \"FullDescription\"]\n",
        "categorical_columns = [\"Category\", \"Company\", \"LocationNormalized\", \"ContractType\", \"ContractTime\"]\n",
        "target_column = \"Log1pSalary\"\n",
        "\n",
        "data[categorical_columns] = data[categorical_columns].fillna(\"NaN\")\n",
        "data[text_columns] = data[text_columns].fillna(\"NaN\")\n"
      ]
    },
    {
      "cell_type": "markdown",
      "metadata": {
        "id": "IUdclucmycON"
      },
      "source": [
        "Let's start with tokenizing Title and Full Description features\n",
        "\n"
      ]
    },
    {
      "cell_type": "code",
      "execution_count": 7,
      "metadata": {
        "colab": {
          "base_uri": "https://localhost:8080/"
        },
        "id": "YzeOxD_aycOO",
        "outputId": "97f64adf-caab-4429-91b4-29f03da5fd1e"
      },
      "outputs": [
        {
          "output_type": "stream",
          "name": "stdout",
          "text": [
            "Raw text:\n",
            "2         Mathematical Modeller / Simulation Analyst / O...\n",
            "100002    A successful and high achieving specialist sch...\n",
            "200002    Web Designer  HTML, CSS, JavaScript, Photoshop...\n",
            "Name: FullDescription, dtype: object\n"
          ]
        }
      ],
      "source": [
        "print(\"Raw text:\")\n",
        "print(data[\"FullDescription\"][2::100000])"
      ]
    },
    {
      "cell_type": "code",
      "execution_count": 8,
      "metadata": {
        "id": "RUWkpd7PycOQ",
        "colab": {
          "base_uri": "https://localhost:8080/"
        },
        "outputId": "13f9138e-97c5-400f-a7fe-37e2a0ee4951"
      },
      "outputs": [
        {
          "output_type": "stream",
          "name": "stderr",
          "text": [
            "/tmp/ipython-input-3271027076.py:11: FutureWarning: DataFrame.applymap has been deprecated. Use DataFrame.map instead.\n",
            "  data[text_columns] = data[text_columns].applymap(normalize)\n"
          ]
        }
      ],
      "source": [
        "from nltk.tokenize import WordPunctTokenizer\n",
        "\n",
        "\n",
        "tokenizer = WordPunctTokenizer()\n",
        "\n",
        "def normalize(text):  # noqa: E302\n",
        "    tokens = tokenizer.tokenize(str(text).lower())\n",
        "    return \" \".join(tokens)\n",
        "\n",
        "\n",
        "data[text_columns] = data[text_columns].applymap(normalize)"
      ]
    },
    {
      "cell_type": "code",
      "source": [
        "data[text_columns].iloc[0, 0]"
      ],
      "metadata": {
        "colab": {
          "base_uri": "https://localhost:8080/",
          "height": 36
        },
        "id": "tmDA7GLO7sv1",
        "outputId": "6294f044-3159-4caf-c5c2-9175c5fde4b0"
      },
      "execution_count": 9,
      "outputs": [
        {
          "output_type": "execute_result",
          "data": {
            "text/plain": [
              "'engineering systems analyst'"
            ],
            "application/vnd.google.colaboratory.intrinsic+json": {
              "type": "string"
            }
          },
          "metadata": {},
          "execution_count": 9
        }
      ]
    },
    {
      "cell_type": "code",
      "execution_count": 10,
      "metadata": {
        "colab": {
          "base_uri": "https://localhost:8080/"
        },
        "id": "Gs-6lnS_ycOU",
        "outputId": "d8da2248-80fa-448b-d8f4-1d79c07774f6"
      },
      "outputs": [
        {
          "output_type": "stream",
          "name": "stdout",
          "text": [
            "Tokenized:\n",
            "2         mathematical modeller / simulation analyst / o...\n",
            "100002    a successful and high achieving specialist sch...\n",
            "200002    web designer html , css , javascript , photosh...\n",
            "Name: FullDescription, dtype: object\n"
          ]
        }
      ],
      "source": [
        "print(\"Tokenized:\")\n",
        "print(data[\"FullDescription\"][2::100000])\n",
        "assert data[\"FullDescription\"][2][:50] == \"mathematical modeller / simulation analyst / opera\"\n",
        "assert data[\"Title\"][54321] == \"international digital account manager ( german )\""
      ]
    },
    {
      "cell_type": "markdown",
      "metadata": {
        "id": "ouE3L2hyycOX"
      },
      "source": [
        "Not all words are equally useful. Some of them are typos or rare words that are only present a few times.\n",
        "\n",
        "Let's count how many times is each word present in the data so that we can build a \"white list\" of known words."
      ]
    },
    {
      "cell_type": "code",
      "execution_count": 11,
      "metadata": {
        "id": "iC7hBwwjycOX"
      },
      "outputs": [],
      "source": [
        "from collections import Counter\n",
        "\n",
        "token_counts = Counter()\n",
        "for text in data[text_columns].values.flatten():\n",
        "    token_counts.update(text.split(\" \"))"
      ]
    },
    {
      "cell_type": "code",
      "execution_count": 12,
      "metadata": {
        "colab": {
          "base_uri": "https://localhost:8080/"
        },
        "id": "GiOWbc15ycOb",
        "outputId": "b01897aa-4508-452d-da7a-be6aea3d9a3e"
      },
      "outputs": [
        {
          "output_type": "stream",
          "name": "stdout",
          "text": [
            "Total unique tokens : 202704\n",
            "('and', 2657388)\n",
            "('.', 2523216)\n",
            "(',', 2318606)\n",
            "('the', 2080994)\n",
            "('to', 2019884)\n",
            "...\n",
            "('stephanietraveltraderecruitmnt', 1)\n",
            "('ruabon', 1)\n",
            "('lowehays', 1)\n",
            "Correct!\n"
          ]
        }
      ],
      "source": [
        "print(\"Total unique tokens :\", len(token_counts))\n",
        "print(\"\\n\".join(map(str, token_counts.most_common(n=5))))\n",
        "print(\"...\")\n",
        "print(\"\\n\".join(map(str, token_counts.most_common()[-3:])))\n",
        "\n",
        "assert token_counts.most_common(1)[0][1] in range(2600000, 2700000)\n",
        "assert len(token_counts) in range(200000, 210000)\n",
        "print(\"Correct!\")"
      ]
    },
    {
      "cell_type": "markdown",
      "source": [
        "Let's see how many words are there for each count."
      ],
      "metadata": {
        "id": "W2ih1LV4YhtL"
      }
    },
    {
      "cell_type": "code",
      "execution_count": 13,
      "metadata": {
        "colab": {
          "base_uri": "https://localhost:8080/",
          "height": 449
        },
        "id": "nd5v3BNfycOf",
        "outputId": "e0d424b0-8509-4d4a-a963-dce2e1146ffa"
      },
      "outputs": [
        {
          "output_type": "display_data",
          "data": {
            "text/plain": [
              "<Figure size 640x480 with 1 Axes>"
            ],
            "image/png": "[encoded data removed]"
          },
          "metadata": {}
        }
      ],
      "source": [
        "plt.hist(list(token_counts.values()), range=[0, 10 ** 4], bins=50, log=True)\n",
        "plt.xlabel(\"Word counts\")\n",
        "plt.show()"
      ]
    },
    {
      "cell_type": "markdown",
      "metadata": {
        "id": "znuXxeghycOh"
      },
      "source": [
        "Now we will filter tokens a list of all tokens that occur at least 10 times."
      ]
    },
    {
      "cell_type": "code",
      "execution_count": 14,
      "metadata": {
        "id": "SeNFBWx5ycOh"
      },
      "outputs": [],
      "source": [
        "min_count = 10\n",
        "\n",
        "tokens = [token for token, count in token_counts.items() if count >= min_count]"
      ]
    },
    {
      "cell_type": "code",
      "source": [],
      "metadata": {
        "id": "8FO6xN5wSiob"
      },
      "execution_count": null,
      "outputs": []
    },
    {
      "cell_type": "code",
      "execution_count": 15,
      "metadata": {
        "colab": {
          "base_uri": "https://localhost:8080/"
        },
        "id": "RATIRyPKycOk",
        "outputId": "973c4c33-bf4f-4541-9339-ceacb9a6d4c1"
      },
      "outputs": [
        {
          "output_type": "stream",
          "name": "stdout",
          "text": [
            "Vocabulary size: 34158\n",
            "Correct!\n"
          ]
        }
      ],
      "source": [
        "# Add a special tokens for unknown and empty words\n",
        "UNK, PAD = \"UNK\", \"PAD\"\n",
        "tokens = [UNK, PAD] + sorted(tokens)\n",
        "print(\"Vocabulary size:\", len(tokens))\n",
        "\n",
        "assert type(tokens) == list\n",
        "assert len(tokens) in range(32000, 35000)\n",
        "assert \"me\" in tokens\n",
        "assert UNK in tokens\n",
        "print(\"Correct!\")"
      ]
    },
    {
      "cell_type": "code",
      "source": [
        "len(set(tokens))"
      ],
      "metadata": {
        "colab": {
          "base_uri": "https://localhost:8080/"
        },
        "id": "nA40gl00lUKb",
        "outputId": "670659a0-300c-4a10-9ee3-1737b9b168c3"
      },
      "execution_count": 16,
      "outputs": [
        {
          "output_type": "execute_result",
          "data": {
            "text/plain": [
              "34158"
            ]
          },
          "metadata": {},
          "execution_count": 16
        }
      ]
    },
    {
      "cell_type": "markdown",
      "metadata": {
        "id": "cqEsgbjZycOo"
      },
      "source": [
        "Build an inverse token index: a dictionary from token to it's index in `tokens`."
      ]
    },
    {
      "cell_type": "code",
      "execution_count": 17,
      "metadata": {
        "id": "L60lo1l_ycOq"
      },
      "outputs": [],
      "source": [
        "token_to_idx = {token: idx for idx, token in enumerate(tokens)}"
      ]
    },
    {
      "cell_type": "code",
      "source": [
        "len(token_to_idx)"
      ],
      "metadata": {
        "colab": {
          "base_uri": "https://localhost:8080/"
        },
        "id": "ZLkkjfF9-Zfb",
        "outputId": "7cdf4120-85ca-4616-9873-e1293e9a8b43"
      },
      "execution_count": 18,
      "outputs": [
        {
          "output_type": "execute_result",
          "data": {
            "text/plain": [
              "34158"
            ]
          },
          "metadata": {},
          "execution_count": 18
        }
      ]
    },
    {
      "cell_type": "code",
      "source": [
        "len(tokens)"
      ],
      "metadata": {
        "colab": {
          "base_uri": "https://localhost:8080/"
        },
        "id": "pkzWFMtl-aXq",
        "outputId": "ac80a3f5-89b3-443a-82f7-a114b3059076"
      },
      "execution_count": 19,
      "outputs": [
        {
          "output_type": "execute_result",
          "data": {
            "text/plain": [
              "34158"
            ]
          },
          "metadata": {},
          "execution_count": 19
        }
      ]
    },
    {
      "cell_type": "markdown",
      "metadata": {
        "id": "cmJAkq3gycOv"
      },
      "source": [
        "And finally, let's use the vocabulary you've built to map text lines into neural network-digestible matrices."
      ]
    },
    {
      "cell_type": "code",
      "execution_count": 20,
      "metadata": {
        "id": "JEsLeBjVycOw"
      },
      "outputs": [],
      "source": [
        "UNK_IDX = token_to_idx[UNK]\n",
        "PAD_IDX = token_to_idx[PAD]\n",
        "\n",
        "\n",
        "def as_matrix(sequences, max_len=None):\n",
        "    \"\"\"Convert a list of tokens into a matrix with padding\"\"\"\n",
        "    if isinstance(sequences[0], str):\n",
        "        sequences = [seq.split(\" \") for seq in sequences]\n",
        "\n",
        "    sequences_max_len = max(len(seq) for seq in sequences)\n",
        "    if max_len is None:\n",
        "        max_len = sequences_max_len\n",
        "    else:\n",
        "        max_len = min(sequences_max_len, max_len)\n",
        "\n",
        "    matrix = np.full((len(sequences), max_len), PAD_IDX)\n",
        "    for i, seq in enumerate(sequences):\n",
        "        for j, token in enumerate(seq):\n",
        "            if j >= max_len:\n",
        "                break\n",
        "\n",
        "            matrix[i, j] = token_to_idx.get(token, UNK_IDX)\n",
        "\n",
        "    return matrix"
      ]
    },
    {
      "cell_type": "code",
      "source": [
        "data[\"Title\"].nunique()"
      ],
      "metadata": {
        "colab": {
          "base_uri": "https://localhost:8080/"
        },
        "id": "uAkmRVjlln9i",
        "outputId": "4ea1e238-e8ec-42c4-c00c-9e3d79685d1d"
      },
      "execution_count": 21,
      "outputs": [
        {
          "output_type": "execute_result",
          "data": {
            "text/plain": [
              "129653"
            ]
          },
          "metadata": {},
          "execution_count": 21
        }
      ]
    },
    {
      "cell_type": "code",
      "execution_count": 22,
      "metadata": {
        "colab": {
          "base_uri": "https://localhost:8080/"
        },
        "id": "JiBlPkdKycOy",
        "outputId": "6334aaf2-348b-4eb9-9d96-812c78473a59"
      },
      "outputs": [
        {
          "output_type": "stream",
          "name": "stdout",
          "text": [
            "Lines:\n",
            "engineering systems analyst\n",
            "smart metering project manager ( complex network , infrastructure , compl\n",
            "hr assistant\n",
            "programmes director global defence organisation\n",
            "senior ec & i engineer\n",
            "\n",
            "Matrix:\n",
            "[[10807 30161  2166     1     1     1     1     1     1     1     1]\n",
            " [28447 19617 24359 18864    33  6988 20887   158 15824   158     0]\n",
            " [15020  2844     1     1     1     1     1     1     1     1     1]\n",
            " [24342  9324 13488  8713 22068     1     1     1     1     1     1]\n",
            " [27645 10201    16 15215 10804     1     1     1     1     1     1]]\n"
          ]
        }
      ],
      "source": [
        "print(\"Lines:\")\n",
        "print(\"\\n\".join(data[\"Title\"][::100000//2].values), end=\"\\n\\n\")\n",
        "print(\"Matrix:\")\n",
        "print(as_matrix(data[\"Title\"][::100000//2]))"
      ]
    },
    {
      "cell_type": "markdown",
      "metadata": {
        "id": "nGOdZ3-dycO4"
      },
      "source": [
        "Now let's  encode the categirical data we have.\n",
        "\n",
        "As usual, we shall use one-hot encoding for simplicity. Kudos if you implement more advanced encodings: tf-idf, pseudo-time-series, etc."
      ]
    },
    {
      "cell_type": "code",
      "source": [
        "from sklearn.feature_extraction import DictVectorizer\n",
        "\n",
        "\n",
        "# We only consider top-1k most frequent companies to minimize memory usage\n",
        "company_counts = Counter(data[\"Company\"])\n",
        "top_companies = set(name for name, count in company_counts.most_common(1000))\n",
        "data[\"Company\"] = data[\"Company\"].apply(\n",
        "    lambda company: company if company in top_companies else \"Other\"\n",
        ")\n",
        "\n",
        "categorical_vectorizer = DictVectorizer(dtype=np.float32, sparse=False)\n",
        "categorical_vectorizer.fit(data[categorical_columns].apply(dict, axis=1));"
      ],
      "metadata": {
        "id": "pg12nLQijNJg"
      },
      "execution_count": 23,
      "outputs": []
    },
    {
      "cell_type": "code",
      "source": [
        "data[categorical_columns]"
      ],
      "metadata": {
        "colab": {
          "base_uri": "https://localhost:8080/",
          "height": 423
        },
        "id": "SytuqxEzo6k3",
        "outputId": "18cda177-c684-488e-f954-87338eaa074e"
      },
      "execution_count": 24,
      "outputs": [
        {
          "output_type": "execute_result",
          "data": {
            "text/plain": [
              "                Category                       Company LocationNormalized  \\\n",
              "0       Engineering Jobs  Gregory Martin International            Dorking   \n",
              "1       Engineering Jobs  Gregory Martin International            Glasgow   \n",
              "2       Engineering Jobs  Gregory Martin International          Hampshire   \n",
              "3       Engineering Jobs  Gregory Martin International             Surrey   \n",
              "4       Engineering Jobs  Gregory Martin International             Surrey   \n",
              "...                  ...                           ...                ...   \n",
              "244763     Teaching Jobs                           NaN            Swindon   \n",
              "244764     Teaching Jobs                           NaN            Swindon   \n",
              "244765     Teaching Jobs                           NaN            Swindon   \n",
              "244766     Teaching Jobs                           NaN          Wiltshire   \n",
              "244767     Teaching Jobs                           NaN            Hitchin   \n",
              "\n",
              "       ContractType ContractTime  \n",
              "0               NaN    permanent  \n",
              "1               NaN    permanent  \n",
              "2               NaN    permanent  \n",
              "3               NaN    permanent  \n",
              "4               NaN    permanent  \n",
              "...             ...          ...  \n",
              "244763          NaN     contract  \n",
              "244764          NaN     contract  \n",
              "244765          NaN     contract  \n",
              "244766          NaN     contract  \n",
              "244767          NaN    permanent  \n",
              "\n",
              "[244768 rows x 5 columns]"
            ],
            "text/html": [
              "\n",
              "  <div id=\"df-1d36c7df-4a35-475d-a3f3-943dc2958167\" class=\"colab-df-container\">\n",
              "    <div>\n",
              "<style scoped>\n",
              "    .dataframe tbody tr th:only-of-type {\n",
              "        vertical-align: middle;\n",
              "    }\n",
              "\n",
              "    .dataframe tbody tr th {\n",
              "        vertical-align: top;\n",
              "    }\n",
              "\n",
              "    .dataframe thead th {\n",
              "        text-align: right;\n",
              "    }\n",
              "</style>\n",
              "<table border=\"1\" class=\"dataframe\">\n",
              "  <thead>\n",
              "    <tr style=\"text-align: right;\">\n",
              "      <th></th>\n",
              "      <th>Category</th>\n",
              "      <th>Company</th>\n",
              "      <th>LocationNormalized</th>\n",
              "      <th>ContractType</th>\n",
              "      <th>ContractTime</th>\n",
              "    </tr>\n",
              "  </thead>\n",
              "  <tbody>\n",
              "    <tr>\n",
              "      <th>0</th>\n",
              "      <td>Engineering Jobs</td>\n",
              "      <td>Gregory Martin International</td>\n",
              "      <td>Dorking</td>\n",
              "      <td>NaN</td>\n",
              "      <td>permanent</td>\n",
              "    </tr>\n",
              "    <tr>\n",
              "      <th>1</th>\n",
              "      <td>Engineering Jobs</td>\n",
              "      <td>Gregory Martin International</td>\n",
              "      <td>Glasgow</td>\n",
              "      <td>NaN</td>\n",
              "      <td>permanent</td>\n",
              "    </tr>\n",
              "    <tr>\n",
              "      <th>2</th>\n",
              "      <td>Engineering Jobs</td>\n",
              "      <td>Gregory Martin International</td>\n",
              "      <td>Hampshire</td>\n",
              "      <td>NaN</td>\n",
              "      <td>permanent</td>\n",
              "    </tr>\n",
              "    <tr>\n",
              "      <th>3</th>\n",
              "      <td>Engineering Jobs</td>\n",
              "      <td>Gregory Martin International</td>\n",
              "      <td>Surrey</td>\n",
              "      <td>NaN</td>\n",
              "      <td>permanent</td>\n",
              "    </tr>\n",
              "    <tr>\n",
              "      <th>4</th>\n",
              "      <td>Engineering Jobs</td>\n",
              "      <td>Gregory Martin International</td>\n",
              "      <td>Surrey</td>\n",
              "      <td>NaN</td>\n",
              "      <td>permanent</td>\n",
              "    </tr>\n",
              "    <tr>\n",
              "      <th>...</th>\n",
              "      <td>...</td>\n",
              "      <td>...</td>\n",
              "      <td>...</td>\n",
              "      <td>...</td>\n",
              "      <td>...</td>\n",
              "    </tr>\n",
              "    <tr>\n",
              "      <th>244763</th>\n",
              "      <td>Teaching Jobs</td>\n",
              "      <td>NaN</td>\n",
              "      <td>Swindon</td>\n",
              "      <td>NaN</td>\n",
              "      <td>contract</td>\n",
              "    </tr>\n",
              "    <tr>\n",
              "      <th>244764</th>\n",
              "      <td>Teaching Jobs</td>\n",
              "      <td>NaN</td>\n",
              "      <td>Swindon</td>\n",
              "      <td>NaN</td>\n",
              "      <td>contract</td>\n",
              "    </tr>\n",
              "    <tr>\n",
              "      <th>244765</th>\n",
              "      <td>Teaching Jobs</td>\n",
              "      <td>NaN</td>\n",
              "      <td>Swindon</td>\n",
              "      <td>NaN</td>\n",
              "      <td>contract</td>\n",
              "    </tr>\n",
              "    <tr>\n",
              "      <th>244766</th>\n",
              "      <td>Teaching Jobs</td>\n",
              "      <td>NaN</td>\n",
              "      <td>Wiltshire</td>\n",
              "      <td>NaN</td>\n",
              "      <td>contract</td>\n",
              "    </tr>\n",
              "    <tr>\n",
              "      <th>244767</th>\n",
              "      <td>Teaching Jobs</td>\n",
              "      <td>NaN</td>\n",
              "      <td>Hitchin</td>\n",
              "      <td>NaN</td>\n",
              "      <td>permanent</td>\n",
              "    </tr>\n",
              "  </tbody>\n",
              "</table>\n",
              "<p>244768 rows × 5 columns</p>\n",
              "</div>\n",
              "    <div class=\"colab-df-buttons\">\n",
              "\n",
              "  <div class=\"colab-df-container\">\n",
              "    <button class=\"colab-df-convert\" onclick=\"convertToInteractive('df-1d36c7df-4a35-475d-a3f3-943dc2958167')\"\n",
              "            title=\"Convert this dataframe to an interactive table.\"\n",
              "            style=\"display:none;\">\n",
              "\n",
              "  <svg xmlns=\"http://www.w3.org/2000/svg\" height=\"24px\" viewBox=\"0 -960 960 960\">\n",
              "    <path d=\"M120-120v-720h720v720H120Zm60-500h600v-160H180v160Zm220 220h160v-160H400v160Zm0 220h160v-160H400v160ZM180-400h160v-160H180v160Zm440 0h160v-160H620v160ZM180-180h160v-160H180v160Zm440 0h160v-160H620v160Z\"/>\n",
              "  </svg>\n",
              "    </button>\n",
              "\n",
              "  <style>\n",
              "    .colab-df-container {\n",
              "      display:flex;\n",
              "      gap: 12px;\n",
              "    }\n",
              "\n",
              "    .colab-df-convert {\n",
              "      background-color: #E8F0FE;\n",
              "      border: none;\n",
              "      border-radius: 50%;\n",
              "      cursor: pointer;\n",
              "      display: none;\n",
              "      fill: #1967D2;\n",
              "      height: 32px;\n",
              "      padding: 0 0 0 0;\n",
              "      width: 32px;\n",
              "    }\n",
              "\n",
              "    .colab-df-convert:hover {\n",
              "      background-color: #E2EBFA;\n",
              "      box-shadow: 0px 1px 2px rgba(60, 64, 67, 0.3), 0px 1px 3px 1px rgba(60, 64, 67, 0.15);\n",
              "      fill: #174EA6;\n",
              "    }\n",
              "\n",
              "    .colab-df-buttons div {\n",
              "      margin-bottom: 4px;\n",
              "    }\n",
              "\n",
              "    [theme=dark] .colab-df-convert {\n",
              "      background-color: #3B4455;\n",
              "      fill: #D2E3FC;\n",
              "    }\n",
              "\n",
              "    [theme=dark] .colab-df-convert:hover {\n",
              "      background-color: #434B5C;\n",
              "      box-shadow: 0px 1px 3px 1px rgba(0, 0, 0, 0.15);\n",
              "      filter: drop-shadow(0px 1px 2px rgba(0, 0, 0, 0.3));\n",
              "      fill: #FFFFFF;\n",
              "    }\n",
              "  </style>\n",
              "\n",
              "    <script>\n",
              "      const buttonEl =\n",
              "        document.querySelector('#df-1d36c7df-4a35-475d-a3f3-943dc2958167 button.colab-df-convert');\n",
              "      buttonEl.style.display =\n",
              "        google.colab.kernel.accessAllowed ? 'block' : 'none';\n",
              "\n",
              "      async function convertToInteractive(key) {\n",
              "        const element = document.querySelector('#df-1d36c7df-4a35-475d-a3f3-943dc2958167');\n",
              "        const dataTable =\n",
              "          await google.colab.kernel.invokeFunction('convertToInteractive',\n",
              "                                                    [key], {});\n",
              "        if (!dataTable) return;\n",
              "\n",
              "        const docLinkHtml = 'Like what you see? Visit the ' +\n",
              "          '<a target=\"_blank\" href=https://colab.research.google.com/notebooks/data_table.ipynb>data table notebook</a>'\n",
              "          + ' to learn more about interactive tables.';\n",
              "        element.innerHTML = '';\n",
              "        dataTable['output_type'] = 'display_data';\n",
              "        await google.colab.output.renderOutput(dataTable, element);\n",
              "        const docLink = document.createElement('div');\n",
              "        docLink.innerHTML = docLinkHtml;\n",
              "        element.appendChild(docLink);\n",
              "      }\n",
              "    </script>\n",
              "  </div>\n",
              "\n",
              "\n",
              "    <div id=\"df-3744615f-c88b-4e12-998b-9730aeb2fa48\">\n",
              "      <button class=\"colab-df-quickchart\" onclick=\"quickchart('df-3744615f-c88b-4e12-998b-9730aeb2fa48')\"\n",
              "                title=\"Suggest charts\"\n",
              "                style=\"display:none;\">\n",
              "\n",
              "<svg xmlns=\"http://www.w3.org/2000/svg\" height=\"24px\"viewBox=\"0 0 24 24\"\n",
              "     width=\"24px\">\n",
              "    <g>\n",
              "        <path d=\"M19 3H5c-1.1 0-2 .9-2 2v14c0 1.1.9 2 2 2h14c1.1 0 2-.9 2-2V5c0-1.1-.9-2-2-2zM9 17H7v-7h2v7zm4 0h-2V7h2v10zm4 0h-2v-4h2v4z\"/>\n",
              "    </g>\n",
              "</svg>\n",
              "      </button>\n",
              "\n",
              "<style>\n",
              "  .colab-df-quickchart {\n",
              "      --bg-color: #E8F0FE;\n",
              "      --fill-color: #1967D2;\n",
              "      --hover-bg-color: #E2EBFA;\n",
              "      --hover-fill-color: #174EA6;\n",
              "      --disabled-fill-color: #AAA;\n",
              "      --disabled-bg-color: #DDD;\n",
              "  }\n",
              "\n",
              "  [theme=dark] .colab-df-quickchart {\n",
              "      --bg-color: #3B4455;\n",
              "      --fill-color: #D2E3FC;\n",
              "      --hover-bg-color: #434B5C;\n",
              "      --hover-fill-color: #FFFFFF;\n",
              "      --disabled-bg-color: #3B4455;\n",
              "      --disabled-fill-color: #666;\n",
              "  }\n",
              "\n",
              "  .colab-df-quickchart {\n",
              "    background-color: var(--bg-color);\n",
              "    border: none;\n",
              "    border-radius: 50%;\n",
              "    cursor: pointer;\n",
              "    display: none;\n",
              "    fill: var(--fill-color);\n",
              "    height: 32px;\n",
              "    padding: 0;\n",
              "    width: 32px;\n",
              "  }\n",
              "\n",
              "  .colab-df-quickchart:hover {\n",
              "    background-color: var(--hover-bg-color);\n",
              "    box-shadow: 0 1px 2px rgba(60, 64, 67, 0.3), 0 1px 3px 1px rgba(60, 64, 67, 0.15);\n",
              "    fill: var(--button-hover-fill-color);\n",
              "  }\n",
              "\n",
              "  .colab-df-quickchart-complete:disabled,\n",
              "  .colab-df-quickchart-complete:disabled:hover {\n",
              "    background-color: var(--disabled-bg-color);\n",
              "    fill: var(--disabled-fill-color);\n",
              "    box-shadow: none;\n",
              "  }\n",
              "\n",
              "  .colab-df-spinner {\n",
              "    border: 2px solid var(--fill-color);\n",
              "    border-color: transparent;\n",
              "    border-bottom-color: var(--fill-color);\n",
              "    animation:\n",
              "      spin 1s steps(1) infinite;\n",
              "  }\n",
              "\n",
              "  @keyframes spin {\n",
              "    0% {\n",
              "      border-color: transparent;\n",
              "      border-bottom-color: var(--fill-color);\n",
              "      border-left-color: var(--fill-color);\n",
              "    }\n",
              "    20% {\n",
              "      border-color: transparent;\n",
              "      border-left-color: var(--fill-color);\n",
              "      border-top-color: var(--fill-color);\n",
              "    }\n",
              "    30% {\n",
              "      border-color: transparent;\n",
              "      border-left-color: var(--fill-color);\n",
              "      border-top-color: var(--fill-color);\n",
              "      border-right-color: var(--fill-color);\n",
              "    }\n",
              "    40% {\n",
              "      border-color: transparent;\n",
              "      border-right-color: var(--fill-color);\n",
              "      border-top-color: var(--fill-color);\n",
              "    }\n",
              "    60% {\n",
              "      border-color: transparent;\n",
              "      border-right-color: var(--fill-color);\n",
              "    }\n",
              "    80% {\n",
              "      border-color: transparent;\n",
              "      border-right-color: var(--fill-color);\n",
              "      border-bottom-color: var(--fill-color);\n",
              "    }\n",
              "    90% {\n",
              "      border-color: transparent;\n",
              "      border-bottom-color: var(--fill-color);\n",
              "    }\n",
              "  }\n",
              "</style>\n",
              "\n",
              "      <script>\n",
              "        async function quickchart(key) {\n",
              "          const quickchartButtonEl =\n",
              "            document.querySelector('#' + key + ' button');\n",
              "          quickchartButtonEl.disabled = true;  // To prevent multiple clicks.\n",
              "          quickchartButtonEl.classList.add('colab-df-spinner');\n",
              "          try {\n",
              "            const charts = await google.colab.kernel.invokeFunction(\n",
              "                'suggestCharts', [key], {});\n",
              "          } catch (error) {\n",
              "            console.error('Error during call to suggestCharts:', error);\n",
              "          }\n",
              "          quickchartButtonEl.classList.remove('colab-df-spinner');\n",
              "          quickchartButtonEl.classList.add('colab-df-quickchart-complete');\n",
              "        }\n",
              "        (() => {\n",
              "          let quickchartButtonEl =\n",
              "            document.querySelector('#df-3744615f-c88b-4e12-998b-9730aeb2fa48 button');\n",
              "          quickchartButtonEl.style.display =\n",
              "            google.colab.kernel.accessAllowed ? 'block' : 'none';\n",
              "        })();\n",
              "      </script>\n",
              "    </div>\n",
              "    </div>\n",
              "  </div>\n"
            ],
            "application/vnd.google.colaboratory.intrinsic+json": {
              "type": "dataframe"
            }
          },
          "metadata": {},
          "execution_count": 24
        }
      ]
    },
    {
      "cell_type": "code",
      "source": [
        "data[categorical_columns].apply(dict, axis=1)"
      ],
      "metadata": {
        "colab": {
          "base_uri": "https://localhost:8080/",
          "height": 458
        },
        "id": "gZF-3_CTo3HB",
        "outputId": "5242838c-ed39-4319-eef5-a0b0a113cd86"
      },
      "execution_count": 25,
      "outputs": [
        {
          "output_type": "execute_result",
          "data": {
            "text/plain": [
              "0         {'Category': 'Engineering Jobs', 'Company': 'G...\n",
              "1         {'Category': 'Engineering Jobs', 'Company': 'G...\n",
              "2         {'Category': 'Engineering Jobs', 'Company': 'G...\n",
              "3         {'Category': 'Engineering Jobs', 'Company': 'G...\n",
              "4         {'Category': 'Engineering Jobs', 'Company': 'G...\n",
              "                                ...                        \n",
              "244763    {'Category': 'Teaching Jobs', 'Company': 'NaN'...\n",
              "244764    {'Category': 'Teaching Jobs', 'Company': 'NaN'...\n",
              "244765    {'Category': 'Teaching Jobs', 'Company': 'NaN'...\n",
              "244766    {'Category': 'Teaching Jobs', 'Company': 'NaN'...\n",
              "244767    {'Category': 'Teaching Jobs', 'Company': 'NaN'...\n",
              "Length: 244768, dtype: object"
            ],
            "text/html": [
              "<div>\n",
              "<style scoped>\n",
              "    .dataframe tbody tr th:only-of-type {\n",
              "        vertical-align: middle;\n",
              "    }\n",
              "\n",
              "    .dataframe tbody tr th {\n",
              "        vertical-align: top;\n",
              "    }\n",
              "\n",
              "    .dataframe thead th {\n",
              "        text-align: right;\n",
              "    }\n",
              "</style>\n",
              "<table border=\"1\" class=\"dataframe\">\n",
              "  <thead>\n",
              "    <tr style=\"text-align: right;\">\n",
              "      <th></th>\n",
              "      <th>0</th>\n",
              "    </tr>\n",
              "  </thead>\n",
              "  <tbody>\n",
              "    <tr>\n",
              "      <th>0</th>\n",
              "      <td>{'Category': 'Engineering Jobs', 'Company': 'G...</td>\n",
              "    </tr>\n",
              "    <tr>\n",
              "      <th>1</th>\n",
              "      <td>{'Category': 'Engineering Jobs', 'Company': 'G...</td>\n",
              "    </tr>\n",
              "    <tr>\n",
              "      <th>2</th>\n",
              "      <td>{'Category': 'Engineering Jobs', 'Company': 'G...</td>\n",
              "    </tr>\n",
              "    <tr>\n",
              "      <th>3</th>\n",
              "      <td>{'Category': 'Engineering Jobs', 'Company': 'G...</td>\n",
              "    </tr>\n",
              "    <tr>\n",
              "      <th>4</th>\n",
              "      <td>{'Category': 'Engineering Jobs', 'Company': 'G...</td>\n",
              "    </tr>\n",
              "    <tr>\n",
              "      <th>...</th>\n",
              "      <td>...</td>\n",
              "    </tr>\n",
              "    <tr>\n",
              "      <th>244763</th>\n",
              "      <td>{'Category': 'Teaching Jobs', 'Company': 'NaN'...</td>\n",
              "    </tr>\n",
              "    <tr>\n",
              "      <th>244764</th>\n",
              "      <td>{'Category': 'Teaching Jobs', 'Company': 'NaN'...</td>\n",
              "    </tr>\n",
              "    <tr>\n",
              "      <th>244765</th>\n",
              "      <td>{'Category': 'Teaching Jobs', 'Company': 'NaN'...</td>\n",
              "    </tr>\n",
              "    <tr>\n",
              "      <th>244766</th>\n",
              "      <td>{'Category': 'Teaching Jobs', 'Company': 'NaN'...</td>\n",
              "    </tr>\n",
              "    <tr>\n",
              "      <th>244767</th>\n",
              "      <td>{'Category': 'Teaching Jobs', 'Company': 'NaN'...</td>\n",
              "    </tr>\n",
              "  </tbody>\n",
              "</table>\n",
              "<p>244768 rows × 1 columns</p>\n",
              "</div><br><label><b>dtype:</b> object</label>"
            ]
          },
          "metadata": {},
          "execution_count": 25
        }
      ]
    },
    {
      "cell_type": "code",
      "source": [
        "dict(data[categorical_columns].loc[0, :])"
      ],
      "metadata": {
        "colab": {
          "base_uri": "https://localhost:8080/"
        },
        "id": "5-sci-l4pRCO",
        "outputId": "8f4bddd3-3963-4cfd-a052-a35add8c1b03"
      },
      "execution_count": 26,
      "outputs": [
        {
          "output_type": "execute_result",
          "data": {
            "text/plain": [
              "{'Category': 'Engineering Jobs',\n",
              " 'Company': 'Gregory Martin International',\n",
              " 'LocationNormalized': 'Dorking',\n",
              " 'ContractType': 'NaN',\n",
              " 'ContractTime': 'permanent'}"
            ]
          },
          "metadata": {},
          "execution_count": 26
        }
      ]
    },
    {
      "cell_type": "code",
      "source": [
        "data[categorical_columns].apply(dict, axis=1)[0]"
      ],
      "metadata": {
        "colab": {
          "base_uri": "https://localhost:8080/"
        },
        "id": "hvjwSwd1-uZA",
        "outputId": "88035f47-8bf1-4b8c-81c2-8ccc137641c2"
      },
      "execution_count": 27,
      "outputs": [
        {
          "output_type": "execute_result",
          "data": {
            "text/plain": [
              "{'Category': 'Engineering Jobs',\n",
              " 'Company': 'Gregory Martin International',\n",
              " 'LocationNormalized': 'Dorking',\n",
              " 'ContractType': 'NaN',\n",
              " 'ContractTime': 'permanent'}"
            ]
          },
          "metadata": {},
          "execution_count": 27
        }
      ]
    },
    {
      "cell_type": "code",
      "source": [
        "categorical_vectorizer.transform(data[categorical_columns].apply(dict, axis=1)).shape"
      ],
      "metadata": {
        "colab": {
          "base_uri": "https://localhost:8080/"
        },
        "id": "CQ0ApIyN-Ar-",
        "outputId": "dee84453-b876-4f85-e32a-7597bb3c00c4"
      },
      "execution_count": 28,
      "outputs": [
        {
          "output_type": "execute_result",
          "data": {
            "text/plain": [
              "(244768, 3768)"
            ]
          },
          "metadata": {},
          "execution_count": 28
        }
      ]
    },
    {
      "cell_type": "code",
      "source": [
        "data[categorical_columns]"
      ],
      "metadata": {
        "colab": {
          "base_uri": "https://localhost:8080/",
          "height": 423
        },
        "id": "mxuhdGX9mUqX",
        "outputId": "1ee48e4a-b689-4c1a-97f4-0fbf41a3b3e8"
      },
      "execution_count": 29,
      "outputs": [
        {
          "output_type": "execute_result",
          "data": {
            "text/plain": [
              "                Category                       Company LocationNormalized  \\\n",
              "0       Engineering Jobs  Gregory Martin International            Dorking   \n",
              "1       Engineering Jobs  Gregory Martin International            Glasgow   \n",
              "2       Engineering Jobs  Gregory Martin International          Hampshire   \n",
              "3       Engineering Jobs  Gregory Martin International             Surrey   \n",
              "4       Engineering Jobs  Gregory Martin International             Surrey   \n",
              "...                  ...                           ...                ...   \n",
              "244763     Teaching Jobs                           NaN            Swindon   \n",
              "244764     Teaching Jobs                           NaN            Swindon   \n",
              "244765     Teaching Jobs                           NaN            Swindon   \n",
              "244766     Teaching Jobs                           NaN          Wiltshire   \n",
              "244767     Teaching Jobs                           NaN            Hitchin   \n",
              "\n",
              "       ContractType ContractTime  \n",
              "0               NaN    permanent  \n",
              "1               NaN    permanent  \n",
              "2               NaN    permanent  \n",
              "3               NaN    permanent  \n",
              "4               NaN    permanent  \n",
              "...             ...          ...  \n",
              "244763          NaN     contract  \n",
              "244764          NaN     contract  \n",
              "244765          NaN     contract  \n",
              "244766          NaN     contract  \n",
              "244767          NaN    permanent  \n",
              "\n",
              "[244768 rows x 5 columns]"
            ],
            "text/html": [
              "\n",
              "  <div id=\"df-6c767c15-72c6-49a1-bde2-86b279ac60cf\" class=\"colab-df-container\">\n",
              "    <div>\n",
              "<style scoped>\n",
              "    .dataframe tbody tr th:only-of-type {\n",
              "        vertical-align: middle;\n",
              "    }\n",
              "\n",
              "    .dataframe tbody tr th {\n",
              "        vertical-align: top;\n",
              "    }\n",
              "\n",
              "    .dataframe thead th {\n",
              "        text-align: right;\n",
              "    }\n",
              "</style>\n",
              "<table border=\"1\" class=\"dataframe\">\n",
              "  <thead>\n",
              "    <tr style=\"text-align: right;\">\n",
              "      <th></th>\n",
              "      <th>Category</th>\n",
              "      <th>Company</th>\n",
              "      <th>LocationNormalized</th>\n",
              "      <th>ContractType</th>\n",
              "      <th>ContractTime</th>\n",
              "    </tr>\n",
              "  </thead>\n",
              "  <tbody>\n",
              "    <tr>\n",
              "      <th>0</th>\n",
              "      <td>Engineering Jobs</td>\n",
              "      <td>Gregory Martin International</td>\n",
              "      <td>Dorking</td>\n",
              "      <td>NaN</td>\n",
              "      <td>permanent</td>\n",
              "    </tr>\n",
              "    <tr>\n",
              "      <th>1</th>\n",
              "      <td>Engineering Jobs</td>\n",
              "      <td>Gregory Martin International</td>\n",
              "      <td>Glasgow</td>\n",
              "      <td>NaN</td>\n",
              "      <td>permanent</td>\n",
              "    </tr>\n",
              "    <tr>\n",
              "      <th>2</th>\n",
              "      <td>Engineering Jobs</td>\n",
              "      <td>Gregory Martin International</td>\n",
              "      <td>Hampshire</td>\n",
              "      <td>NaN</td>\n",
              "      <td>permanent</td>\n",
              "    </tr>\n",
              "    <tr>\n",
              "      <th>3</th>\n",
              "      <td>Engineering Jobs</td>\n",
              "      <td>Gregory Martin International</td>\n",
              "      <td>Surrey</td>\n",
              "      <td>NaN</td>\n",
              "      <td>permanent</td>\n",
              "    </tr>\n",
              "    <tr>\n",
              "      <th>4</th>\n",
              "      <td>Engineering Jobs</td>\n",
              "      <td>Gregory Martin International</td>\n",
              "      <td>Surrey</td>\n",
              "      <td>NaN</td>\n",
              "      <td>permanent</td>\n",
              "    </tr>\n",
              "    <tr>\n",
              "      <th>...</th>\n",
              "      <td>...</td>\n",
              "      <td>...</td>\n",
              "      <td>...</td>\n",
              "      <td>...</td>\n",
              "      <td>...</td>\n",
              "    </tr>\n",
              "    <tr>\n",
              "      <th>244763</th>\n",
              "      <td>Teaching Jobs</td>\n",
              "      <td>NaN</td>\n",
              "      <td>Swindon</td>\n",
              "      <td>NaN</td>\n",
              "      <td>contract</td>\n",
              "    </tr>\n",
              "    <tr>\n",
              "      <th>244764</th>\n",
              "      <td>Teaching Jobs</td>\n",
              "      <td>NaN</td>\n",
              "      <td>Swindon</td>\n",
              "      <td>NaN</td>\n",
              "      <td>contract</td>\n",
              "    </tr>\n",
              "    <tr>\n",
              "      <th>244765</th>\n",
              "      <td>Teaching Jobs</td>\n",
              "      <td>NaN</td>\n",
              "      <td>Swindon</td>\n",
              "      <td>NaN</td>\n",
              "      <td>contract</td>\n",
              "    </tr>\n",
              "    <tr>\n",
              "      <th>244766</th>\n",
              "      <td>Teaching Jobs</td>\n",
              "      <td>NaN</td>\n",
              "      <td>Wiltshire</td>\n",
              "      <td>NaN</td>\n",
              "      <td>contract</td>\n",
              "    </tr>\n",
              "    <tr>\n",
              "      <th>244767</th>\n",
              "      <td>Teaching Jobs</td>\n",
              "      <td>NaN</td>\n",
              "      <td>Hitchin</td>\n",
              "      <td>NaN</td>\n",
              "      <td>permanent</td>\n",
              "    </tr>\n",
              "  </tbody>\n",
              "</table>\n",
              "<p>244768 rows × 5 columns</p>\n",
              "</div>\n",
              "    <div class=\"colab-df-buttons\">\n",
              "\n",
              "  <div class=\"colab-df-container\">\n",
              "    <button class=\"colab-df-convert\" onclick=\"convertToInteractive('df-6c767c15-72c6-49a1-bde2-86b279ac60cf')\"\n",
              "            title=\"Convert this dataframe to an interactive table.\"\n",
              "            style=\"display:none;\">\n",
              "\n",
              "  <svg xmlns=\"http://www.w3.org/2000/svg\" height=\"24px\" viewBox=\"0 -960 960 960\">\n",
              "    <path d=\"M120-120v-720h720v720H120Zm60-500h600v-160H180v160Zm220 220h160v-160H400v160Zm0 220h160v-160H400v160ZM180-400h160v-160H180v160Zm440 0h160v-160H620v160ZM180-180h160v-160H180v160Zm440 0h160v-160H620v160Z\"/>\n",
              "  </svg>\n",
              "    </button>\n",
              "\n",
              "  <style>\n",
              "    .colab-df-container {\n",
              "      display:flex;\n",
              "      gap: 12px;\n",
              "    }\n",
              "\n",
              "    .colab-df-convert {\n",
              "      background-color: #E8F0FE;\n",
              "      border: none;\n",
              "      border-radius: 50%;\n",
              "      cursor: pointer;\n",
              "      display: none;\n",
              "      fill: #1967D2;\n",
              "      height: 32px;\n",
              "      padding: 0 0 0 0;\n",
              "      width: 32px;\n",
              "    }\n",
              "\n",
              "    .colab-df-convert:hover {\n",
              "      background-color: #E2EBFA;\n",
              "      box-shadow: 0px 1px 2px rgba(60, 64, 67, 0.3), 0px 1px 3px 1px rgba(60, 64, 67, 0.15);\n",
              "      fill: #174EA6;\n",
              "    }\n",
              "\n",
              "    .colab-df-buttons div {\n",
              "      margin-bottom: 4px;\n",
              "    }\n",
              "\n",
              "    [theme=dark] .colab-df-convert {\n",
              "      background-color: #3B4455;\n",
              "      fill: #D2E3FC;\n",
              "    }\n",
              "\n",
              "    [theme=dark] .colab-df-convert:hover {\n",
              "      background-color: #434B5C;\n",
              "      box-shadow: 0px 1px 3px 1px rgba(0, 0, 0, 0.15);\n",
              "      filter: drop-shadow(0px 1px 2px rgba(0, 0, 0, 0.3));\n",
              "      fill: #FFFFFF;\n",
              "    }\n",
              "  </style>\n",
              "\n",
              "    <script>\n",
              "      const buttonEl =\n",
              "        document.querySelector('#df-6c767c15-72c6-49a1-bde2-86b279ac60cf button.colab-df-convert');\n",
              "      buttonEl.style.display =\n",
              "        google.colab.kernel.accessAllowed ? 'block' : 'none';\n",
              "\n",
              "      async function convertToInteractive(key) {\n",
              "        const element = document.querySelector('#df-6c767c15-72c6-49a1-bde2-86b279ac60cf');\n",
              "        const dataTable =\n",
              "          await google.colab.kernel.invokeFunction('convertToInteractive',\n",
              "                                                    [key], {});\n",
              "        if (!dataTable) return;\n",
              "\n",
              "        const docLinkHtml = 'Like what you see? Visit the ' +\n",
              "          '<a target=\"_blank\" href=https://colab.research.google.com/notebooks/data_table.ipynb>data table notebook</a>'\n",
              "          + ' to learn more about interactive tables.';\n",
              "        element.innerHTML = '';\n",
              "        dataTable['output_type'] = 'display_data';\n",
              "        await google.colab.output.renderOutput(dataTable, element);\n",
              "        const docLink = document.createElement('div');\n",
              "        docLink.innerHTML = docLinkHtml;\n",
              "        element.appendChild(docLink);\n",
              "      }\n",
              "    </script>\n",
              "  </div>\n",
              "\n",
              "\n",
              "    <div id=\"df-1f1c90fc-47af-47bd-9c4c-80fc68e62995\">\n",
              "      <button class=\"colab-df-quickchart\" onclick=\"quickchart('df-1f1c90fc-47af-47bd-9c4c-80fc68e62995')\"\n",
              "                title=\"Suggest charts\"\n",
              "                style=\"display:none;\">\n",
              "\n",
              "<svg xmlns=\"http://www.w3.org/2000/svg\" height=\"24px\"viewBox=\"0 0 24 24\"\n",
              "     width=\"24px\">\n",
              "    <g>\n",
              "        <path d=\"M19 3H5c-1.1 0-2 .9-2 2v14c0 1.1.9 2 2 2h14c1.1 0 2-.9 2-2V5c0-1.1-.9-2-2-2zM9 17H7v-7h2v7zm4 0h-2V7h2v10zm4 0h-2v-4h2v4z\"/>\n",
              "    </g>\n",
              "</svg>\n",
              "      </button>\n",
              "\n",
              "<style>\n",
              "  .colab-df-quickchart {\n",
              "      --bg-color: #E8F0FE;\n",
              "      --fill-color: #1967D2;\n",
              "      --hover-bg-color: #E2EBFA;\n",
              "      --hover-fill-color: #174EA6;\n",
              "      --disabled-fill-color: #AAA;\n",
              "      --disabled-bg-color: #DDD;\n",
              "  }\n",
              "\n",
              "  [theme=dark] .colab-df-quickchart {\n",
              "      --bg-color: #3B4455;\n",
              "      --fill-color: #D2E3FC;\n",
              "      --hover-bg-color: #434B5C;\n",
              "      --hover-fill-color: #FFFFFF;\n",
              "      --disabled-bg-color: #3B4455;\n",
              "      --disabled-fill-color: #666;\n",
              "  }\n",
              "\n",
              "  .colab-df-quickchart {\n",
              "    background-color: var(--bg-color);\n",
              "    border: none;\n",
              "    border-radius: 50%;\n",
              "    cursor: pointer;\n",
              "    display: none;\n",
              "    fill: var(--fill-color);\n",
              "    height: 32px;\n",
              "    padding: 0;\n",
              "    width: 32px;\n",
              "  }\n",
              "\n",
              "  .colab-df-quickchart:hover {\n",
              "    background-color: var(--hover-bg-color);\n",
              "    box-shadow: 0 1px 2px rgba(60, 64, 67, 0.3), 0 1px 3px 1px rgba(60, 64, 67, 0.15);\n",
              "    fill: var(--button-hover-fill-color);\n",
              "  }\n",
              "\n",
              "  .colab-df-quickchart-complete:disabled,\n",
              "  .colab-df-quickchart-complete:disabled:hover {\n",
              "    background-color: var(--disabled-bg-color);\n",
              "    fill: var(--disabled-fill-color);\n",
              "    box-shadow: none;\n",
              "  }\n",
              "\n",
              "  .colab-df-spinner {\n",
              "    border: 2px solid var(--fill-color);\n",
              "    border-color: transparent;\n",
              "    border-bottom-color: var(--fill-color);\n",
              "    animation:\n",
              "      spin 1s steps(1) infinite;\n",
              "  }\n",
              "\n",
              "  @keyframes spin {\n",
              "    0% {\n",
              "      border-color: transparent;\n",
              "      border-bottom-color: var(--fill-color);\n",
              "      border-left-color: var(--fill-color);\n",
              "    }\n",
              "    20% {\n",
              "      border-color: transparent;\n",
              "      border-left-color: var(--fill-color);\n",
              "      border-top-color: var(--fill-color);\n",
              "    }\n",
              "    30% {\n",
              "      border-color: transparent;\n",
              "      border-left-color: var(--fill-color);\n",
              "      border-top-color: var(--fill-color);\n",
              "      border-right-color: var(--fill-color);\n",
              "    }\n",
              "    40% {\n",
              "      border-color: transparent;\n",
              "      border-right-color: var(--fill-color);\n",
              "      border-top-color: var(--fill-color);\n",
              "    }\n",
              "    60% {\n",
              "      border-color: transparent;\n",
              "      border-right-color: var(--fill-color);\n",
              "    }\n",
              "    80% {\n",
              "      border-color: transparent;\n",
              "      border-right-color: var(--fill-color);\n",
              "      border-bottom-color: var(--fill-color);\n",
              "    }\n",
              "    90% {\n",
              "      border-color: transparent;\n",
              "      border-bottom-color: var(--fill-color);\n",
              "    }\n",
              "  }\n",
              "</style>\n",
              "\n",
              "      <script>\n",
              "        async function quickchart(key) {\n",
              "          const quickchartButtonEl =\n",
              "            document.querySelector('#' + key + ' button');\n",
              "          quickchartButtonEl.disabled = true;  // To prevent multiple clicks.\n",
              "          quickchartButtonEl.classList.add('colab-df-spinner');\n",
              "          try {\n",
              "            const charts = await google.colab.kernel.invokeFunction(\n",
              "                'suggestCharts', [key], {});\n",
              "          } catch (error) {\n",
              "            console.error('Error during call to suggestCharts:', error);\n",
              "          }\n",
              "          quickchartButtonEl.classList.remove('colab-df-spinner');\n",
              "          quickchartButtonEl.classList.add('colab-df-quickchart-complete');\n",
              "        }\n",
              "        (() => {\n",
              "          let quickchartButtonEl =\n",
              "            document.querySelector('#df-1f1c90fc-47af-47bd-9c4c-80fc68e62995 button');\n",
              "          quickchartButtonEl.style.display =\n",
              "            google.colab.kernel.accessAllowed ? 'block' : 'none';\n",
              "        })();\n",
              "      </script>\n",
              "    </div>\n",
              "    </div>\n",
              "  </div>\n"
            ],
            "application/vnd.google.colaboratory.intrinsic+json": {
              "type": "dataframe"
            }
          },
          "metadata": {},
          "execution_count": 29
        }
      ]
    },
    {
      "cell_type": "code",
      "source": [
        "data[categorical_columns].apply(dict, axis=1)"
      ],
      "metadata": {
        "colab": {
          "base_uri": "https://localhost:8080/",
          "height": 458
        },
        "id": "F4i8DYn5mNHg",
        "outputId": "e0d46b92-3a53-4ac2-ea50-38419d7841b0"
      },
      "execution_count": 30,
      "outputs": [
        {
          "output_type": "execute_result",
          "data": {
            "text/plain": [
              "0         {'Category': 'Engineering Jobs', 'Company': 'G...\n",
              "1         {'Category': 'Engineering Jobs', 'Company': 'G...\n",
              "2         {'Category': 'Engineering Jobs', 'Company': 'G...\n",
              "3         {'Category': 'Engineering Jobs', 'Company': 'G...\n",
              "4         {'Category': 'Engineering Jobs', 'Company': 'G...\n",
              "                                ...                        \n",
              "244763    {'Category': 'Teaching Jobs', 'Company': 'NaN'...\n",
              "244764    {'Category': 'Teaching Jobs', 'Company': 'NaN'...\n",
              "244765    {'Category': 'Teaching Jobs', 'Company': 'NaN'...\n",
              "244766    {'Category': 'Teaching Jobs', 'Company': 'NaN'...\n",
              "244767    {'Category': 'Teaching Jobs', 'Company': 'NaN'...\n",
              "Length: 244768, dtype: object"
            ],
            "text/html": [
              "<div>\n",
              "<style scoped>\n",
              "    .dataframe tbody tr th:only-of-type {\n",
              "        vertical-align: middle;\n",
              "    }\n",
              "\n",
              "    .dataframe tbody tr th {\n",
              "        vertical-align: top;\n",
              "    }\n",
              "\n",
              "    .dataframe thead th {\n",
              "        text-align: right;\n",
              "    }\n",
              "</style>\n",
              "<table border=\"1\" class=\"dataframe\">\n",
              "  <thead>\n",
              "    <tr style=\"text-align: right;\">\n",
              "      <th></th>\n",
              "      <th>0</th>\n",
              "    </tr>\n",
              "  </thead>\n",
              "  <tbody>\n",
              "    <tr>\n",
              "      <th>0</th>\n",
              "      <td>{'Category': 'Engineering Jobs', 'Company': 'G...</td>\n",
              "    </tr>\n",
              "    <tr>\n",
              "      <th>1</th>\n",
              "      <td>{'Category': 'Engineering Jobs', 'Company': 'G...</td>\n",
              "    </tr>\n",
              "    <tr>\n",
              "      <th>2</th>\n",
              "      <td>{'Category': 'Engineering Jobs', 'Company': 'G...</td>\n",
              "    </tr>\n",
              "    <tr>\n",
              "      <th>3</th>\n",
              "      <td>{'Category': 'Engineering Jobs', 'Company': 'G...</td>\n",
              "    </tr>\n",
              "    <tr>\n",
              "      <th>4</th>\n",
              "      <td>{'Category': 'Engineering Jobs', 'Company': 'G...</td>\n",
              "    </tr>\n",
              "    <tr>\n",
              "      <th>...</th>\n",
              "      <td>...</td>\n",
              "    </tr>\n",
              "    <tr>\n",
              "      <th>244763</th>\n",
              "      <td>{'Category': 'Teaching Jobs', 'Company': 'NaN'...</td>\n",
              "    </tr>\n",
              "    <tr>\n",
              "      <th>244764</th>\n",
              "      <td>{'Category': 'Teaching Jobs', 'Company': 'NaN'...</td>\n",
              "    </tr>\n",
              "    <tr>\n",
              "      <th>244765</th>\n",
              "      <td>{'Category': 'Teaching Jobs', 'Company': 'NaN'...</td>\n",
              "    </tr>\n",
              "    <tr>\n",
              "      <th>244766</th>\n",
              "      <td>{'Category': 'Teaching Jobs', 'Company': 'NaN'...</td>\n",
              "    </tr>\n",
              "    <tr>\n",
              "      <th>244767</th>\n",
              "      <td>{'Category': 'Teaching Jobs', 'Company': 'NaN'...</td>\n",
              "    </tr>\n",
              "  </tbody>\n",
              "</table>\n",
              "<p>244768 rows × 1 columns</p>\n",
              "</div><br><label><b>dtype:</b> object</label>"
            ]
          },
          "metadata": {},
          "execution_count": 30
        }
      ]
    },
    {
      "cell_type": "code",
      "source": [
        "len(categorical_vectorizer.transform(data[categorical_columns].apply(dict, axis=1))[0])"
      ],
      "metadata": {
        "colab": {
          "base_uri": "https://localhost:8080/"
        },
        "id": "4fb1OYEcl7Lq",
        "outputId": "1e64d00f-44fa-4ed5-9281-54f50af25538"
      },
      "execution_count": 31,
      "outputs": [
        {
          "output_type": "execute_result",
          "data": {
            "text/plain": [
              "3768"
            ]
          },
          "metadata": {},
          "execution_count": 31
        }
      ]
    },
    {
      "cell_type": "code",
      "source": [
        "data[categorical_columns].nunique()"
      ],
      "metadata": {
        "id": "5XP53oaR7Y8k",
        "outputId": "80e3d3ff-b091-4577-f7ae-1237ce745a4b",
        "colab": {
          "base_uri": "https://localhost:8080/",
          "height": 241
        }
      },
      "execution_count": 32,
      "outputs": [
        {
          "output_type": "execute_result",
          "data": {
            "text/plain": [
              "Category                29\n",
              "Company               1001\n",
              "LocationNormalized    2732\n",
              "ContractType             3\n",
              "ContractTime             3\n",
              "dtype: int64"
            ],
            "text/html": [
              "<div>\n",
              "<style scoped>\n",
              "    .dataframe tbody tr th:only-of-type {\n",
              "        vertical-align: middle;\n",
              "    }\n",
              "\n",
              "    .dataframe tbody tr th {\n",
              "        vertical-align: top;\n",
              "    }\n",
              "\n",
              "    .dataframe thead th {\n",
              "        text-align: right;\n",
              "    }\n",
              "</style>\n",
              "<table border=\"1\" class=\"dataframe\">\n",
              "  <thead>\n",
              "    <tr style=\"text-align: right;\">\n",
              "      <th></th>\n",
              "      <th>0</th>\n",
              "    </tr>\n",
              "  </thead>\n",
              "  <tbody>\n",
              "    <tr>\n",
              "      <th>Category</th>\n",
              "      <td>29</td>\n",
              "    </tr>\n",
              "    <tr>\n",
              "      <th>Company</th>\n",
              "      <td>1001</td>\n",
              "    </tr>\n",
              "    <tr>\n",
              "      <th>LocationNormalized</th>\n",
              "      <td>2732</td>\n",
              "    </tr>\n",
              "    <tr>\n",
              "      <th>ContractType</th>\n",
              "      <td>3</td>\n",
              "    </tr>\n",
              "    <tr>\n",
              "      <th>ContractTime</th>\n",
              "      <td>3</td>\n",
              "    </tr>\n",
              "  </tbody>\n",
              "</table>\n",
              "</div><br><label><b>dtype:</b> int64</label>"
            ]
          },
          "metadata": {},
          "execution_count": 32
        }
      ]
    },
    {
      "cell_type": "code",
      "source": [
        "29 + 1001 + 2732 + 3 + 3"
      ],
      "metadata": {
        "colab": {
          "base_uri": "https://localhost:8080/"
        },
        "id": "0nyT4LPBCMyd",
        "outputId": "b54a81ef-6a30-468c-d22f-7430cd9d53dd"
      },
      "execution_count": 33,
      "outputs": [
        {
          "output_type": "execute_result",
          "data": {
            "text/plain": [
              "3768"
            ]
          },
          "metadata": {},
          "execution_count": 33
        }
      ]
    },
    {
      "cell_type": "code",
      "source": [
        "data['Title']"
      ],
      "metadata": {
        "colab": {
          "base_uri": "https://localhost:8080/",
          "height": 458
        },
        "id": "whY_8Drbng8p",
        "outputId": "fba3ac4c-ae87-46bd-f39a-e8f4a8f32cfe"
      },
      "execution_count": 34,
      "outputs": [
        {
          "output_type": "execute_result",
          "data": {
            "text/plain": [
              "0                               engineering systems analyst\n",
              "1                                   stress engineer glasgow\n",
              "2                          modelling and simulation analyst\n",
              "3         engineering systems analyst / mathematical mod...\n",
              "4               pioneer , miser engineering systems analyst\n",
              "                                ...                        \n",
              "244763                                   teacher of science\n",
              "244764                  teacher of business studies and ict\n",
              "244765                                      english teacher\n",
              "244766                                      supply teachers\n",
              "244767                                           accountant\n",
              "Name: Title, Length: 244768, dtype: object"
            ],
            "text/html": [
              "<div>\n",
              "<style scoped>\n",
              "    .dataframe tbody tr th:only-of-type {\n",
              "        vertical-align: middle;\n",
              "    }\n",
              "\n",
              "    .dataframe tbody tr th {\n",
              "        vertical-align: top;\n",
              "    }\n",
              "\n",
              "    .dataframe thead th {\n",
              "        text-align: right;\n",
              "    }\n",
              "</style>\n",
              "<table border=\"1\" class=\"dataframe\">\n",
              "  <thead>\n",
              "    <tr style=\"text-align: right;\">\n",
              "      <th></th>\n",
              "      <th>Title</th>\n",
              "    </tr>\n",
              "  </thead>\n",
              "  <tbody>\n",
              "    <tr>\n",
              "      <th>0</th>\n",
              "      <td>engineering systems analyst</td>\n",
              "    </tr>\n",
              "    <tr>\n",
              "      <th>1</th>\n",
              "      <td>stress engineer glasgow</td>\n",
              "    </tr>\n",
              "    <tr>\n",
              "      <th>2</th>\n",
              "      <td>modelling and simulation analyst</td>\n",
              "    </tr>\n",
              "    <tr>\n",
              "      <th>3</th>\n",
              "      <td>engineering systems analyst / mathematical mod...</td>\n",
              "    </tr>\n",
              "    <tr>\n",
              "      <th>4</th>\n",
              "      <td>pioneer , miser engineering systems analyst</td>\n",
              "    </tr>\n",
              "    <tr>\n",
              "      <th>...</th>\n",
              "      <td>...</td>\n",
              "    </tr>\n",
              "    <tr>\n",
              "      <th>244763</th>\n",
              "      <td>teacher of science</td>\n",
              "    </tr>\n",
              "    <tr>\n",
              "      <th>244764</th>\n",
              "      <td>teacher of business studies and ict</td>\n",
              "    </tr>\n",
              "    <tr>\n",
              "      <th>244765</th>\n",
              "      <td>english teacher</td>\n",
              "    </tr>\n",
              "    <tr>\n",
              "      <th>244766</th>\n",
              "      <td>supply teachers</td>\n",
              "    </tr>\n",
              "    <tr>\n",
              "      <th>244767</th>\n",
              "      <td>accountant</td>\n",
              "    </tr>\n",
              "  </tbody>\n",
              "</table>\n",
              "<p>244768 rows × 1 columns</p>\n",
              "</div><br><label><b>dtype:</b> object</label>"
            ]
          },
          "metadata": {},
          "execution_count": 34
        }
      ]
    },
    {
      "cell_type": "code",
      "source": [
        "data['FullDescription']"
      ],
      "metadata": {
        "colab": {
          "base_uri": "https://localhost:8080/",
          "height": 458
        },
        "id": "q3hGoLxXnYx2",
        "outputId": "d1b78346-70a5-4032-d5d8-181c76a6e1e3"
      },
      "execution_count": 35,
      "outputs": [
        {
          "output_type": "execute_result",
          "data": {
            "text/plain": [
              "0         engineering systems analyst dorking surrey sal...\n",
              "1         stress engineer glasgow salary **** to **** we...\n",
              "2         mathematical modeller / simulation analyst / o...\n",
              "3         engineering systems analyst / mathematical mod...\n",
              "4         pioneer , miser engineering systems analyst do...\n",
              "                                ...                        \n",
              "244763    position : qualified teacher subject / special...\n",
              "244764    position : qualified teacher or nqt subject / ...\n",
              "244765    position : qualified teacher subject / special...\n",
              "244766    position : qualified teacher subject / special...\n",
              "244767    this entrepreneurial and growing private equit...\n",
              "Name: FullDescription, Length: 244768, dtype: object"
            ],
            "text/html": [
              "<div>\n",
              "<style scoped>\n",
              "    .dataframe tbody tr th:only-of-type {\n",
              "        vertical-align: middle;\n",
              "    }\n",
              "\n",
              "    .dataframe tbody tr th {\n",
              "        vertical-align: top;\n",
              "    }\n",
              "\n",
              "    .dataframe thead th {\n",
              "        text-align: right;\n",
              "    }\n",
              "</style>\n",
              "<table border=\"1\" class=\"dataframe\">\n",
              "  <thead>\n",
              "    <tr style=\"text-align: right;\">\n",
              "      <th></th>\n",
              "      <th>FullDescription</th>\n",
              "    </tr>\n",
              "  </thead>\n",
              "  <tbody>\n",
              "    <tr>\n",
              "      <th>0</th>\n",
              "      <td>engineering systems analyst dorking surrey sal...</td>\n",
              "    </tr>\n",
              "    <tr>\n",
              "      <th>1</th>\n",
              "      <td>stress engineer glasgow salary **** to **** we...</td>\n",
              "    </tr>\n",
              "    <tr>\n",
              "      <th>2</th>\n",
              "      <td>mathematical modeller / simulation analyst / o...</td>\n",
              "    </tr>\n",
              "    <tr>\n",
              "      <th>3</th>\n",
              "      <td>engineering systems analyst / mathematical mod...</td>\n",
              "    </tr>\n",
              "    <tr>\n",
              "      <th>4</th>\n",
              "      <td>pioneer , miser engineering systems analyst do...</td>\n",
              "    </tr>\n",
              "    <tr>\n",
              "      <th>...</th>\n",
              "      <td>...</td>\n",
              "    </tr>\n",
              "    <tr>\n",
              "      <th>244763</th>\n",
              "      <td>position : qualified teacher subject / special...</td>\n",
              "    </tr>\n",
              "    <tr>\n",
              "      <th>244764</th>\n",
              "      <td>position : qualified teacher or nqt subject / ...</td>\n",
              "    </tr>\n",
              "    <tr>\n",
              "      <th>244765</th>\n",
              "      <td>position : qualified teacher subject / special...</td>\n",
              "    </tr>\n",
              "    <tr>\n",
              "      <th>244766</th>\n",
              "      <td>position : qualified teacher subject / special...</td>\n",
              "    </tr>\n",
              "    <tr>\n",
              "      <th>244767</th>\n",
              "      <td>this entrepreneurial and growing private equit...</td>\n",
              "    </tr>\n",
              "  </tbody>\n",
              "</table>\n",
              "<p>244768 rows × 1 columns</p>\n",
              "</div><br><label><b>dtype:</b> object</label>"
            ]
          },
          "metadata": {},
          "execution_count": 35
        }
      ]
    },
    {
      "cell_type": "code",
      "source": [
        "data[categorical_columns]"
      ],
      "metadata": {
        "colab": {
          "base_uri": "https://localhost:8080/",
          "height": 423
        },
        "id": "VughNZkfnjJH",
        "outputId": "8274bd2a-bc3e-4bf4-f216-1dc80594b7d2"
      },
      "execution_count": 36,
      "outputs": [
        {
          "output_type": "execute_result",
          "data": {
            "text/plain": [
              "                Category                       Company LocationNormalized  \\\n",
              "0       Engineering Jobs  Gregory Martin International            Dorking   \n",
              "1       Engineering Jobs  Gregory Martin International            Glasgow   \n",
              "2       Engineering Jobs  Gregory Martin International          Hampshire   \n",
              "3       Engineering Jobs  Gregory Martin International             Surrey   \n",
              "4       Engineering Jobs  Gregory Martin International             Surrey   \n",
              "...                  ...                           ...                ...   \n",
              "244763     Teaching Jobs                           NaN            Swindon   \n",
              "244764     Teaching Jobs                           NaN            Swindon   \n",
              "244765     Teaching Jobs                           NaN            Swindon   \n",
              "244766     Teaching Jobs                           NaN          Wiltshire   \n",
              "244767     Teaching Jobs                           NaN            Hitchin   \n",
              "\n",
              "       ContractType ContractTime  \n",
              "0               NaN    permanent  \n",
              "1               NaN    permanent  \n",
              "2               NaN    permanent  \n",
              "3               NaN    permanent  \n",
              "4               NaN    permanent  \n",
              "...             ...          ...  \n",
              "244763          NaN     contract  \n",
              "244764          NaN     contract  \n",
              "244765          NaN     contract  \n",
              "244766          NaN     contract  \n",
              "244767          NaN    permanent  \n",
              "\n",
              "[244768 rows x 5 columns]"
            ],
            "text/html": [
              "\n",
              "  <div id=\"df-05e94d73-e0a5-4cf2-8a78-12a6ac392762\" class=\"colab-df-container\">\n",
              "    <div>\n",
              "<style scoped>\n",
              "    .dataframe tbody tr th:only-of-type {\n",
              "        vertical-align: middle;\n",
              "    }\n",
              "\n",
              "    .dataframe tbody tr th {\n",
              "        vertical-align: top;\n",
              "    }\n",
              "\n",
              "    .dataframe thead th {\n",
              "        text-align: right;\n",
              "    }\n",
              "</style>\n",
              "<table border=\"1\" class=\"dataframe\">\n",
              "  <thead>\n",
              "    <tr style=\"text-align: right;\">\n",
              "      <th></th>\n",
              "      <th>Category</th>\n",
              "      <th>Company</th>\n",
              "      <th>LocationNormalized</th>\n",
              "      <th>ContractType</th>\n",
              "      <th>ContractTime</th>\n",
              "    </tr>\n",
              "  </thead>\n",
              "  <tbody>\n",
              "    <tr>\n",
              "      <th>0</th>\n",
              "      <td>Engineering Jobs</td>\n",
              "      <td>Gregory Martin International</td>\n",
              "      <td>Dorking</td>\n",
              "      <td>NaN</td>\n",
              "      <td>permanent</td>\n",
              "    </tr>\n",
              "    <tr>\n",
              "      <th>1</th>\n",
              "      <td>Engineering Jobs</td>\n",
              "      <td>Gregory Martin International</td>\n",
              "      <td>Glasgow</td>\n",
              "      <td>NaN</td>\n",
              "      <td>permanent</td>\n",
              "    </tr>\n",
              "    <tr>\n",
              "      <th>2</th>\n",
              "      <td>Engineering Jobs</td>\n",
              "      <td>Gregory Martin International</td>\n",
              "      <td>Hampshire</td>\n",
              "      <td>NaN</td>\n",
              "      <td>permanent</td>\n",
              "    </tr>\n",
              "    <tr>\n",
              "      <th>3</th>\n",
              "      <td>Engineering Jobs</td>\n",
              "      <td>Gregory Martin International</td>\n",
              "      <td>Surrey</td>\n",
              "      <td>NaN</td>\n",
              "      <td>permanent</td>\n",
              "    </tr>\n",
              "    <tr>\n",
              "      <th>4</th>\n",
              "      <td>Engineering Jobs</td>\n",
              "      <td>Gregory Martin International</td>\n",
              "      <td>Surrey</td>\n",
              "      <td>NaN</td>\n",
              "      <td>permanent</td>\n",
              "    </tr>\n",
              "    <tr>\n",
              "      <th>...</th>\n",
              "      <td>...</td>\n",
              "      <td>...</td>\n",
              "      <td>...</td>\n",
              "      <td>...</td>\n",
              "      <td>...</td>\n",
              "    </tr>\n",
              "    <tr>\n",
              "      <th>244763</th>\n",
              "      <td>Teaching Jobs</td>\n",
              "      <td>NaN</td>\n",
              "      <td>Swindon</td>\n",
              "      <td>NaN</td>\n",
              "      <td>contract</td>\n",
              "    </tr>\n",
              "    <tr>\n",
              "      <th>244764</th>\n",
              "      <td>Teaching Jobs</td>\n",
              "      <td>NaN</td>\n",
              "      <td>Swindon</td>\n",
              "      <td>NaN</td>\n",
              "      <td>contract</td>\n",
              "    </tr>\n",
              "    <tr>\n",
              "      <th>244765</th>\n",
              "      <td>Teaching Jobs</td>\n",
              "      <td>NaN</td>\n",
              "      <td>Swindon</td>\n",
              "      <td>NaN</td>\n",
              "      <td>contract</td>\n",
              "    </tr>\n",
              "    <tr>\n",
              "      <th>244766</th>\n",
              "      <td>Teaching Jobs</td>\n",
              "      <td>NaN</td>\n",
              "      <td>Wiltshire</td>\n",
              "      <td>NaN</td>\n",
              "      <td>contract</td>\n",
              "    </tr>\n",
              "    <tr>\n",
              "      <th>244767</th>\n",
              "      <td>Teaching Jobs</td>\n",
              "      <td>NaN</td>\n",
              "      <td>Hitchin</td>\n",
              "      <td>NaN</td>\n",
              "      <td>permanent</td>\n",
              "    </tr>\n",
              "  </tbody>\n",
              "</table>\n",
              "<p>244768 rows × 5 columns</p>\n",
              "</div>\n",
              "    <div class=\"colab-df-buttons\">\n",
              "\n",
              "  <div class=\"colab-df-container\">\n",
              "    <button class=\"colab-df-convert\" onclick=\"convertToInteractive('df-05e94d73-e0a5-4cf2-8a78-12a6ac392762')\"\n",
              "            title=\"Convert this dataframe to an interactive table.\"\n",
              "            style=\"display:none;\">\n",
              "\n",
              "  <svg xmlns=\"http://www.w3.org/2000/svg\" height=\"24px\" viewBox=\"0 -960 960 960\">\n",
              "    <path d=\"M120-120v-720h720v720H120Zm60-500h600v-160H180v160Zm220 220h160v-160H400v160Zm0 220h160v-160H400v160ZM180-400h160v-160H180v160Zm440 0h160v-160H620v160ZM180-180h160v-160H180v160Zm440 0h160v-160H620v160Z\"/>\n",
              "  </svg>\n",
              "    </button>\n",
              "\n",
              "  <style>\n",
              "    .colab-df-container {\n",
              "      display:flex;\n",
              "      gap: 12px;\n",
              "    }\n",
              "\n",
              "    .colab-df-convert {\n",
              "      background-color: #E8F0FE;\n",
              "      border: none;\n",
              "      border-radius: 50%;\n",
              "      cursor: pointer;\n",
              "      display: none;\n",
              "      fill: #1967D2;\n",
              "      height: 32px;\n",
              "      padding: 0 0 0 0;\n",
              "      width: 32px;\n",
              "    }\n",
              "\n",
              "    .colab-df-convert:hover {\n",
              "      background-color: #E2EBFA;\n",
              "      box-shadow: 0px 1px 2px rgba(60, 64, 67, 0.3), 0px 1px 3px 1px rgba(60, 64, 67, 0.15);\n",
              "      fill: #174EA6;\n",
              "    }\n",
              "\n",
              "    .colab-df-buttons div {\n",
              "      margin-bottom: 4px;\n",
              "    }\n",
              "\n",
              "    [theme=dark] .colab-df-convert {\n",
              "      background-color: #3B4455;\n",
              "      fill: #D2E3FC;\n",
              "    }\n",
              "\n",
              "    [theme=dark] .colab-df-convert:hover {\n",
              "      background-color: #434B5C;\n",
              "      box-shadow: 0px 1px 3px 1px rgba(0, 0, 0, 0.15);\n",
              "      filter: drop-shadow(0px 1px 2px rgba(0, 0, 0, 0.3));\n",
              "      fill: #FFFFFF;\n",
              "    }\n",
              "  </style>\n",
              "\n",
              "    <script>\n",
              "      const buttonEl =\n",
              "        document.querySelector('#df-05e94d73-e0a5-4cf2-8a78-12a6ac392762 button.colab-df-convert');\n",
              "      buttonEl.style.display =\n",
              "        google.colab.kernel.accessAllowed ? 'block' : 'none';\n",
              "\n",
              "      async function convertToInteractive(key) {\n",
              "        const element = document.querySelector('#df-05e94d73-e0a5-4cf2-8a78-12a6ac392762');\n",
              "        const dataTable =\n",
              "          await google.colab.kernel.invokeFunction('convertToInteractive',\n",
              "                                                    [key], {});\n",
              "        if (!dataTable) return;\n",
              "\n",
              "        const docLinkHtml = 'Like what you see? Visit the ' +\n",
              "          '<a target=\"_blank\" href=https://colab.research.google.com/notebooks/data_table.ipynb>data table notebook</a>'\n",
              "          + ' to learn more about interactive tables.';\n",
              "        element.innerHTML = '';\n",
              "        dataTable['output_type'] = 'display_data';\n",
              "        await google.colab.output.renderOutput(dataTable, element);\n",
              "        const docLink = document.createElement('div');\n",
              "        docLink.innerHTML = docLinkHtml;\n",
              "        element.appendChild(docLink);\n",
              "      }\n",
              "    </script>\n",
              "  </div>\n",
              "\n",
              "\n",
              "    <div id=\"df-5471914c-3b1c-4356-8fb7-b4de0b31ddcd\">\n",
              "      <button class=\"colab-df-quickchart\" onclick=\"quickchart('df-5471914c-3b1c-4356-8fb7-b4de0b31ddcd')\"\n",
              "                title=\"Suggest charts\"\n",
              "                style=\"display:none;\">\n",
              "\n",
              "<svg xmlns=\"http://www.w3.org/2000/svg\" height=\"24px\"viewBox=\"0 0 24 24\"\n",
              "     width=\"24px\">\n",
              "    <g>\n",
              "        <path d=\"M19 3H5c-1.1 0-2 .9-2 2v14c0 1.1.9 2 2 2h14c1.1 0 2-.9 2-2V5c0-1.1-.9-2-2-2zM9 17H7v-7h2v7zm4 0h-2V7h2v10zm4 0h-2v-4h2v4z\"/>\n",
              "    </g>\n",
              "</svg>\n",
              "      </button>\n",
              "\n",
              "<style>\n",
              "  .colab-df-quickchart {\n",
              "      --bg-color: #E8F0FE;\n",
              "      --fill-color: #1967D2;\n",
              "      --hover-bg-color: #E2EBFA;\n",
              "      --hover-fill-color: #174EA6;\n",
              "      --disabled-fill-color: #AAA;\n",
              "      --disabled-bg-color: #DDD;\n",
              "  }\n",
              "\n",
              "  [theme=dark] .colab-df-quickchart {\n",
              "      --bg-color: #3B4455;\n",
              "      --fill-color: #D2E3FC;\n",
              "      --hover-bg-color: #434B5C;\n",
              "      --hover-fill-color: #FFFFFF;\n",
              "      --disabled-bg-color: #3B4455;\n",
              "      --disabled-fill-color: #666;\n",
              "  }\n",
              "\n",
              "  .colab-df-quickchart {\n",
              "    background-color: var(--bg-color);\n",
              "    border: none;\n",
              "    border-radius: 50%;\n",
              "    cursor: pointer;\n",
              "    display: none;\n",
              "    fill: var(--fill-color);\n",
              "    height: 32px;\n",
              "    padding: 0;\n",
              "    width: 32px;\n",
              "  }\n",
              "\n",
              "  .colab-df-quickchart:hover {\n",
              "    background-color: var(--hover-bg-color);\n",
              "    box-shadow: 0 1px 2px rgba(60, 64, 67, 0.3), 0 1px 3px 1px rgba(60, 64, 67, 0.15);\n",
              "    fill: var(--button-hover-fill-color);\n",
              "  }\n",
              "\n",
              "  .colab-df-quickchart-complete:disabled,\n",
              "  .colab-df-quickchart-complete:disabled:hover {\n",
              "    background-color: var(--disabled-bg-color);\n",
              "    fill: var(--disabled-fill-color);\n",
              "    box-shadow: none;\n",
              "  }\n",
              "\n",
              "  .colab-df-spinner {\n",
              "    border: 2px solid var(--fill-color);\n",
              "    border-color: transparent;\n",
              "    border-bottom-color: var(--fill-color);\n",
              "    animation:\n",
              "      spin 1s steps(1) infinite;\n",
              "  }\n",
              "\n",
              "  @keyframes spin {\n",
              "    0% {\n",
              "      border-color: transparent;\n",
              "      border-bottom-color: var(--fill-color);\n",
              "      border-left-color: var(--fill-color);\n",
              "    }\n",
              "    20% {\n",
              "      border-color: transparent;\n",
              "      border-left-color: var(--fill-color);\n",
              "      border-top-color: var(--fill-color);\n",
              "    }\n",
              "    30% {\n",
              "      border-color: transparent;\n",
              "      border-left-color: var(--fill-color);\n",
              "      border-top-color: var(--fill-color);\n",
              "      border-right-color: var(--fill-color);\n",
              "    }\n",
              "    40% {\n",
              "      border-color: transparent;\n",
              "      border-right-color: var(--fill-color);\n",
              "      border-top-color: var(--fill-color);\n",
              "    }\n",
              "    60% {\n",
              "      border-color: transparent;\n",
              "      border-right-color: var(--fill-color);\n",
              "    }\n",
              "    80% {\n",
              "      border-color: transparent;\n",
              "      border-right-color: var(--fill-color);\n",
              "      border-bottom-color: var(--fill-color);\n",
              "    }\n",
              "    90% {\n",
              "      border-color: transparent;\n",
              "      border-bottom-color: var(--fill-color);\n",
              "    }\n",
              "  }\n",
              "</style>\n",
              "\n",
              "      <script>\n",
              "        async function quickchart(key) {\n",
              "          const quickchartButtonEl =\n",
              "            document.querySelector('#' + key + ' button');\n",
              "          quickchartButtonEl.disabled = true;  // To prevent multiple clicks.\n",
              "          quickchartButtonEl.classList.add('colab-df-spinner');\n",
              "          try {\n",
              "            const charts = await google.colab.kernel.invokeFunction(\n",
              "                'suggestCharts', [key], {});\n",
              "          } catch (error) {\n",
              "            console.error('Error during call to suggestCharts:', error);\n",
              "          }\n",
              "          quickchartButtonEl.classList.remove('colab-df-spinner');\n",
              "          quickchartButtonEl.classList.add('colab-df-quickchart-complete');\n",
              "        }\n",
              "        (() => {\n",
              "          let quickchartButtonEl =\n",
              "            document.querySelector('#df-5471914c-3b1c-4356-8fb7-b4de0b31ddcd button');\n",
              "          quickchartButtonEl.style.display =\n",
              "            google.colab.kernel.accessAllowed ? 'block' : 'none';\n",
              "        })();\n",
              "      </script>\n",
              "    </div>\n",
              "    </div>\n",
              "  </div>\n"
            ],
            "application/vnd.google.colaboratory.intrinsic+json": {
              "type": "dataframe"
            }
          },
          "metadata": {},
          "execution_count": 36
        }
      ]
    },
    {
      "cell_type": "markdown",
      "source": [
        "##Training pipeline\n"
      ],
      "metadata": {
        "id": "Bs3rT4_j0Y01"
      }
    },
    {
      "cell_type": "code",
      "execution_count": 37,
      "metadata": {
        "colab": {
          "base_uri": "https://localhost:8080/"
        },
        "id": "TngLcWA0ycO_",
        "outputId": "30071e31-9740-402d-fcd2-714fa3ec2cf8"
      },
      "outputs": [
        {
          "output_type": "stream",
          "name": "stdout",
          "text": [
            "Train size =  195814\n",
            "Validation size =  48954\n"
          ]
        }
      ],
      "source": [
        "from sklearn.model_selection import train_test_split\n",
        "\n",
        "\n",
        "data_train, data_val = train_test_split(data, test_size=0.2, random_state=42)\n",
        "data_train.index = range(len(data_train))\n",
        "data_val.index = range(len(data_val))\n",
        "\n",
        "print(\"Train size = \", len(data_train))\n",
        "print(\"Validation size = \", len(data_val))"
      ]
    },
    {
      "cell_type": "code",
      "execution_count": 38,
      "metadata": {
        "id": "2PXuKgOSycPB"
      },
      "outputs": [],
      "source": [
        "def make_batch(data, max_len=None, word_dropout=0):\n",
        "    \"\"\"\n",
        "    Creates a neural-network-friendly dict from the batch data.\n",
        "    :param word_dropout: replaces token index with UNK_IDX with this probability\n",
        "    :returns: a dict with {'title' : int64[batch, title_max_len]\n",
        "    \"\"\"\n",
        "    batch = {}\n",
        "    batch[\"Title\"] = as_matrix(data[\"Title\"].values, max_len)\n",
        "    batch[\"FullDescription\"] = as_matrix(data[\"FullDescription\"].values, max_len)\n",
        "    batch[\"Categorical\"] = categorical_vectorizer.transform(\n",
        "        data[categorical_columns].apply(dict, axis=1)\n",
        "    )\n",
        "\n",
        "    if word_dropout != 0:\n",
        "        batch[\"FullDescription\"] = apply_word_dropout(batch[\"FullDescription\"], 1.0 - word_dropout)\n",
        "\n",
        "    if target_column in data.columns:\n",
        "        batch[target_column] = data[target_column].values\n",
        "\n",
        "    return batch\n",
        "\n",
        "\n",
        "def apply_word_dropout(matrix, keep_prob, replace_with=UNK_IDX):\n",
        "    dropout_mask = np.random.choice(2, np.shape(matrix), p=[keep_prob, 1 - keep_prob])\n",
        "    dropout_mask &= matrix != PAD_IDX\n",
        "    return np.choose(dropout_mask, [matrix, np.full_like(matrix, replace_with)])"
      ]
    },
    {
      "cell_type": "code",
      "execution_count": 39,
      "metadata": {
        "id": "I6LpEQf0ycPD"
      },
      "outputs": [],
      "source": [
        "example_batch = make_batch(data_train[:5], max_len=15)\n",
        "# print(\"Example batch:\")\n",
        "# print(example_batch)\n",
        "# print(\"FullDescription shape:\", example_batch[\"FullDescription\"].shape)"
      ]
    },
    {
      "cell_type": "code",
      "source": [
        "data_train[:5]"
      ],
      "metadata": {
        "colab": {
          "base_uri": "https://localhost:8080/",
          "height": 379
        },
        "id": "HeH_AIP5sjmN",
        "outputId": "5f148e17-d3cc-4bb1-ccc7-6dd27d2eeaea"
      },
      "execution_count": 40,
      "outputs": [
        {
          "output_type": "execute_result",
          "data": {
            "text/plain": [
              "         Id                                              Title  \\\n",
              "0  69173058                              senior support worker   \n",
              "1  72450873  statistical / mathematical modeller in pharmac...   \n",
              "2  68364211                       emc team leader ( def stan )   \n",
              "3  69556873               core java engineer london , big data   \n",
              "4  71304393                                             driver   \n",
              "\n",
              "                                     FullDescription  \\\n",
              "0  senior support worker wanted a senior support ...   \n",
              "1  statistical / mathematical modeller in pharmac...   \n",
              "2  the opportunity my client is currently seeking...   \n",
              "3  core java engineer london , big data , mysql ,...   \n",
              "4  **** driver reqd for busy parcel round , exper...   \n",
              "\n",
              "                             LocationRaw LocationNormalized ContractType  \\\n",
              "0  Taunton, Somerset Somerset South West            Taunton          NaN   \n",
              "1                             North West  North West London          NaN   \n",
              "2                                 Surrey             Surrey          NaN   \n",
              "3                              UK London             London          NaN   \n",
              "4                              Brentwood          Brentwood    full_time   \n",
              "\n",
              "  ContractTime     Company                    Category  \\\n",
              "0    permanent       Other   Healthcare & Nursing Jobs   \n",
              "1    permanent       Other        Scientific & QA Jobs   \n",
              "2    permanent       Other            Engineering Jobs   \n",
              "3    permanent  Engage PSG                     IT Jobs   \n",
              "4          NaN       Other  Logistics & Warehouse Jobs   \n",
              "\n",
              "                                           SalaryRaw  SalaryNormalized  \\\n",
              "0                            15931 - 17082 per annum             16506   \n",
              "1             From 30,000 to 40,000 per annum 30-40K             35000   \n",
              "2                              45k + Bonus + Pension             45000   \n",
              "3  55000 - 70000 per annum + Bens, Bonus (up to 2...             62500   \n",
              "4                           350.00 - 400.00 per week             18000   \n",
              "\n",
              "          SourceName  Log1pSalary  \n",
              "0      totaljobs.com     9.711540  \n",
              "1      totaljobs.com    10.463132  \n",
              "2  justengineers.net    10.714440  \n",
              "3      careers4a.com    11.042938  \n",
              "4     Jobcentre Plus     9.798182  "
            ],
            "text/html": [
              "\n",
              "  <div id=\"df-897f31c6-a75f-4ff9-b6cb-1fc6211897b5\" class=\"colab-df-container\">\n",
              "    <div>\n",
              "<style scoped>\n",
              "    .dataframe tbody tr th:only-of-type {\n",
              "        vertical-align: middle;\n",
              "    }\n",
              "\n",
              "    .dataframe tbody tr th {\n",
              "        vertical-align: top;\n",
              "    }\n",
              "\n",
              "    .dataframe thead th {\n",
              "        text-align: right;\n",
              "    }\n",
              "</style>\n",
              "<table border=\"1\" class=\"dataframe\">\n",
              "  <thead>\n",
              "    <tr style=\"text-align: right;\">\n",
              "      <th></th>\n",
              "      <th>Id</th>\n",
              "      <th>Title</th>\n",
              "      <th>FullDescription</th>\n",
              "      <th>LocationRaw</th>\n",
              "      <th>LocationNormalized</th>\n",
              "      <th>ContractType</th>\n",
              "      <th>ContractTime</th>\n",
              "      <th>Company</th>\n",
              "      <th>Category</th>\n",
              "      <th>SalaryRaw</th>\n",
              "      <th>SalaryNormalized</th>\n",
              "      <th>SourceName</th>\n",
              "      <th>Log1pSalary</th>\n",
              "    </tr>\n",
              "  </thead>\n",
              "  <tbody>\n",
              "    <tr>\n",
              "      <th>0</th>\n",
              "      <td>69173058</td>\n",
              "      <td>senior support worker</td>\n",
              "      <td>senior support worker wanted a senior support ...</td>\n",
              "      <td>Taunton, Somerset Somerset South West</td>\n",
              "      <td>Taunton</td>\n",
              "      <td>NaN</td>\n",
              "      <td>permanent</td>\n",
              "      <td>Other</td>\n",
              "      <td>Healthcare &amp; Nursing Jobs</td>\n",
              "      <td>15931 - 17082 per annum</td>\n",
              "      <td>16506</td>\n",
              "      <td>totaljobs.com</td>\n",
              "      <td>9.711540</td>\n",
              "    </tr>\n",
              "    <tr>\n",
              "      <th>1</th>\n",
              "      <td>72450873</td>\n",
              "      <td>statistical / mathematical modeller in pharmac...</td>\n",
              "      <td>statistical / mathematical modeller in pharmac...</td>\n",
              "      <td>North West</td>\n",
              "      <td>North West London</td>\n",
              "      <td>NaN</td>\n",
              "      <td>permanent</td>\n",
              "      <td>Other</td>\n",
              "      <td>Scientific &amp; QA Jobs</td>\n",
              "      <td>From 30,000 to 40,000 per annum 30-40K</td>\n",
              "      <td>35000</td>\n",
              "      <td>totaljobs.com</td>\n",
              "      <td>10.463132</td>\n",
              "    </tr>\n",
              "    <tr>\n",
              "      <th>2</th>\n",
              "      <td>68364211</td>\n",
              "      <td>emc team leader ( def stan )</td>\n",
              "      <td>the opportunity my client is currently seeking...</td>\n",
              "      <td>Surrey</td>\n",
              "      <td>Surrey</td>\n",
              "      <td>NaN</td>\n",
              "      <td>permanent</td>\n",
              "      <td>Other</td>\n",
              "      <td>Engineering Jobs</td>\n",
              "      <td>45k + Bonus + Pension</td>\n",
              "      <td>45000</td>\n",
              "      <td>justengineers.net</td>\n",
              "      <td>10.714440</td>\n",
              "    </tr>\n",
              "    <tr>\n",
              "      <th>3</th>\n",
              "      <td>69556873</td>\n",
              "      <td>core java engineer london , big data</td>\n",
              "      <td>core java engineer london , big data , mysql ,...</td>\n",
              "      <td>UK London</td>\n",
              "      <td>London</td>\n",
              "      <td>NaN</td>\n",
              "      <td>permanent</td>\n",
              "      <td>Engage PSG</td>\n",
              "      <td>IT Jobs</td>\n",
              "      <td>55000 - 70000 per annum + Bens, Bonus (up to 2...</td>\n",
              "      <td>62500</td>\n",
              "      <td>careers4a.com</td>\n",
              "      <td>11.042938</td>\n",
              "    </tr>\n",
              "    <tr>\n",
              "      <th>4</th>\n",
              "      <td>71304393</td>\n",
              "      <td>driver</td>\n",
              "      <td>**** driver reqd for busy parcel round , exper...</td>\n",
              "      <td>Brentwood</td>\n",
              "      <td>Brentwood</td>\n",
              "      <td>full_time</td>\n",
              "      <td>NaN</td>\n",
              "      <td>Other</td>\n",
              "      <td>Logistics &amp; Warehouse Jobs</td>\n",
              "      <td>350.00 - 400.00 per week</td>\n",
              "      <td>18000</td>\n",
              "      <td>Jobcentre Plus</td>\n",
              "      <td>9.798182</td>\n",
              "    </tr>\n",
              "  </tbody>\n",
              "</table>\n",
              "</div>\n",
              "    <div class=\"colab-df-buttons\">\n",
              "\n",
              "  <div class=\"colab-df-container\">\n",
              "    <button class=\"colab-df-convert\" onclick=\"convertToInteractive('df-897f31c6-a75f-4ff9-b6cb-1fc6211897b5')\"\n",
              "            title=\"Convert this dataframe to an interactive table.\"\n",
              "            style=\"display:none;\">\n",
              "\n",
              "  <svg xmlns=\"http://www.w3.org/2000/svg\" height=\"24px\" viewBox=\"0 -960 960 960\">\n",
              "    <path d=\"M120-120v-720h720v720H120Zm60-500h600v-160H180v160Zm220 220h160v-160H400v160Zm0 220h160v-160H400v160ZM180-400h160v-160H180v160Zm440 0h160v-160H620v160ZM180-180h160v-160H180v160Zm440 0h160v-160H620v160Z\"/>\n",
              "  </svg>\n",
              "    </button>\n",
              "\n",
              "  <style>\n",
              "    .colab-df-container {\n",
              "      display:flex;\n",
              "      gap: 12px;\n",
              "    }\n",
              "\n",
              "    .colab-df-convert {\n",
              "      background-color: #E8F0FE;\n",
              "      border: none;\n",
              "      border-radius: 50%;\n",
              "      cursor: pointer;\n",
              "      display: none;\n",
              "      fill: #1967D2;\n",
              "      height: 32px;\n",
              "      padding: 0 0 0 0;\n",
              "      width: 32px;\n",
              "    }\n",
              "\n",
              "    .colab-df-convert:hover {\n",
              "      background-color: #E2EBFA;\n",
              "      box-shadow: 0px 1px 2px rgba(60, 64, 67, 0.3), 0px 1px 3px 1px rgba(60, 64, 67, 0.15);\n",
              "      fill: #174EA6;\n",
              "    }\n",
              "\n",
              "    .colab-df-buttons div {\n",
              "      margin-bottom: 4px;\n",
              "    }\n",
              "\n",
              "    [theme=dark] .colab-df-convert {\n",
              "      background-color: #3B4455;\n",
              "      fill: #D2E3FC;\n",
              "    }\n",
              "\n",
              "    [theme=dark] .colab-df-convert:hover {\n",
              "      background-color: #434B5C;\n",
              "      box-shadow: 0px 1px 3px 1px rgba(0, 0, 0, 0.15);\n",
              "      filter: drop-shadow(0px 1px 2px rgba(0, 0, 0, 0.3));\n",
              "      fill: #FFFFFF;\n",
              "    }\n",
              "  </style>\n",
              "\n",
              "    <script>\n",
              "      const buttonEl =\n",
              "        document.querySelector('#df-897f31c6-a75f-4ff9-b6cb-1fc6211897b5 button.colab-df-convert');\n",
              "      buttonEl.style.display =\n",
              "        google.colab.kernel.accessAllowed ? 'block' : 'none';\n",
              "\n",
              "      async function convertToInteractive(key) {\n",
              "        const element = document.querySelector('#df-897f31c6-a75f-4ff9-b6cb-1fc6211897b5');\n",
              "        const dataTable =\n",
              "          await google.colab.kernel.invokeFunction('convertToInteractive',\n",
              "                                                    [key], {});\n",
              "        if (!dataTable) return;\n",
              "\n",
              "        const docLinkHtml = 'Like what you see? Visit the ' +\n",
              "          '<a target=\"_blank\" href=https://colab.research.google.com/notebooks/data_table.ipynb>data table notebook</a>'\n",
              "          + ' to learn more about interactive tables.';\n",
              "        element.innerHTML = '';\n",
              "        dataTable['output_type'] = 'display_data';\n",
              "        await google.colab.output.renderOutput(dataTable, element);\n",
              "        const docLink = document.createElement('div');\n",
              "        docLink.innerHTML = docLinkHtml;\n",
              "        element.appendChild(docLink);\n",
              "      }\n",
              "    </script>\n",
              "  </div>\n",
              "\n",
              "\n",
              "    <div id=\"df-a774ef80-b17b-419f-a95e-8ddecb609185\">\n",
              "      <button class=\"colab-df-quickchart\" onclick=\"quickchart('df-a774ef80-b17b-419f-a95e-8ddecb609185')\"\n",
              "                title=\"Suggest charts\"\n",
              "                style=\"display:none;\">\n",
              "\n",
              "<svg xmlns=\"http://www.w3.org/2000/svg\" height=\"24px\"viewBox=\"0 0 24 24\"\n",
              "     width=\"24px\">\n",
              "    <g>\n",
              "        <path d=\"M19 3H5c-1.1 0-2 .9-2 2v14c0 1.1.9 2 2 2h14c1.1 0 2-.9 2-2V5c0-1.1-.9-2-2-2zM9 17H7v-7h2v7zm4 0h-2V7h2v10zm4 0h-2v-4h2v4z\"/>\n",
              "    </g>\n",
              "</svg>\n",
              "      </button>\n",
              "\n",
              "<style>\n",
              "  .colab-df-quickchart {\n",
              "      --bg-color: #E8F0FE;\n",
              "      --fill-color: #1967D2;\n",
              "      --hover-bg-color: #E2EBFA;\n",
              "      --hover-fill-color: #174EA6;\n",
              "      --disabled-fill-color: #AAA;\n",
              "      --disabled-bg-color: #DDD;\n",
              "  }\n",
              "\n",
              "  [theme=dark] .colab-df-quickchart {\n",
              "      --bg-color: #3B4455;\n",
              "      --fill-color: #D2E3FC;\n",
              "      --hover-bg-color: #434B5C;\n",
              "      --hover-fill-color: #FFFFFF;\n",
              "      --disabled-bg-color: #3B4455;\n",
              "      --disabled-fill-color: #666;\n",
              "  }\n",
              "\n",
              "  .colab-df-quickchart {\n",
              "    background-color: var(--bg-color);\n",
              "    border: none;\n",
              "    border-radius: 50%;\n",
              "    cursor: pointer;\n",
              "    display: none;\n",
              "    fill: var(--fill-color);\n",
              "    height: 32px;\n",
              "    padding: 0;\n",
              "    width: 32px;\n",
              "  }\n",
              "\n",
              "  .colab-df-quickchart:hover {\n",
              "    background-color: var(--hover-bg-color);\n",
              "    box-shadow: 0 1px 2px rgba(60, 64, 67, 0.3), 0 1px 3px 1px rgba(60, 64, 67, 0.15);\n",
              "    fill: var(--button-hover-fill-color);\n",
              "  }\n",
              "\n",
              "  .colab-df-quickchart-complete:disabled,\n",
              "  .colab-df-quickchart-complete:disabled:hover {\n",
              "    background-color: var(--disabled-bg-color);\n",
              "    fill: var(--disabled-fill-color);\n",
              "    box-shadow: none;\n",
              "  }\n",
              "\n",
              "  .colab-df-spinner {\n",
              "    border: 2px solid var(--fill-color);\n",
              "    border-color: transparent;\n",
              "    border-bottom-color: var(--fill-color);\n",
              "    animation:\n",
              "      spin 1s steps(1) infinite;\n",
              "  }\n",
              "\n",
              "  @keyframes spin {\n",
              "    0% {\n",
              "      border-color: transparent;\n",
              "      border-bottom-color: var(--fill-color);\n",
              "      border-left-color: var(--fill-color);\n",
              "    }\n",
              "    20% {\n",
              "      border-color: transparent;\n",
              "      border-left-color: var(--fill-color);\n",
              "      border-top-color: var(--fill-color);\n",
              "    }\n",
              "    30% {\n",
              "      border-color: transparent;\n",
              "      border-left-color: var(--fill-color);\n",
              "      border-top-color: var(--fill-color);\n",
              "      border-right-color: var(--fill-color);\n",
              "    }\n",
              "    40% {\n",
              "      border-color: transparent;\n",
              "      border-right-color: var(--fill-color);\n",
              "      border-top-color: var(--fill-color);\n",
              "    }\n",
              "    60% {\n",
              "      border-color: transparent;\n",
              "      border-right-color: var(--fill-color);\n",
              "    }\n",
              "    80% {\n",
              "      border-color: transparent;\n",
              "      border-right-color: var(--fill-color);\n",
              "      border-bottom-color: var(--fill-color);\n",
              "    }\n",
              "    90% {\n",
              "      border-color: transparent;\n",
              "      border-bottom-color: var(--fill-color);\n",
              "    }\n",
              "  }\n",
              "</style>\n",
              "\n",
              "      <script>\n",
              "        async function quickchart(key) {\n",
              "          const quickchartButtonEl =\n",
              "            document.querySelector('#' + key + ' button');\n",
              "          quickchartButtonEl.disabled = true;  // To prevent multiple clicks.\n",
              "          quickchartButtonEl.classList.add('colab-df-spinner');\n",
              "          try {\n",
              "            const charts = await google.colab.kernel.invokeFunction(\n",
              "                'suggestCharts', [key], {});\n",
              "          } catch (error) {\n",
              "            console.error('Error during call to suggestCharts:', error);\n",
              "          }\n",
              "          quickchartButtonEl.classList.remove('colab-df-spinner');\n",
              "          quickchartButtonEl.classList.add('colab-df-quickchart-complete');\n",
              "        }\n",
              "        (() => {\n",
              "          let quickchartButtonEl =\n",
              "            document.querySelector('#df-a774ef80-b17b-419f-a95e-8ddecb609185 button');\n",
              "          quickchartButtonEl.style.display =\n",
              "            google.colab.kernel.accessAllowed ? 'block' : 'none';\n",
              "        })();\n",
              "      </script>\n",
              "    </div>\n",
              "    </div>\n",
              "  </div>\n"
            ],
            "application/vnd.google.colaboratory.intrinsic+json": {
              "type": "dataframe",
              "summary": "{\n  \"name\": \"data_train[:5]\",\n  \"rows\": 5,\n  \"fields\": [\n    {\n      \"column\": \"Id\",\n      \"properties\": {\n        \"dtype\": \"number\",\n        \"std\": 1667327,\n        \"min\": 68364211,\n        \"max\": 72450873,\n        \"num_unique_values\": 5,\n        \"samples\": [\n          72450873,\n          71304393,\n          68364211\n        ],\n        \"semantic_type\": \"\",\n        \"description\": \"\"\n      }\n    },\n    {\n      \"column\": \"Title\",\n      \"properties\": {\n        \"dtype\": \"string\",\n        \"num_unique_values\": 5,\n        \"samples\": [\n          \"statistical / mathematical modeller in pharmaceutical biosciences\",\n          \"driver\",\n          \"emc team leader ( def stan )\"\n        ],\n        \"semantic_type\": \"\",\n        \"description\": \"\"\n      }\n    },\n    {\n      \"column\": \"FullDescription\",\n      \"properties\": {\n        \"dtype\": \"string\",\n        \"num_unique_values\": 5,\n        \"samples\": [\n          \"statistical / mathematical modeller in pharmaceutical biosciences ref : **** based cheshire excellent remuneration and benefits our client is seeking a talented ph . d . qualified mathematical / statistical modeller to participate in the development of cutting edge models for application in the pharmaceutical , agrochemical and chemical industries . the position will entail making significant contributions to several projects in simulation modelling and high content screening . the primary requirements are a strong background in statistics or mathematics , a desire to work in a pharmaceutical / biological modelling environment , adaptability and a good team ethic . job purpose the position is primarily involved with providing rigorous mathematical and statistical support for research and development projects being performed at the company \\u2019 s uk and usa sites . these projects include : ( pbpk and pbpk / pd models ) of novel chemicals from appropriate in vitro adme , receptorbinding and high content screening data generated during drug and chemical discovery . \\u2022 the development of novel methods for predicting toxicity of drugs and other chemicals from high content screening ( hcs ) data and from predicted in vivo exposure . the jobholder will work closely with simulation modellers , research assistants , laboratory staff and computer programmers to develop and deploy new models . the jobholder will be expected to provide both intellectual and handson programming input to the model development process . skills and competencies candidates for this position should have good skills in mathematics and / or statistics . a ph . d . is not essential , but demonstrable experience of research and development to a similar or higher standard is necessary . candidates need not have a pharmacology / biosciences background , but this would be an advantage . we particularly welcome applicants with knowledge of pattern recognition , machine learning , identifiability analysis , information theory , numerical analysis or curve fitting . due to the wideranging remit of the position , candidates with strengths in a subset of these skills will be considered , and training provided to supplement with the additional skills required . the position entails working in a team software development environment and will require considerable programming work . candidates should have good programming skills in a relevant numeric programming environment ( e . g . r , python / numpy / scipy , matlab ). experience of formal software development methods would be an advantage , but training will be given to a successful candidate lacking this experience . good communication skills ( written and oral ) are essential . experience of drug discovery or development would also be an advantage . aptitude applicants must be adaptable , being able to contribute to the various strands of research and development being performed within the company . the successful candidate will have the confidence to work on their own initiative , whilst being able to work as an integral part of a multidisciplinary team . being a firstclass team worker is an essential requirement . development opportunities our client develops and deploys a unique range of in silico and in vitro services and products to more than **** customers worldwide working in drug discovery and development , agrochemistry and neutraceuticals . within this dynamic commercial and research environment , the successful applicant will have the opportunity to develop their scientific knowledge to cover this large and expanding range of services provided by the company in experimental adme screening , in vitro toxicology and software systems for the prediction of pharmacokinetics , pharmacodynamics and drug safety in vivo . it is also expected that they will be required to act in a consultative manner for our customers on specific clientdriven projects . training will be available to complement existing skills with any additional expertise required for successful execution of the jobholder \\u2019 s accountabilities . they expect that the jobholder will be able to enhance their publication record by contributing to publications in highquality journals , and by presentation of original work at relevant scientific conferences . the position is based in cheshire within easy reach of manchester . an excellent remuneration package is on offer , combined with the opportunity to work on challenging development projects in a unique environment . salary : ******** k to apply , send your cv to andy cuthbert on acscisearch . com quoting ref : **** this job was originally posted as www . totaljobs . com / jobseeking / statisticalmathematicalmodellerinpharmaceuticalbiosciences_job ****\",\n          \"**** driver reqd for busy parcel round , experience preferred but not essential minor points considered on a full gb licence with c / c **** classification . mon fri 7 am start to ****/**** finish . applicants must be **** for insurance purposes .\",\n          \"the opportunity my client is currently seeking a team leader electromagnetic compatibility military testing to look after the test and certification of a wide range of products and services . they are a leading organisation that specialise in product compliance solutions in a wide range of industries . the role to develop a team of engineers capable of undertaking emc testing against military standards promote the brand through the military industry maintain and update current ukas schedule for military standards conduct formal and informal training sessions project management of large jobs even when others are working on them provide accurate financial information for your area attend sales visits at customer sites as required assist in the formulation of sales and marketing strategies supervise all lab audits including ukas and noncompliance rectifications for military the team responsible for ( emc ) certification of military products as per national and international requirements . product evaluation as per ul , en iec standards for ce marking the person experience of conducting test work to def stan **** experience of emc testing and project management hnc in electronics / engineering as a minimum , experience of sixsigma and process methodologies would be a bonus ability to travel the rewards in return you will receive a competitive salary and bonus scheme together with ongoing training in industry developments . they also promote a culture where motivated customeroriented employees can flourish , experience professional fulfilment and reach their highest potential .\"\n        ],\n        \"semantic_type\": \"\",\n        \"description\": \"\"\n      }\n    },\n    {\n      \"column\": \"LocationRaw\",\n      \"properties\": {\n        \"dtype\": \"string\",\n        \"num_unique_values\": 5,\n        \"samples\": [\n          \"North West\",\n          \"Brentwood\",\n          \"Surrey\"\n        ],\n        \"semantic_type\": \"\",\n        \"description\": \"\"\n      }\n    },\n    {\n      \"column\": \"LocationNormalized\",\n      \"properties\": {\n        \"dtype\": \"string\",\n        \"num_unique_values\": 5,\n        \"samples\": [\n          \"North West London\",\n          \"Brentwood\",\n          \"Surrey\"\n        ],\n        \"semantic_type\": \"\",\n        \"description\": \"\"\n      }\n    },\n    {\n      \"column\": \"ContractType\",\n      \"properties\": {\n        \"dtype\": \"category\",\n        \"num_unique_values\": 2,\n        \"samples\": [\n          \"full_time\",\n          \"NaN\"\n        ],\n        \"semantic_type\": \"\",\n        \"description\": \"\"\n      }\n    },\n    {\n      \"column\": \"ContractTime\",\n      \"properties\": {\n        \"dtype\": \"category\",\n        \"num_unique_values\": 2,\n        \"samples\": [\n          \"NaN\",\n          \"permanent\"\n        ],\n        \"semantic_type\": \"\",\n        \"description\": \"\"\n      }\n    },\n    {\n      \"column\": \"Company\",\n      \"properties\": {\n        \"dtype\": \"category\",\n        \"num_unique_values\": 2,\n        \"samples\": [\n          \"Engage PSG\",\n          \"Other\"\n        ],\n        \"semantic_type\": \"\",\n        \"description\": \"\"\n      }\n    },\n    {\n      \"column\": \"Category\",\n      \"properties\": {\n        \"dtype\": \"string\",\n        \"num_unique_values\": 5,\n        \"samples\": [\n          \"Scientific & QA Jobs\",\n          \"Logistics & Warehouse Jobs\"\n        ],\n        \"semantic_type\": \"\",\n        \"description\": \"\"\n      }\n    },\n    {\n      \"column\": \"SalaryRaw\",\n      \"properties\": {\n        \"dtype\": \"string\",\n        \"num_unique_values\": 5,\n        \"samples\": [\n          \"From 30,000 to 40,000 per annum 30-40K\",\n          \"350.00 - 400.00 per week\"\n        ],\n        \"semantic_type\": \"\",\n        \"description\": \"\"\n      }\n    },\n    {\n      \"column\": \"SalaryNormalized\",\n      \"properties\": {\n        \"dtype\": \"number\",\n        \"std\": 19277,\n        \"min\": 16506,\n        \"max\": 62500,\n        \"num_unique_values\": 5,\n        \"samples\": [\n          35000,\n          18000\n        ],\n        \"semantic_type\": \"\",\n        \"description\": \"\"\n      }\n    },\n    {\n      \"column\": \"SourceName\",\n      \"properties\": {\n        \"dtype\": \"string\",\n        \"num_unique_values\": 4,\n        \"samples\": [\n          \"justengineers.net\",\n          \"Jobcentre Plus\"\n        ],\n        \"semantic_type\": \"\",\n        \"description\": \"\"\n      }\n    },\n    {\n      \"column\": \"Log1pSalary\",\n      \"properties\": {\n        \"dtype\": \"float32\",\n        \"num_unique_values\": 5,\n        \"samples\": [\n          10.46313190460205,\n          9.798182487487793\n        ],\n        \"semantic_type\": \"\",\n        \"description\": \"\"\n      }\n    }\n  ]\n}"
            }
          },
          "metadata": {},
          "execution_count": 40
        }
      ]
    },
    {
      "cell_type": "code",
      "source": [
        "example_batch"
      ],
      "metadata": {
        "colab": {
          "base_uri": "https://localhost:8080/"
        },
        "id": "JGGduMhCsOJ7",
        "outputId": "93c63299-5d01-4da1-e94c-a0c97eaf12b5"
      },
      "execution_count": 41,
      "outputs": [
        {
          "output_type": "execute_result",
          "data": {
            "text/plain": [
              "{'Title': array([[27645, 29893, 33674,     1,     1,     1,     1],\n",
              "        [29239,   197, 19175, 20042, 15554, 23162,  4051],\n",
              "        [10609, 30412, 17746,    33,  8705, 29157,    65],\n",
              "        [ 7574, 16690, 10804, 18371,   158,  3958,  8418],\n",
              "        [ 9895,     1,     1,     1,     1,     1,     1]]),\n",
              " 'FullDescription': array([[27645, 29893, 33674, 32939,   982, 27645, 29893, 33674, 16451,\n",
              "         32939, 12587,   982, 26081, 27746, 15554],\n",
              "        [29239,   197, 19175, 20042, 15554, 23162,  4051, 25511,   907,\n",
              "            82,  3547,  6061, 11400, 25843,  2189],\n",
              "        [30746, 21956, 20601,  6409, 16451,  8165, 27493,   982, 30412,\n",
              "         17746, 10481,  6927, 19815, 30695, 31100],\n",
              "        [ 7574, 16690, 10804, 18371,   158,  3958,  8418,   158, 20610,\n",
              "           158, 21307,   158, 20529,   158,  9519],\n",
              "        [   82,  9895, 25998, 12587,  5025, 22551, 26734,   158, 11558,\n",
              "         23947,  5026, 21308, 11171, 19884, 23548]]),\n",
              " 'Categorical': array([[0., 0., 0., ..., 0., 0., 0.],\n",
              "        [0., 0., 0., ..., 0., 0., 0.],\n",
              "        [0., 0., 0., ..., 0., 0., 0.],\n",
              "        [0., 0., 0., ..., 0., 0., 0.],\n",
              "        [0., 0., 0., ..., 0., 0., 0.]], dtype=float32),\n",
              " 'Log1pSalary': array([ 9.71154  , 10.463132 , 10.71444  , 11.042938 ,  9.7981825],\n",
              "       dtype=float32)}"
            ]
          },
          "metadata": {},
          "execution_count": 41
        }
      ]
    },
    {
      "cell_type": "code",
      "source": [
        "print(example_batch['Title'].shape, example_batch['Title'], sep='\\n')"
      ],
      "metadata": {
        "id": "fI62zfA-8FLQ",
        "outputId": "44aa5ee2-454b-4374-cfc3-cab9cdfb7be4",
        "colab": {
          "base_uri": "https://localhost:8080/"
        }
      },
      "execution_count": 42,
      "outputs": [
        {
          "output_type": "stream",
          "name": "stdout",
          "text": [
            "(5, 7)\n",
            "[[27645 29893 33674     1     1     1     1]\n",
            " [29239   197 19175 20042 15554 23162  4051]\n",
            " [10609 30412 17746    33  8705 29157    65]\n",
            " [ 7574 16690 10804 18371   158  3958  8418]\n",
            " [ 9895     1     1     1     1     1     1]]\n"
          ]
        }
      ]
    },
    {
      "cell_type": "code",
      "source": [
        "print(example_batch['FullDescription'].shape, example_batch['FullDescription'], sep='\\n')"
      ],
      "metadata": {
        "id": "MpDxxH1f8NVJ",
        "outputId": "5915447c-1fa7-4b84-f2b0-725f0c1403d4",
        "colab": {
          "base_uri": "https://localhost:8080/"
        }
      },
      "execution_count": 43,
      "outputs": [
        {
          "output_type": "stream",
          "name": "stdout",
          "text": [
            "(5, 15)\n",
            "[[27645 29893 33674 32939   982 27645 29893 33674 16451 32939 12587   982\n",
            "  26081 27746 15554]\n",
            " [29239   197 19175 20042 15554 23162  4051 25511   907    82  3547  6061\n",
            "  11400 25843  2189]\n",
            " [30746 21956 20601  6409 16451  8165 27493   982 30412 17746 10481  6927\n",
            "  19815 30695 31100]\n",
            " [ 7574 16690 10804 18371   158  3958  8418   158 20610   158 21307   158\n",
            "  20529   158  9519]\n",
            " [   82  9895 25998 12587  5025 22551 26734   158 11558 23947  5026 21308\n",
            "  11171 19884 23548]]\n"
          ]
        }
      ]
    },
    {
      "cell_type": "code",
      "source": [
        "print(example_batch['Categorical'].shape, example_batch['Categorical'], sep='\\n')"
      ],
      "metadata": {
        "id": "rvJTshvB8Oe2",
        "outputId": "f425fecf-7855-4fa9-bca9-0da5e5b8e48b",
        "colab": {
          "base_uri": "https://localhost:8080/"
        }
      },
      "execution_count": 44,
      "outputs": [
        {
          "output_type": "stream",
          "name": "stdout",
          "text": [
            "(5, 3768)\n",
            "[[0. 0. 0. ... 0. 0. 0.]\n",
            " [0. 0. 0. ... 0. 0. 0.]\n",
            " [0. 0. 0. ... 0. 0. 0.]\n",
            " [0. 0. 0. ... 0. 0. 0.]\n",
            " [0. 0. 0. ... 0. 0. 0.]]\n"
          ]
        }
      ]
    },
    {
      "cell_type": "code",
      "source": [
        "print(example_batch['Log1pSalary'].shape, example_batch['Log1pSalary'], sep='\\n')"
      ],
      "metadata": {
        "id": "YaGaBvDl9rti",
        "outputId": "05079f8c-8fe6-4875-fd24-0eec82fac1c7",
        "colab": {
          "base_uri": "https://localhost:8080/"
        }
      },
      "execution_count": 45,
      "outputs": [
        {
          "output_type": "stream",
          "name": "stdout",
          "text": [
            "(5,)\n",
            "[ 9.71154   10.463132  10.71444   11.042938   9.7981825]\n"
          ]
        }
      ]
    },
    {
      "cell_type": "code",
      "execution_count": 46,
      "metadata": {
        "id": "nBfN182zpHfd"
      },
      "outputs": [],
      "source": [
        "def iterate_minibatches(data, batch_size=256, shuffle=True, cycle=False, **kwargs):\n",
        "    \"\"\"iterates minibatches of data in random order\"\"\"\n",
        "    while True:\n",
        "        indices = np.arange(len(data))\n",
        "        if shuffle:\n",
        "            indices = np.random.permutation(indices)\n",
        "\n",
        "        for start in range(0, len(indices), batch_size):\n",
        "            batch = make_batch(data.iloc[indices[start : start + batch_size]], **kwargs)\n",
        "            target = batch.pop(target_column)\n",
        "            yield batch, target\n",
        "\n",
        "        if not cycle:\n",
        "            break"
      ]
    },
    {
      "cell_type": "markdown",
      "metadata": {
        "id": "iQAQPx3-pHfd"
      },
      "source": [
        "To generate minibatches we will use simple pyton generator."
      ]
    },
    {
      "cell_type": "code",
      "source": [
        "iterator = iterate_minibatches(data_train, 3)\n",
        "batch, target = next(iterator)"
      ],
      "metadata": {
        "id": "fCeb-W9EodjZ"
      },
      "execution_count": 47,
      "outputs": []
    },
    {
      "cell_type": "code",
      "source": [
        "batch"
      ],
      "metadata": {
        "id": "O7m6hv7QBkoV",
        "colab": {
          "base_uri": "https://localhost:8080/"
        },
        "outputId": "1efc9b81-b674-4de7-dbb6-31a41e3d6ebc"
      },
      "execution_count": 48,
      "outputs": [
        {
          "output_type": "execute_result",
          "data": {
            "text/plain": [
              "{'Title': array([[ 8977, 18864, 34100, 19964, 32267,  9083, 34100, 21282, 18371],\n",
              "        [27645, 20679,  1193, 18864,     1,     1,     1,     1,     1],\n",
              "        [ 6444, 17744, 21436,     1,     1,     1,     1,     1,     1]]),\n",
              " 'FullDescription': array([[ 8977, 18864, 34100, 19964, 32267,  9083, 34100, 21282, 18371,\n",
              "           169, 22209,  6409, 16451,   982, 17753, 18761,  7412, 31997,\n",
              "         31363,  2189,  8977,  4875,   158, 20918,  4875,  2189, 25599,\n",
              "         27262,  1315, 18371, 33554, 32391, 31100,    82, 18640,   169,\n",
              "         22209,  6409, 16451, 21358, 27493,  2142, 11563, 27645,  8977,\n",
              "         18864, 31100, 14326, 32170, 30746,  8977,  4875, 12998, 21788,\n",
              "           982,   768, 20918,  4875, 26081, 27259, 15554, 21282, 33260,\n",
              "         18371,   169, 30746, 24359, 33435,  7038,   982, 21421, 21634,\n",
              "         25135, 12778, 31274, 21634,  2357, 33554, 14599, 12254,   169,\n",
              "         22209,  6409, 16451, 27493,  2142, 11563,  8977, 18864,  5315,\n",
              "         21634, 17753,   982, 30412, 21634,  8328,  3267,  7539, 21788,\n",
              "           982, 11913, 20314,  9083,    33, 33554, 30746, 15735,   158,\n",
              "         28141,  2113, 21634,  8977, 25725, 16529, 21788,   982,  8328,\n",
              "          3267, 27259, 21634, 30847, 28283,    73,  2411, 28040, 14246,\n",
              "         29552, 23863, 23699,  7407,  8977, 18858, 11558, 13087, 33554,\n",
              "           982, 25324, 18761,  7412, 30746, 15288,  5273, 33763, 14246,\n",
              "           982, 29101, 10672, 14702, 33554, 11667, 11558, 33689, 21788,\n",
              "         17612, 26081, 20918,  4875, 24381, 15554, 26269, 22209,  6409,\n",
              "         16451, 21648,   982,  6951,  3558, 26980,   158, 12974, 22409,\n",
              "          2189,  4309, 30153,   169, 30847, 16826, 32989, 22107, 23713,\n",
              "          2689, 33829,   169,  5400,   169,  6745,   197, 16847,   197,\n",
              "             0,    82,     1,     1,     1,     1,     1,     1,     1,\n",
              "             1,     1,     1,     1,     1,     1,     1,     1,     1,\n",
              "             1,     1,     1,     1,     1,     1,     1,     1,     1,\n",
              "             1,     1,     1,     1,     1,     1,     1,     1,     1,\n",
              "             1,     1,     1,     1,     1,     1,     1,     1,     1,\n",
              "             1,     1,     1,     1,     1,     1,     1,     1,     1,\n",
              "             1,     1,     1,     1],\n",
              "        [30746, 27645, 20679,  1193, 18864, 33435, 30225, 26155, 12587,\n",
              "           982, 11866, 24265,  2189,  4510, 23640,  1315, 20480,  5580,\n",
              "           158, 12519, 21788,  1261,  7275, 13849,  2189, 19225,  1914,\n",
              "         21950,   169,   982, 29552, 31326, 25358, 21634, 29729, 33566,\n",
              "           982, 20679,  1193, 23669,   158, 11558, 21634, 18894,   982,\n",
              "         12974, 22391, 17476,   158,   982, 29475, 30832, 33366, 16451,\n",
              "          9890,  2189, 11707, 29552, 17749, 24840,   169, 11558, 18414,\n",
              "          1668,   982, 18795, 14586, 29503, 22021, 13806,  1193, 33566,\n",
              "         30746, 12494, 22021, 14370, 33732, 16451, 11171,   169, 13488,\n",
              "         12494,  4986,   169,  6951,  3558, 26980,  5355, 22021,  5355,\n",
              "          1958,  4309,  3807, 34003,  2412, 33435,  3642, 26298,  5065,\n",
              "         19683, 22442,   169, 23463,  3642,  3221, 33070, 25280,   982,\n",
              "         14586, 32786, 21634,  2415, 12587, 11326, 26621,  1566, 25658,\n",
              "         25280,  2415, 12890,  5275, 33366, 11388, 30746, 16826,  7873,\n",
              "           169, 33070, 33435, 21827,  7349, 33996, 33566, 30746, 20974,\n",
              "           338,  8510, 15333, 33996,  2572, 27525, 12587, 16217,   169,\n",
              "         33318, 28865, 31867, 24828,  2572, 26009, 33070, 33435, 30225,\n",
              "         16237,  1193, 22328, 11063,   169, 19683, 22442, 16451,   982,\n",
              "         33732, 17753, 25392,  7319,   169, 30847, 16826, 32989, 22107,\n",
              "         23713,  2689, 33829,   169, 31235,   169,  6745,   197, 16847,\n",
              "           197,     0,    82,     1,     1,     1,     1,     1,     1,\n",
              "             1,     1,     1,     1,     1,     1,     1,     1,     1,\n",
              "             1,     1,     1,     1,     1,     1,     1,     1,     1,\n",
              "             1,     1,     1,     1,     1,     1,     1,     1,     1,\n",
              "             1,     1,     1,     1,     1,     1,     1,     1,     1,\n",
              "             1,     1,     1,     1,     1,     1,     1,     1,     1,\n",
              "             1,     1,     1,     1,     1,     1,     1,     1,     1,\n",
              "             1,     1,     1,     1],\n",
              "        [ 6444, 17744, 21436, 14027, 10228, 25392, 16451, 18414, 31100,\n",
              "         25384,  2142, 11563,  2189,  8675, 17744, 26362,  6444, 21436,\n",
              "           169,  6444, 17744, 21436,    16, 33845, 14027, 10228, 25392,\n",
              "         16451, 18414, 31100, 25384,  2142, 11563,  2189,  8675, 17744,\n",
              "         26362,  6444, 21436,   169, 30746,  6409,   907,   982, 28441,\n",
              "         21445, 14822, 12587, 10446, 22924, 33554, 21445,  2189,  8819,\n",
              "         20801,   169, 33070,  2572, 18414, 12587,  2142, 11563, 26362,\n",
              "          6444, 17744, 31100, 16898, 30847, 21445, 14822, 15554, 14027,\n",
              "           169, 30746, 26621,   907, 33070,  2572, 27493,  2142, 11563,\n",
              "         26362,  6444, 17744, 21436, 31100,  2842, 15554, 30746, 28500,\n",
              "         26861, 21634, 30847, 28441, 21445, 14822,   169, 15289, 33996,\n",
              "         33435,  3642,   982, 12699, 30836, 17744, 21436,   158,   982,\n",
              "         32554, 29552, 26362, 31100, 18853, 30746,  5385,  2855,  2189,\n",
              "         21443, 33566, 30746, 14822,   169, 30746,  5273,   907, 30746,\n",
              "         29733,  5273, 33554,  3642,   982, 24830, 26362, 33554, 24107,\n",
              "         11558, 33566,   982, 21445, 14822,  2920,   982, 27645, 17937,\n",
              "         22021, 33689, 15554,   982, 23669, 21634, 26155, 15554,   982,\n",
              "         21445, 14822,   169, 33070,  2572, 18414, 12587,   982,  5273,\n",
              "         33366, 16451,  6445, 32554, 11563,  2189, 17386, 14995, 31100,\n",
              "         18853, 22187, 29113, 19490,  2189, 30225,  5937, 21634, 26861,\n",
              "           982, 27960, 15289, 33070,  2572, 18414, 12587,  2142, 26362,\n",
              "         33554,   982, 19875, 22021,   443, 33952,    16, 33847, 11558,\n",
              "         15554, 21445, 14843, 30746, 26980,   907,    82, 22941, 14963,\n",
              "           197,   625, 14967, 22941, 33149, 15333, 33996,  2572,   982,\n",
              "         27645, 21436, 18414, 12587,   982, 25574, 20918, 23669, 15554,\n",
              "           982,  3679, 27787, 15554, 14027, 30771, 23463,  7349,  5452,\n",
              "          2920, 10228, 25392, 31111,    82,    82,    82, 22021,  5848,\n",
              "           169,  6551,   169, 31867]]),\n",
              " 'Categorical': array([[0., 0., 0., ..., 0., 0., 0.],\n",
              "        [0., 0., 0., ..., 0., 0., 0.],\n",
              "        [0., 0., 0., ..., 0., 0., 0.]], dtype=float32)}"
            ]
          },
          "metadata": {},
          "execution_count": 48
        }
      ]
    },
    {
      "cell_type": "code",
      "source": [
        "# batch, target = next(iterator)\n",
        "# batch"
      ],
      "metadata": {
        "id": "y0tXgYDJwcxQ"
      },
      "execution_count": 88,
      "outputs": []
    },
    {
      "cell_type": "markdown",
      "metadata": {
        "id": "0eI5h9UMycPF"
      },
      "source": [
        "## Architecture\n",
        "\n",
        "Our main model consists of three branches:\n",
        "* Title encoder\n",
        "* Description encoder\n",
        "* Categorical features encoder\n",
        "\n",
        "We will then feed all 3 branches into one common network that predicts salary.\n",
        "\n",
        "<img src=\"https://github.com/yandexdataschool/nlp_course/raw/master/resources/w2_conv_arch.png\" width=600px>\n",
        "\n",
        "This clearly doesn't fit into PyTorch __Sequential__ interface. To build such a network, one will have to use [__PyTorch nn.Module API__](https://pytorch.org/docs/stable/nn.html#torch.nn.Module)."
      ]
    },
    {
      "cell_type": "markdown",
      "metadata": {
        "id": "SbhrCEl1pHfc"
      },
      "source": [
        "But to start with let's build the simple model using only the part of the data. Let's create the baseline solution using only the description part (so it should definetely fit into the Sequential model)."
      ]
    },
    {
      "cell_type": "code",
      "execution_count": 49,
      "metadata": {
        "id": "2jjPFvWZpHfc"
      },
      "outputs": [],
      "source": [
        "import torch.nn as nn\n",
        "\n",
        "# Initially, our FullDescription has a shape [batch_size, seq_len].\n",
        "# After an Embedding layer shape will be [batch_size, seq_len, embedding_size].\n",
        "# However, Conv1d layer expects batches of shape [batch_size, embedding_size, seq_len].\n",
        "# We will use this layer to fix this misunderstanding.\n",
        "class Reorder(nn.Module):\n",
        "    def forward(self, input):\n",
        "        return input.permute((0, 2, 1))"
      ]
    },
    {
      "cell_type": "code",
      "execution_count": 50,
      "metadata": {
        "id": "6LPx2UKepHfd"
      },
      "outputs": [],
      "source": [
        "simple_model = nn.Sequential(\n",
        "    nn.Embedding(len(tokens), 64),\n",
        "    Reorder(),\n",
        "    nn.Conv1d(64, 128, kernel_size=3),\n",
        "    nn.ReLU(),\n",
        "    nn.BatchNorm1d(128),\n",
        "    nn.AdaptiveMaxPool1d(1), #,\n",
        "    nn.Flatten(),\n",
        "    nn.Linear(128, 1)\n",
        ")"
      ]
    },
    {
      "cell_type": "code",
      "source": [
        "torch.tensor(batch[\"Title\"][:2, :10])"
      ],
      "metadata": {
        "colab": {
          "base_uri": "https://localhost:8080/"
        },
        "id": "gvrd5r7TBK2B",
        "outputId": "63cda0ff-8faf-4ce5-df2b-54993372e00c"
      },
      "execution_count": 51,
      "outputs": [
        {
          "output_type": "execute_result",
          "data": {
            "text/plain": [
              "tensor([[ 8977, 18864, 34100, 19964, 32267,  9083, 34100, 21282, 18371],\n",
              "        [27645, 20679,  1193, 18864,     1,     1,     1,     1,     1]])"
            ]
          },
          "metadata": {},
          "execution_count": 51
        }
      ]
    },
    {
      "cell_type": "code",
      "source": [
        "torch.tensor(batch[\"FullDescription\"][:2, :10])"
      ],
      "metadata": {
        "colab": {
          "base_uri": "https://localhost:8080/"
        },
        "id": "kIdqa7CCBNiO",
        "outputId": "395416c6-463b-4c8a-8f40-00e6c1d79d07"
      },
      "execution_count": 52,
      "outputs": [
        {
          "output_type": "execute_result",
          "data": {
            "text/plain": [
              "tensor([[ 8977, 18864, 34100, 19964, 32267,  9083, 34100, 21282, 18371,   169],\n",
              "        [30746, 27645, 20679,  1193, 18864, 33435, 30225, 26155, 12587,   982]])"
            ]
          },
          "metadata": {},
          "execution_count": 52
        }
      ]
    },
    {
      "cell_type": "code",
      "source": [
        "x1 = nn.Embedding(len(tokens), 64)(torch.tensor(batch[\"Title\"][:2, :10]))\n",
        "x2 = Reorder()(x1)\n",
        "x3 = nn.Conv1d(64, 128, kernel_size=3)(x2)\n",
        "x4 = nn.AdaptiveMaxPool1d(2)(x3)\n",
        "x5 = nn.Flatten()(x4)"
      ],
      "metadata": {
        "id": "hgGdAHZS-945"
      },
      "execution_count": 53,
      "outputs": []
    },
    {
      "cell_type": "code",
      "source": [
        "torch.tensor(batch[\"FullDescription\"][:2, :10]).shape"
      ],
      "metadata": {
        "colab": {
          "base_uri": "https://localhost:8080/"
        },
        "id": "0UgcJ7gh_mk7",
        "outputId": "1cc8d647-00ea-4b83-affa-fb8600f854f4"
      },
      "execution_count": 54,
      "outputs": [
        {
          "output_type": "execute_result",
          "data": {
            "text/plain": [
              "torch.Size([2, 10])"
            ]
          },
          "metadata": {},
          "execution_count": 54
        }
      ]
    },
    {
      "cell_type": "code",
      "source": [
        "x1.shape"
      ],
      "metadata": {
        "colab": {
          "base_uri": "https://localhost:8080/"
        },
        "id": "0p5J7gAz_iKt",
        "outputId": "9b35795b-2af0-4b0a-f0d5-b200acbc021d"
      },
      "execution_count": 55,
      "outputs": [
        {
          "output_type": "execute_result",
          "data": {
            "text/plain": [
              "torch.Size([2, 9, 64])"
            ]
          },
          "metadata": {},
          "execution_count": 55
        }
      ]
    },
    {
      "cell_type": "code",
      "source": [
        "x2.shape"
      ],
      "metadata": {
        "colab": {
          "base_uri": "https://localhost:8080/"
        },
        "id": "XeL8LEqS_hZu",
        "outputId": "49eed02b-3de5-42ac-b0a4-a6fbcb8c314c"
      },
      "execution_count": 56,
      "outputs": [
        {
          "output_type": "execute_result",
          "data": {
            "text/plain": [
              "torch.Size([2, 64, 9])"
            ]
          },
          "metadata": {},
          "execution_count": 56
        }
      ]
    },
    {
      "cell_type": "code",
      "source": [
        "x3.shape"
      ],
      "metadata": {
        "colab": {
          "base_uri": "https://localhost:8080/"
        },
        "id": "df3NmKOv_f3k",
        "outputId": "9e0fd124-a615-4f62-9942-41a8f350017e"
      },
      "execution_count": 57,
      "outputs": [
        {
          "output_type": "execute_result",
          "data": {
            "text/plain": [
              "torch.Size([2, 128, 7])"
            ]
          },
          "metadata": {},
          "execution_count": 57
        }
      ]
    },
    {
      "cell_type": "code",
      "source": [
        "x4.shape"
      ],
      "metadata": {
        "colab": {
          "base_uri": "https://localhost:8080/"
        },
        "id": "m-Y0tmpe_6Qx",
        "outputId": "8a9396bc-e6fb-462f-d0c8-e84d5856cac2"
      },
      "execution_count": 58,
      "outputs": [
        {
          "output_type": "execute_result",
          "data": {
            "text/plain": [
              "torch.Size([2, 128, 2])"
            ]
          },
          "metadata": {},
          "execution_count": 58
        }
      ]
    },
    {
      "cell_type": "code",
      "source": [
        "x5.shape"
      ],
      "metadata": {
        "colab": {
          "base_uri": "https://localhost:8080/"
        },
        "id": "CNTAX_T0ARn0",
        "outputId": "c6874b2f-265e-44c5-ec3f-7e1e57300628"
      },
      "execution_count": 59,
      "outputs": [
        {
          "output_type": "execute_result",
          "data": {
            "text/plain": [
              "torch.Size([2, 256])"
            ]
          },
          "metadata": {},
          "execution_count": 59
        }
      ]
    },
    {
      "cell_type": "code",
      "source": [
        "list(simple_model.named_parameters())[0][-1].shape"
      ],
      "metadata": {
        "colab": {
          "base_uri": "https://localhost:8080/"
        },
        "id": "U5n5Yxo96fMS",
        "outputId": "c710f1b5-5b19-4cf2-c3ea-1277ec3d30d6"
      },
      "execution_count": 60,
      "outputs": [
        {
          "output_type": "execute_result",
          "data": {
            "text/plain": [
              "torch.Size([34158, 64])"
            ]
          },
          "metadata": {},
          "execution_count": 60
        }
      ]
    },
    {
      "cell_type": "code",
      "source": [
        "batch[\"FullDescription\"][:1, :10]"
      ],
      "metadata": {
        "colab": {
          "base_uri": "https://localhost:8080/"
        },
        "id": "sWKAYqiV49pY",
        "outputId": "f1cba982-0189-49cb-b556-b7b4c8f1895e"
      },
      "execution_count": 61,
      "outputs": [
        {
          "output_type": "execute_result",
          "data": {
            "text/plain": [
              "array([[ 8977, 18864, 34100, 19964, 32267,  9083, 34100, 21282, 18371,\n",
              "          169]])"
            ]
          },
          "metadata": {},
          "execution_count": 61
        }
      ]
    },
    {
      "cell_type": "code",
      "execution_count": 62,
      "metadata": {
        "id": "CerptbpcpHfd",
        "colab": {
          "base_uri": "https://localhost:8080/"
        },
        "outputId": "1a10aaa7-4b9b-4173-bdad-758cf579f9c0"
      },
      "outputs": [
        {
          "output_type": "execute_result",
          "data": {
            "text/plain": [
              "tensor([[-0.3186]], grad_fn=<AddmmBackward0>)"
            ]
          },
          "metadata": {},
          "execution_count": 62
        }
      ],
      "source": [
        "import torch\n",
        "\n",
        "# Check your model. `torch.long` tensors are required for nn.Embedding layers.\n",
        "simple_model(torch.tensor(batch[\"FullDescription\"][:1, :10], dtype=torch.long)) #если тоже самое будет падать на Title, то присмотреться к размерам ядер и т.д."
      ]
    },
    {
      "cell_type": "code",
      "source": [
        "torch.tensor(batch[\"Title\"], dtype=torch.long).shape"
      ],
      "metadata": {
        "colab": {
          "base_uri": "https://localhost:8080/"
        },
        "id": "KvIUU33ronXz",
        "outputId": "077360d1-2b2e-4420-b99a-fe5c3e0908ee"
      },
      "execution_count": 63,
      "outputs": [
        {
          "output_type": "execute_result",
          "data": {
            "text/plain": [
              "torch.Size([3, 9])"
            ]
          },
          "metadata": {},
          "execution_count": 63
        }
      ]
    },
    {
      "cell_type": "code",
      "execution_count": 64,
      "metadata": {
        "id": "1G-n-458pHfd"
      },
      "outputs": [],
      "source": [
        "device = torch.device(\"cuda\" if torch.cuda.is_available() else \"cpu\")\n",
        "simple_model.to(device);"
      ]
    },
    {
      "cell_type": "markdown",
      "metadata": {
        "id": "eOXdOBCnpHfe"
      },
      "source": [
        "To evaluate the model we can switch it to `eval` state. Let's check the model quality."
      ]
    },
    {
      "cell_type": "code",
      "execution_count": 65,
      "metadata": {
        "id": "eaiQRrfCpHfe"
      },
      "outputs": [],
      "source": [
        "@torch.no_grad()\n",
        "def evaluate_model(model, data, batch_size=256, name=None, **kwargs):\n",
        "    squared_error = abs_error = num_samples = 0.0\n",
        "    data_iterator = iterate_minibatches(data, batch_size, shuffle=False, **kwargs)\n",
        "    for batch, target in data_iterator:\n",
        "        batch = torch.tensor(batch[\"FullDescription\"], dtype=torch.long, device=device)\n",
        "        pred = model(batch)[:, 0].cpu().numpy()\n",
        "\n",
        "        squared_error += np.sum(np.square(pred - target))\n",
        "        abs_error += np.sum(np.abs(pred - target))\n",
        "        num_samples += len(target)\n",
        "\n",
        "    if name is not None:\n",
        "        print(f\"{name}:\")\n",
        "\n",
        "    print(f\"MSE: {squared_error / num_samples:.5f}\")\n",
        "    print(f\"MAE: {abs_error / num_samples:.5f}\")\n",
        "\n",
        "\n",
        "# evaluate_model(simple_model, data_train, name=\"Train\")\n",
        "# evaluate_model(simple_model, data_val, name=\"Val\")"
      ]
    },
    {
      "cell_type": "code",
      "source": [
        "first_model = nn.Sequential(\n",
        "    nn.Embedding(len(tokens), 64),\n",
        "    Reorder(),\n",
        "    nn.Conv1d(64, 256, kernel_size=3),\n",
        "    nn.ReLU(),\n",
        "    nn.BatchNorm1d(256),\n",
        "    nn.AdaptiveMaxPool1d(1), #,\n",
        "    nn.Flatten(),\n",
        "    nn.Linear(256, 128),\n",
        "    nn.Linear(128, 1),\n",
        ")\n",
        "\n",
        "\n",
        "device = torch.device(\"cuda\" if torch.cuda.is_available() else \"cpu\")\n",
        "first_model.to(device);"
      ],
      "metadata": {
        "id": "ucHzJj_uFraY"
      },
      "execution_count": 66,
      "outputs": []
    },
    {
      "cell_type": "code",
      "source": [
        "from IPython.display import clear_output\n",
        "\n",
        "\n",
        "epochs = 5\n",
        "model = first_model\n",
        "opt = torch.optim.Adam(model.parameters())\n",
        "criterion = nn.MSELoss()\n",
        "\n",
        "history = []\n",
        "for epoch in range(epochs):\n",
        "    for batch, target in iterate_minibatches(data_train):\n",
        "        # Preprocessing the batch data and target\n",
        "        batch = torch.tensor(batch[\"FullDescription\"], dtype=torch.long, device=device)\n",
        "        target = torch.tensor(target, device=device)\n",
        "\n",
        "        predictions = model(batch)\n",
        "        predictions = predictions.flatten()\n",
        "\n",
        "        # YOUR CODE HERE\n",
        "        # Compute loss.\n",
        "        loss = criterion(predictions, target)\n",
        "\n",
        "        # YOUR CODE HERE\n",
        "        # Train with backprop.\n",
        "        opt.zero_grad()\n",
        "        loss.backward()\n",
        "        opt.step()\n",
        "\n",
        "        history.append(loss.item())\n",
        "        if len(history) % 10 == 0:\n",
        "            clear_output(wait=True)\n",
        "            plt.plot(history, label=\"loss\")\n",
        "            plt.legend()\n",
        "            plt.show()"
      ],
      "metadata": {
        "colab": {
          "base_uri": "https://localhost:8080/",
          "height": 431
        },
        "id": "YX6Q9ztsGRoe",
        "outputId": "180026c7-9a88-4758-fa04-7877842cd847"
      },
      "execution_count": 67,
      "outputs": [
        {
          "output_type": "display_data",
          "data": {
            "text/plain": [
              "<Figure size 640x480 with 1 Axes>"
            ],
            "image/png": "[encoded data removed]"
          },
          "metadata": {}
        }
      ]
    },
    {
      "cell_type": "code",
      "source": [
        "\n",
        "evaluate_model(first_model, data_train, name=\"Train\")\n",
        "evaluate_model(first_model, data_val, name=\"Val\")"
      ],
      "metadata": {
        "colab": {
          "base_uri": "https://localhost:8080/"
        },
        "id": "ACCov31pGUtg",
        "outputId": "77d9815e-0b16-4578-a7be-cddedebf8949"
      },
      "execution_count": 68,
      "outputs": [
        {
          "output_type": "stream",
          "name": "stdout",
          "text": [
            "Train:\n",
            "MSE: 0.62665\n",
            "MAE: 0.72567\n",
            "Val:\n",
            "MSE: 0.59168\n",
            "MAE: 0.69227\n"
          ]
        }
      ]
    },
    {
      "cell_type": "markdown",
      "metadata": {
        "id": "hUUchHCnpHfe"
      },
      "source": [
        "### Now let's Try to Inplement 3-headed Network.\n",
        "\n"
      ]
    },
    {
      "cell_type": "code",
      "execution_count": 69,
      "metadata": {
        "id": "SOG-2OK2pHfe",
        "colab": {
          "base_uri": "https://localhost:8080/",
          "height": 430
        },
        "outputId": "bb606d3f-3933-4908-97c2-6c868fb1ece9"
      },
      "outputs": [
        {
          "output_type": "display_data",
          "data": {
            "text/plain": [
              "<Figure size 640x480 with 1 Axes>"
            ],
            "image/png": "[encoded data removed]"
          },
          "metadata": {}
        }
      ],
      "source": [
        "from IPython.display import clear_output\n",
        "\n",
        "class TextHead(nn.Module):\n",
        "    def __init__(self, vocab_size, emb_dim=64, out_dim=128):\n",
        "        super().__init__()\n",
        "        self.embedding = nn.Embedding(vocab_size, emb_dim)\n",
        "        self.conv = nn.Conv1d(emb_dim, out_dim, kernel_size=3)\n",
        "        self.relu = nn.ReLU()\n",
        "        self.bn = nn.BatchNorm1d(out_dim)\n",
        "        self.pool = nn.AdaptiveMaxPool1d(1)\n",
        "\n",
        "    def forward(self, x):\n",
        "\n",
        "        if x.dim() == 2:\n",
        "            x = self.embedding(x)\n",
        "        x = x.permute(0, 2, 1)\n",
        "        x = self.conv(x)\n",
        "        x = self.relu(x)\n",
        "        x = self.bn(x)\n",
        "        x = self.pool(x)\n",
        "        return x.squeeze(-1)\n",
        "\n",
        "#  3-headed model\n",
        "class ThreeHeadedModel(nn.Module):\n",
        "    def __init__(self,vocab_size_desc = 34158, vocab_size_title=129653, num_categories=3768, hid_dim=128):\n",
        "        super().__init__()\n",
        "        #Description Head\n",
        "        self.desc_head = TextHead(vocab_size_desc, emb_dim=64, out_dim=hid_dim)\n",
        "        #Title Head\n",
        "        self.title_head = TextHead(vocab_size_title, emb_dim=64, out_dim=hid_dim)\n",
        "        #categorical Head\n",
        "        self.category_head = nn.Sequential(\n",
        "            nn.Linear(num_categories, hid_dim),\n",
        "            nn.ReLU()\n",
        "        )\n",
        "        #Final Layer\n",
        "        self.out = nn.Linear(hid_dim * 3, 1)\n",
        "\n",
        "    def forward(self, x_desc, x_title, x_category):\n",
        "        desc_out = self.desc_head(x_desc)\n",
        "        title_out = self.title_head(x_title)\n",
        "        category_out = self.category_head(x_category)\n",
        "        combined = torch.cat([desc_out, title_out, category_out], dim=1)\n",
        "        return self.out(combined).flatten()\n",
        "\n",
        "\n"
      ]
    },
    {
      "cell_type": "code",
      "source": [
        "vocab_size_desc = 34158\n",
        "vocab_size_title = 129653\n",
        "num_categories = 3768\n",
        "\n",
        "model_3h = ThreeHeadedModel(vocab_size_desc, vocab_size_title, num_categories).to(device)\n",
        "opt = torch.optim.Adam(model_3h.parameters())\n",
        "criterion = nn.MSELoss()\n",
        "\n",
        "\n",
        "history = []\n",
        "epochs = 5\n",
        "\n",
        "for epoch in range(epochs):\n",
        "    for batch, target in iterate_minibatches(data_train):\n",
        "\n",
        "        x_desc = torch.tensor(batch[\"FullDescription\"], dtype=torch.long, device=device)\n",
        "        x_title = torch.tensor(batch[\"Title\"], dtype=torch.long, device=device)\n",
        "        x_category = torch.tensor(batch[\"Categorical\"], dtype=torch.float, device=device)\n",
        "        target = torch.tensor(target, device=device)\n",
        "\n",
        "\n",
        "        predictions = model_3h(x_desc, x_title, x_category)\n",
        "        loss = criterion(predictions, target)\n",
        "\n",
        "\n",
        "        opt.zero_grad()\n",
        "        loss.backward()\n",
        "        opt.step()\n",
        "\n",
        "        history.append(loss.item())\n",
        "        if len(history) % 10 == 0:\n",
        "            clear_output(wait=True)\n",
        "            plt.plot(history, label=\"loss\")\n",
        "            plt.legend()\n",
        "            plt.show()"
      ],
      "metadata": {
        "colab": {
          "base_uri": "https://localhost:8080/",
          "height": 430
        },
        "id": "fv-5mbE7OfxB",
        "outputId": "65f2e913-c8f5-4d87-83ac-9582cad3cb6c"
      },
      "execution_count": 85,
      "outputs": [
        {
          "output_type": "display_data",
          "data": {
            "text/plain": [
              "<Figure size 640x480 with 1 Axes>"
            ],
            "image/png": "[encoded data removed]"
          },
          "metadata": {}
        }
      ]
    },
    {
      "cell_type": "code",
      "source": [
        "@torch.no_grad()\n",
        "def evaluate_model_3headed(model, data, batch_size=256, name=None, device=device):\n",
        "    model.eval()\n",
        "    squared_error = abs_error = num_samples = 0.0\n",
        "\n",
        "    for batch, target in iterate_minibatches(data, batch_size, shuffle=False):\n",
        "        # Подготовка данных для всех трёх голов\n",
        "        x_desc = torch.tensor(batch[\"FullDescription\"], dtype=torch.long, device=device)\n",
        "        x_title = torch.tensor(batch[\"Title\"], dtype=torch.long, device=device)\n",
        "        x_category = torch.tensor(batch[\"Categorical\"], dtype=torch.float, device=device)\n",
        "        target = torch.tensor(target, dtype=torch.float, device=device)\n",
        "\n",
        "\n",
        "        pred = model(x_desc, x_title, x_category).cpu().numpy()\n",
        "\n",
        "\n",
        "        squared_error += np.sum(np.square(pred - target.cpu().numpy()))\n",
        "        abs_error += np.sum(np.abs(pred - target.cpu().numpy()))\n",
        "        num_samples += len(target)\n",
        "\n",
        "\n",
        "    print(f\"Results for {name}:\")\n",
        "    print(f\"MSE: {squared_error / num_samples:.5f}\")\n",
        "    print(f\"MAE: {abs_error / num_samples:.5f}\")"
      ],
      "metadata": {
        "id": "BP2Au_PrtdPX"
      },
      "execution_count": 86,
      "outputs": []
    },
    {
      "cell_type": "code",
      "source": [
        "evaluate_model_3headed(model_3h, data_val, name=\"Val\")"
      ],
      "metadata": {
        "colab": {
          "base_uri": "https://localhost:8080/"
        },
        "id": "B_kG7YUEdCHw",
        "outputId": "9b19b105-5a33-4b4c-9822-57d1ed7b5c0c"
      },
      "execution_count": 87,
      "outputs": [
        {
          "output_type": "stream",
          "name": "stdout",
          "text": [
            "Results for Val:\n",
            "MSE: 0.08605\n",
            "MAE: 0.22295\n"
          ]
        }
      ]
    },
    {
      "cell_type": "markdown",
      "source": [
        "We have achieved significant improvements in metrics compared to the model without a multi-head structure."
      ],
      "metadata": {
        "id": "Ed1RCoyidTbt"
      }
    },
    {
      "cell_type": "markdown",
      "metadata": {
        "id": "kAigoulWpHfe"
      },
      "source": [
        "###Now let's compare RNN to CNN (x1.75 bonus)\n",
        "We'll try to use LSTM in our 3-headed model\n"
      ]
    },
    {
      "cell_type": "code",
      "execution_count": 88,
      "metadata": {
        "id": "rQVzJyCMpHfe"
      },
      "outputs": [],
      "source": [
        "class LSTMThreeHeadedModel(nn.Module):\n",
        "    def __init__(self, vocab_size_desc=34158, vocab_size_title=129653, num_categories=3768, hid_dim=128, lstm_layers=1):\n",
        "        super().__init__()\n",
        "\n",
        "        self.emb_dim = 64\n",
        "\n",
        "\n",
        "        self.desc_embed = nn.Embedding(vocab_size_desc, self.emb_dim)\n",
        "        self.desc_lstm = nn.LSTM(self.emb_dim, hid_dim, lstm_layers, batch_first=True)\n",
        "\n",
        "\n",
        "        self.title_embed = nn.Embedding(vocab_size_title, self.emb_dim)\n",
        "        self.title_lstm = nn.LSTM(self.emb_dim, hid_dim, lstm_layers, batch_first=True)\n",
        "\n",
        "\n",
        "        self.category_head = nn.Sequential(\n",
        "            nn.Linear(num_categories, hid_dim),\n",
        "            nn.ReLU()\n",
        "        )\n",
        "\n",
        "\n",
        "        self.out = nn.Linear(hid_dim * 3, 1)\n",
        "\n",
        "    def forward(self, x_desc, x_title, x_category):\n",
        "\n",
        "        desc_emb = self.desc_embed(x_desc)\n",
        "        desc_out, _ = self.desc_lstm(desc_emb)\n",
        "        desc_out = desc_out[:, -1, :]\n",
        "\n",
        "\n",
        "        title_emb = self.title_embed(x_title)\n",
        "        title_out, _ = self.title_lstm(title_emb)\n",
        "        title_out = title_out[:, -1, :]\n",
        "\n",
        "\n",
        "        category_out = self.category_head(x_category)\n",
        "\n",
        "\n",
        "        combined = torch.cat([desc_out, title_out, category_out], dim=1)\n",
        "        return self.out(combined).flatten()"
      ]
    },
    {
      "cell_type": "code",
      "source": [
        "!pip install torchinfo\n",
        "import torchinfo\n",
        "from torchinfo import summary"
      ],
      "metadata": {
        "colab": {
          "base_uri": "https://localhost:8080/"
        },
        "id": "aJwnzjvL-PcG",
        "outputId": "3f4b09b3-2c95-4697-eb89-76880edfab37"
      },
      "execution_count": 89,
      "outputs": [
        {
          "output_type": "stream",
          "name": "stdout",
          "text": [
            "Requirement already satisfied: torchinfo in /usr/local/lib/python3.12/dist-packages (1.8.0)\n"
          ]
        }
      ]
    },
    {
      "cell_type": "code",
      "source": [
        "model_stats = summary(\n",
        "    model_lstm,\n",
        "    input_data=[x_desc, x_title, x_category],  # примеры входных данных\n",
        "    verbose=2,  # подробный вывод\n",
        "    col_names=[\"input_size\", \"output_size\", \"num_params\", \"mult_adds\"],\n",
        "    depth=3  # глубина детализации\n",
        ")"
      ],
      "metadata": {
        "colab": {
          "base_uri": "https://localhost:8080/"
        },
        "id": "Km8sqR5t-UjT",
        "outputId": "c9e75117-9779-49e7-dff2-74b79f5f284c"
      },
      "execution_count": 91,
      "outputs": [
        {
          "output_type": "stream",
          "name": "stdout",
          "text": [
            "============================================================================================================================================\n",
            "Layer (type:depth-idx)                   Input Shape               Output Shape              Param #                   Mult-Adds\n",
            "============================================================================================================================================\n",
            "LSTMThreeHeadedModel                     [256, 1693]               [256]                     --                        --\n",
            "├─Embedding: 1-1                         [256, 1693]               [256, 1693, 643]          21,963,594                5,622,680,064\n",
            "│    └─weight                                                                                └─21,963,594\n",
            "├─LSTM: 1-2                              [256, 1693, 643]          [256, 1693, 128]          395,776                   171,532,484,608\n",
            "│    └─weight_ih_l0                                                                          ├─329,216\n",
            "│    └─weight_hh_l0                                                                          ├─65,536\n",
            "│    └─bias_ih_l0                                                                            ├─512\n",
            "│    └─bias_hh_l0                                                                            └─512\n",
            "├─Embedding: 1-3                         [256, 27]                 [256, 27, 643]            83,366,879                21,341,921,024\n",
            "│    └─weight                                                                                └─83,366,879\n",
            "├─LSTM: 1-4                              [256, 27, 643]            [256, 27, 128]            395,776                   2,735,603,712\n",
            "│    └─weight_ih_l0                                                                          ├─329,216\n",
            "│    └─weight_hh_l0                                                                          ├─65,536\n",
            "│    └─bias_ih_l0                                                                            ├─512\n",
            "│    └─bias_hh_l0                                                                            └─512\n",
            "├─Sequential: 1-5                        [256, 3768]               [256, 128]                --                        --\n",
            "│    └─0.weight                                                                              ├─482,304\n",
            "│    └─0.bias                                                                                └─128\n",
            "│    └─Linear: 2-1                       [256, 3768]               [256, 128]                482,432                   123,502,592\n",
            "│    │    └─weight                                                                           ├─482,304\n",
            "│    │    └─bias                                                                             └─128\n",
            "│    └─ReLU: 2-2                         [256, 128]                [256, 128]                --                        --\n",
            "├─Linear: 1-6                            [256, 384]                [256, 1]                  385                       98,560\n",
            "│    └─weight                                                                                ├─384\n",
            "│    └─bias                                                                                  └─1\n",
            "============================================================================================================================================\n",
            "Total params: 106,604,842\n",
            "Trainable params: 106,604,842\n",
            "Non-trainable params: 0\n",
            "Total mult-adds (Units.GIGABYTES): 201.36\n",
            "============================================================================================================================================\n",
            "Input size (MB): 7.38\n",
            "Forward/backward pass size (MB): 2716.16\n",
            "Params size (MB): 426.42\n",
            "Estimated Total Size (MB): 3149.96\n",
            "============================================================================================================================================\n"
          ]
        }
      ]
    },
    {
      "cell_type": "code",
      "source": [
        "torch.cuda.empty_cache()  # очистить кеш CUDA перед запуском"
      ],
      "metadata": {
        "id": "66TrxU_UTwO8"
      },
      "execution_count": 92,
      "outputs": []
    },
    {
      "cell_type": "code",
      "source": [
        "vocab_size_desc = 34158\n",
        "vocab_size_title = 129653\n",
        "num_categories = 3768\n",
        "\n",
        "model_lstm = LSTMThreeHeadedModel(vocab_size_desc, vocab_size_title, num_categories).to(device)\n",
        "opt = torch.optim.Adam(model_lstm.parameters())\n",
        "criterion = nn.MSELoss()\n",
        "\n",
        "\n",
        "history = []\n",
        "epochs = 5\n",
        "\n",
        "for epoch in range(epochs):\n",
        "    for batch, target in iterate_minibatches(data_train):\n",
        "\n",
        "        x_desc = torch.tensor(batch[\"FullDescription\"], dtype=torch.long, device=device)\n",
        "        x_title = torch.tensor(batch[\"Title\"], dtype=torch.long, device=device)\n",
        "        x_category = torch.tensor(batch[\"Categorical\"], dtype=torch.float, device=device)\n",
        "        target = torch.tensor(target, device=device)\n",
        "\n",
        "\n",
        "        predictions = model_lstm(x_desc, x_title, x_category)\n",
        "        loss = criterion(predictions, target)\n",
        "\n",
        "\n",
        "        opt.zero_grad()\n",
        "        loss.backward()\n",
        "        opt.step()\n",
        "\n",
        "        history.append(loss.item())\n",
        "        if len(history) % 10 == 0:\n",
        "            clear_output(wait=True)\n",
        "            plt.plot(history, label=\"loss\")\n",
        "            plt.legend()\n",
        "            plt.show()"
      ],
      "metadata": {
        "colab": {
          "base_uri": "https://localhost:8080/",
          "height": 430
        },
        "id": "QdodMnnOSTeD",
        "outputId": "d264fa0c-9007-414d-a95e-5dbaf7a6c3d5"
      },
      "execution_count": 93,
      "outputs": [
        {
          "output_type": "display_data",
          "data": {
            "text/plain": [
              "<Figure size 640x480 with 1 Axes>"
            ],
            "image/png": "[encoded data removed]"
          },
          "metadata": {}
        }
      ]
    },
    {
      "cell_type": "code",
      "source": [
        "evaluate_model_3headed(model_lstm, data_val, name=\"Val\")"
      ],
      "metadata": {
        "colab": {
          "base_uri": "https://localhost:8080/"
        },
        "id": "MV1Eb2yfU8SC",
        "outputId": "b170add3-abe1-4512-a140-05ff2b3fe021"
      },
      "execution_count": 94,
      "outputs": [
        {
          "output_type": "stream",
          "name": "stdout",
          "text": [
            "Results for Val:\n",
            "MSE: 0.07517\n",
            "MAE: 0.20148\n"
          ]
        }
      ]
    },
    {
      "cell_type": "markdown",
      "source": [
        "This model has about the same number of parameters as the previous one:"
      ],
      "metadata": {
        "id": "LoxshXI5bHo7"
      }
    },
    {
      "cell_type": "code",
      "source": [
        "from prettytable import PrettyTable\n",
        "\n",
        "def count_parameters(model):\n",
        "    table = PrettyTable([\"Module\", \"Parameters\"])\n",
        "    total_params = 0\n",
        "    for name, parameter in model.named_parameters():\n",
        "        if not parameter.requires_grad:\n",
        "            continue\n",
        "        params = parameter.numel()\n",
        "        table.add_row([name, f\"{params:,}\"])\n",
        "        total_params += params\n",
        "    print(table)\n",
        "    print(f\"Total trainable parameters: {total_params:,}\")\n",
        "    return total_params"
      ],
      "metadata": {
        "id": "Tr_aSwe9aj8y"
      },
      "execution_count": 97,
      "outputs": []
    },
    {
      "cell_type": "code",
      "source": [
        "model_2 = ThreeHeadedModel(vocab_size_desc, vocab_size_title, num_categories)\n",
        "count_parameters(model_2)\n",
        "model_3 = LSTMThreeHeadedModel(vocab_size_desc, vocab_size_title, num_categories)\n",
        "count_parameters(model_3)"
      ],
      "metadata": {
        "colab": {
          "base_uri": "https://localhost:8080/"
        },
        "id": "_fzJm_kxaq0f",
        "outputId": "081956a1-b7b0-4bda-ac10-f5bb76065f42"
      },
      "execution_count": 98,
      "outputs": [
        {
          "output_type": "stream",
          "name": "stdout",
          "text": [
            "+-----------------------------+------------+\n",
            "|            Module           | Parameters |\n",
            "+-----------------------------+------------+\n",
            "|  desc_head.embedding.weight | 2,186,112  |\n",
            "|    desc_head.conv.weight    |   24,576   |\n",
            "|     desc_head.conv.bias     |    128     |\n",
            "|     desc_head.bn.weight     |    128     |\n",
            "|      desc_head.bn.bias      |    128     |\n",
            "| title_head.embedding.weight | 8,297,792  |\n",
            "|    title_head.conv.weight   |   24,576   |\n",
            "|     title_head.conv.bias    |    128     |\n",
            "|     title_head.bn.weight    |    128     |\n",
            "|      title_head.bn.bias     |    128     |\n",
            "|    category_head.0.weight   |  482,304   |\n",
            "|     category_head.0.bias    |    128     |\n",
            "|          out.weight         |    384     |\n",
            "|           out.bias          |     1      |\n",
            "+-----------------------------+------------+\n",
            "Total trainable parameters: 11,016,641\n",
            "+-------------------------+------------+\n",
            "|          Module         | Parameters |\n",
            "+-------------------------+------------+\n",
            "|    desc_embed.weight    | 2,186,112  |\n",
            "|  desc_lstm.weight_ih_l0 |   32,768   |\n",
            "|  desc_lstm.weight_hh_l0 |   65,536   |\n",
            "|   desc_lstm.bias_ih_l0  |    512     |\n",
            "|   desc_lstm.bias_hh_l0  |    512     |\n",
            "|    title_embed.weight   | 8,297,792  |\n",
            "| title_lstm.weight_ih_l0 |   32,768   |\n",
            "| title_lstm.weight_hh_l0 |   65,536   |\n",
            "|  title_lstm.bias_ih_l0  |    512     |\n",
            "|  title_lstm.bias_hh_l0  |    512     |\n",
            "|  category_head.0.weight |  482,304   |\n",
            "|   category_head.0.bias  |    128     |\n",
            "|        out.weight       |    384     |\n",
            "|         out.bias        |     1      |\n",
            "+-------------------------+------------+\n",
            "Total trainable parameters: 11,165,377\n"
          ]
        },
        {
          "output_type": "execute_result",
          "data": {
            "text/plain": [
              "11165377"
            ]
          },
          "metadata": {},
          "execution_count": 98
        }
      ]
    },
    {
      "cell_type": "markdown",
      "metadata": {
        "id": "jPn2Q0wXpHfe"
      },
      "source": [
        "### Let's try Word2Vec instead of nn.Embeddings\n"
      ]
    },
    {
      "cell_type": "code",
      "source": [
        "!pip install gensim"
      ],
      "metadata": {
        "colab": {
          "base_uri": "https://localhost:8080/",
          "height": 701
        },
        "id": "eEfJtD7eCKIo",
        "outputId": "2e0b72f8-51f7-473e-af23-ae290e349053"
      },
      "execution_count": 99,
      "outputs": [
        {
          "output_type": "stream",
          "name": "stdout",
          "text": [
            "Collecting gensim\n",
            "  Downloading gensim-4.3.3-cp312-cp312-manylinux_2_17_x86_64.manylinux2014_x86_64.whl.metadata (8.1 kB)\n",
            "Collecting numpy<2.0,>=1.18.5 (from gensim)\n",
            "  Downloading numpy-1.26.4-cp312-cp312-manylinux_2_17_x86_64.manylinux2014_x86_64.whl.metadata (61 kB)\n",
            "\u001b[2K     \u001b[90m━━━━━━━━━━━━━━━━━━━━━━━━━━━━━━━━━━━━━━━━\u001b[0m \u001b[32m61.0/61.0 kB\u001b[0m \u001b[31m3.6 MB/s\u001b[0m eta \u001b[36m0:00:00\u001b[0m\n",
            "\u001b[?25hCollecting scipy<1.14.0,>=1.7.0 (from gensim)\n",
            "  Downloading scipy-1.13.1-cp312-cp312-manylinux_2_17_x86_64.manylinux2014_x86_64.whl.metadata (60 kB)\n",
            "\u001b[2K     \u001b[90m━━━━━━━━━━━━━━━━━━━━━━━━━━━━━━━━━━━━━━━━\u001b[0m \u001b[32m60.6/60.6 kB\u001b[0m \u001b[31m4.7 MB/s\u001b[0m eta \u001b[36m0:00:00\u001b[0m\n",
            "\u001b[?25hRequirement already satisfied: smart-open>=1.8.1 in /usr/local/lib/python3.12/dist-packages (from gensim) (7.3.0.post1)\n",
            "Requirement already satisfied: wrapt in /usr/local/lib/python3.12/dist-packages (from smart-open>=1.8.1->gensim) (1.17.3)\n",
            "Downloading gensim-4.3.3-cp312-cp312-manylinux_2_17_x86_64.manylinux2014_x86_64.whl (26.6 MB)\n",
            "\u001b[2K   \u001b[90m━━━━━━━━━━━━━━━━━━━━━━━━━━━━━━━━━━━━━━━━\u001b[0m \u001b[32m26.6/26.6 MB\u001b[0m \u001b[31m85.2 MB/s\u001b[0m eta \u001b[36m0:00:00\u001b[0m\n",
            "\u001b[?25hDownloading numpy-1.26.4-cp312-cp312-manylinux_2_17_x86_64.manylinux2014_x86_64.whl (18.0 MB)\n",
            "\u001b[2K   \u001b[90m━━━━━━━━━━━━━━━━━━━━━━━━━━━━━━━━━━━━━━━━\u001b[0m \u001b[32m18.0/18.0 MB\u001b[0m \u001b[31m110.9 MB/s\u001b[0m eta \u001b[36m0:00:00\u001b[0m\n",
            "\u001b[?25hDownloading scipy-1.13.1-cp312-cp312-manylinux_2_17_x86_64.manylinux2014_x86_64.whl (38.2 MB)\n",
            "\u001b[2K   \u001b[90m━━━━━━━━━━━━━━━━━━━━━━━━━━━━━━━━━━━━━━━━\u001b[0m \u001b[32m38.2/38.2 MB\u001b[0m \u001b[31m15.5 MB/s\u001b[0m eta \u001b[36m0:00:00\u001b[0m\n",
            "\u001b[?25hInstalling collected packages: numpy, scipy, gensim\n",
            "  Attempting uninstall: numpy\n",
            "    Found existing installation: numpy 2.0.2\n",
            "    Uninstalling numpy-2.0.2:\n",
            "      Successfully uninstalled numpy-2.0.2\n",
            "  Attempting uninstall: scipy\n",
            "    Found existing installation: scipy 1.16.1\n",
            "    Uninstalling scipy-1.16.1:\n",
            "      Successfully uninstalled scipy-1.16.1\n",
            "\u001b[31mERROR: pip's dependency resolver does not currently take into account all the packages that are installed. This behaviour is the source of the following dependency conflicts.\n",
            "opencv-contrib-python 4.12.0.88 requires numpy<2.3.0,>=2; python_version >= \"3.9\", but you have numpy 1.26.4 which is incompatible.\n",
            "thinc 8.3.6 requires numpy<3.0.0,>=2.0.0, but you have numpy 1.26.4 which is incompatible.\n",
            "opencv-python 4.12.0.88 requires numpy<2.3.0,>=2; python_version >= \"3.9\", but you have numpy 1.26.4 which is incompatible.\n",
            "tsfresh 0.21.0 requires scipy>=1.14.0; python_version >= \"3.10\", but you have scipy 1.13.1 which is incompatible.\n",
            "opencv-python-headless 4.12.0.88 requires numpy<2.3.0,>=2; python_version >= \"3.9\", but you have numpy 1.26.4 which is incompatible.\u001b[0m\u001b[31m\n",
            "\u001b[0mSuccessfully installed gensim-4.3.3 numpy-1.26.4 scipy-1.13.1\n"
          ]
        },
        {
          "output_type": "display_data",
          "data": {
            "application/vnd.colab-display-data+json": {
              "pip_warning": {
                "packages": [
                  "numpy",
                  "scipy"
                ]
              },
              "id": "40af8ddea2954bffab4a4ec4c55e7873"
            }
          },
          "metadata": {}
        }
      ]
    },
    {
      "cell_type": "code",
      "source": [
        "from IPython.display import clear_output\n",
        "import matplotlib.pyplot as plt\n",
        "import torch\n",
        "import torch.nn as nn\n",
        "from gensim.models import KeyedVectors\n",
        "from gensim.downloader import load\n",
        "w2v_model = load('word2vec-google-news-300')"
      ],
      "metadata": {
        "id": "j_PcNkqEkIPL"
      },
      "execution_count": 99,
      "outputs": []
    },
    {
      "cell_type": "code",
      "execution_count": 100,
      "metadata": {
        "id": "DVgBWPpjpHfe",
        "colab": {
          "base_uri": "https://localhost:8080/",
          "height": 430
        },
        "outputId": "dfa51102-1c8f-4aff-e718-3f5d26290075"
      },
      "outputs": [
        {
          "output_type": "display_data",
          "data": {
            "text/plain": [
              "<Figure size 640x480 with 1 Axes>"
            ],
            "image/png": "[encoded data removed]"
          },
          "metadata": {}
        }
      ],
      "source": [
        "\n",
        "class TextHeadW2V(nn.Module):\n",
        "    def __init__(self, w2v_model, out_dim=128, freeze_embeddings=True):\n",
        "        super().__init__()\n",
        "\n",
        "        vocab_size = len(w2v_model.key_to_index)\n",
        "        emb_dim = w2v_model.vector_size\n",
        "\n",
        "\n",
        "        weights = torch.FloatTensor(w2v_model.vectors)\n",
        "        self.embedding = nn.Embedding.from_pretrained(weights, freeze=freeze_embeddings)\n",
        "\n",
        "        self.conv = nn.Conv1d(emb_dim, out_dim, kernel_size=3)\n",
        "        self.relu = nn.ReLU()\n",
        "        self.bn = nn.BatchNorm1d(out_dim)\n",
        "        self.pool = nn.AdaptiveMaxPool1d(1)\n",
        "\n",
        "    def forward(self, x):\n",
        "\n",
        "        x = self.embedding(x)\n",
        "        x = x.permute(0, 2, 1)\n",
        "        x = self.conv(x)\n",
        "        x = self.relu(x)\n",
        "        x = self.bn(x)\n",
        "        x = self.pool(x)\n",
        "        return x.squeeze(-1)\n",
        "# using same structure\n",
        "class ThreeHeadedModelW2V(nn.Module):\n",
        "    def __init__(self, w2v_model, num_categories=3768, hid_dim=128):\n",
        "        super().__init__()\n",
        "        #\n",
        "        self.desc_head = TextHeadW2V(w2v_model, out_dim=hid_dim)\n",
        "        self.title_head = TextHeadW2V(w2v_model, out_dim=hid_dim)\n",
        "\n",
        "\n",
        "        self.category_head = nn.Sequential(\n",
        "            nn.Linear(num_categories, hid_dim),\n",
        "            nn.ReLU()\n",
        "        )\n",
        "\n",
        "\n",
        "        self.out = nn.Linear(hid_dim * 3, 1)\n",
        "\n",
        "    def forward(self, x_desc, x_title, x_category):\n",
        "        desc_out = self.desc_head(x_desc)\n",
        "        title_out = self.title_head(x_title)\n",
        "        category_out = self.category_head(x_category)\n",
        "        combined = torch.cat([desc_out, title_out, category_out], dim=1)\n",
        "        return self.out(combined).flatten()\n",
        "\n",
        "model_w2v = ThreeHeadedModelW2V(w2v_model, num_categories).to(device)\n",
        "opt = torch.optim.Adam(model_w2v.parameters())\n",
        "criterion = nn.MSELoss()\n",
        "\n",
        "history = []\n",
        "epochs = 5\n",
        "\n",
        "for epoch in range(epochs):\n",
        "    for batch, target in iterate_minibatches(data_train):\n",
        "\n",
        "        x_desc = torch.tensor(batch[\"FullDescription\"], dtype=torch.long, device=device)\n",
        "        x_title = torch.tensor(batch[\"Title\"], dtype=torch.long, device=device)\n",
        "        x_category = torch.tensor(batch[\"Categorical\"], dtype=torch.float, device=device)\n",
        "        target = torch.tensor(target, device=device)\n",
        "\n",
        "        predictions = model_w2v(x_desc, x_title, x_category)\n",
        "        loss = criterion(predictions, target)\n",
        "\n",
        "        opt.zero_grad()\n",
        "        loss.backward()\n",
        "        opt.step()\n",
        "\n",
        "        history.append(loss.item())\n",
        "        if len(history) % 10 == 0:\n",
        "            clear_output(wait=True)\n",
        "            plt.plot(history, label=\"loss\")\n",
        "            plt.legend()\n",
        "            plt.show()"
      ]
    },
    {
      "cell_type": "code",
      "source": [
        "evaluate_model_3headed(model_w2v, data_val, name=\"Val\")"
      ],
      "metadata": {
        "colab": {
          "base_uri": "https://localhost:8080/"
        },
        "id": "aZCKGMDsllXY",
        "outputId": "fbdfb33b-d659-442d-fa07-a5362056f51c"
      },
      "execution_count": 101,
      "outputs": [
        {
          "output_type": "stream",
          "name": "stdout",
          "text": [
            "Results for Val:\n",
            "MSE: 0.07668\n",
            "MAE: 0.20677\n"
          ]
        }
      ]
    }
  ],
  "metadata": {
    "colab": {
      "provenance": [],
      "gpuType": "T4"
    },
    "kernelspec": {
      "display_name": "Python 3",
      "name": "python3"
    },
    "language_info": {
      "name": "python"
    },
    "accelerator": "GPU"
  },
  "nbformat": 4,
  "nbformat_minor": 0
}